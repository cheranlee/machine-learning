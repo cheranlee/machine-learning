{
  "cells": [
    {
      "cell_type": "markdown",
      "metadata": {
        "id": "j8a1vpm-n54-"
      },
      "source": [
        "#### Import Dataset "
      ]
    },
    {
      "cell_type": "code",
      "execution_count": null,
      "metadata": {
        "id": "c2dx7DPkn2mc",
        "colab": {
          "base_uri": "https://localhost:8080/",
          "height": 443,
          "referenced_widgets": [
            "f4229192645341aabf7f8e14844182be",
            "f83cd75538ab4540bcbcc635cf401644",
            "8f32eee4b33d4dd68625ad4516b9bb79",
            "92bfe00be6ad4e09824ee0d90a4ce355",
            "0e6c340b10fe4842acddceba1b3b9915",
            "7a5cd97553ff4978af4d2d28fa5e6aa1",
            "4a0442c7be8a4ac0b598a284f0483bff",
            "183208502cd14226ad33397accfc0a40",
            "0317e7fe69e447d8bcdef81056406f1b",
            "028f349d3c9f4be7857a38ee6f6684f7",
            "6a66e2dc4bee4d72a7d608c44bd99b56",
            "ec4eed78c8664396be63c735b3222f99",
            "29894e35c34d4ac6b316cb1c70450671",
            "5aaed789371847d0911ad1c37bd77e29",
            "1830455889554f49a2c3aff5ebd725a7",
            "38c87053b8634dae956b150ce0d697b6",
            "c073a4ef86ae43e1a39bc870ff7d1c70",
            "9b2209ea82234f35a862acf8d34e3ad0",
            "cc3c756076944571ad7b6f91ffb1c369",
            "6a779f8497c34bfbb200fc2a830c71b5",
            "0f8846b3a4d24bd9bf531b71967ef12b",
            "7f7426a5623e40589e0637f6092ba340",
            "6c18b8443091472b9512f2ad8354a876",
            "ed2554861c7d4e1cba5e995439d6b29c",
            "7dfa53bd509c4bf481c4a65a7be48f01",
            "9ad81801faeb4f389699536e31f6a989",
            "4c6a3a081b544c0db0c955631bacfbc9",
            "41788c2dd0fb45f09c882666138282c3",
            "04f40047f6a8493da21e2c9c9872f1cd",
            "c117227eeef3480aadf4f1ba9e72da46",
            "3e64773b1833463b91c2084be354f432",
            "74206da4a8944bd1b6e0c7dc64ef2a5e",
            "e9c34ab0bdea4439a1aa2e1a3d55802d",
            "0c281003740b434eb0d7898a2735908d",
            "abdfc5355bd74121a7b66e263ca582dc",
            "c778795224474fd6a06514ba294f420d",
            "e4c004493b3d4465846faaed422c0475",
            "f929d1cf5f2048259fda8407f73f6a73",
            "f8a7ddc6940942869087fcf269729162",
            "dde00db2ee3d4976a3cdc5db4b260b65",
            "4b58f6f934a64d0f9b72c3ccc841a787",
            "bc97d73cf659432bb7e97e817df363c9",
            "9185360b7f53444494ce705871351c25",
            "6f11b9b3cb7d4a6fac3f11574cd415d6"
          ]
        },
        "outputId": "abca139f-f322-4282-cbe5-e6b0d737495a"
      },
      "outputs": [
        {
          "output_type": "stream",
          "name": "stdout",
          "text": [
            "Downloading http://yann.lecun.com/exdb/mnist/train-images-idx3-ubyte.gz\n",
            "Downloading http://yann.lecun.com/exdb/mnist/train-images-idx3-ubyte.gz to ./data/MNIST/raw/train-images-idx3-ubyte.gz\n"
          ]
        },
        {
          "output_type": "display_data",
          "data": {
            "text/plain": [
              "  0%|          | 0/9912422 [00:00<?, ?it/s]"
            ],
            "application/vnd.jupyter.widget-view+json": {
              "version_major": 2,
              "version_minor": 0,
              "model_id": "f4229192645341aabf7f8e14844182be"
            }
          },
          "metadata": {}
        },
        {
          "output_type": "stream",
          "name": "stdout",
          "text": [
            "Extracting ./data/MNIST/raw/train-images-idx3-ubyte.gz to ./data/MNIST/raw\n",
            "\n",
            "Downloading http://yann.lecun.com/exdb/mnist/train-labels-idx1-ubyte.gz\n",
            "Downloading http://yann.lecun.com/exdb/mnist/train-labels-idx1-ubyte.gz to ./data/MNIST/raw/train-labels-idx1-ubyte.gz\n"
          ]
        },
        {
          "output_type": "display_data",
          "data": {
            "text/plain": [
              "  0%|          | 0/28881 [00:00<?, ?it/s]"
            ],
            "application/vnd.jupyter.widget-view+json": {
              "version_major": 2,
              "version_minor": 0,
              "model_id": "ec4eed78c8664396be63c735b3222f99"
            }
          },
          "metadata": {}
        },
        {
          "output_type": "stream",
          "name": "stdout",
          "text": [
            "Extracting ./data/MNIST/raw/train-labels-idx1-ubyte.gz to ./data/MNIST/raw\n",
            "\n",
            "Downloading http://yann.lecun.com/exdb/mnist/t10k-images-idx3-ubyte.gz\n",
            "Downloading http://yann.lecun.com/exdb/mnist/t10k-images-idx3-ubyte.gz to ./data/MNIST/raw/t10k-images-idx3-ubyte.gz\n"
          ]
        },
        {
          "output_type": "display_data",
          "data": {
            "text/plain": [
              "  0%|          | 0/1648877 [00:00<?, ?it/s]"
            ],
            "application/vnd.jupyter.widget-view+json": {
              "version_major": 2,
              "version_minor": 0,
              "model_id": "6c18b8443091472b9512f2ad8354a876"
            }
          },
          "metadata": {}
        },
        {
          "output_type": "stream",
          "name": "stdout",
          "text": [
            "Extracting ./data/MNIST/raw/t10k-images-idx3-ubyte.gz to ./data/MNIST/raw\n",
            "\n",
            "Downloading http://yann.lecun.com/exdb/mnist/t10k-labels-idx1-ubyte.gz\n",
            "Downloading http://yann.lecun.com/exdb/mnist/t10k-labels-idx1-ubyte.gz to ./data/MNIST/raw/t10k-labels-idx1-ubyte.gz\n"
          ]
        },
        {
          "output_type": "display_data",
          "data": {
            "text/plain": [
              "  0%|          | 0/4542 [00:00<?, ?it/s]"
            ],
            "application/vnd.jupyter.widget-view+json": {
              "version_major": 2,
              "version_minor": 0,
              "model_id": "0c281003740b434eb0d7898a2735908d"
            }
          },
          "metadata": {}
        },
        {
          "output_type": "stream",
          "name": "stdout",
          "text": [
            "Extracting ./data/MNIST/raw/t10k-labels-idx1-ubyte.gz to ./data/MNIST/raw\n",
            "\n"
          ]
        }
      ],
      "source": [
        "import numpy as np \n",
        "import torch \n",
        "from torchvision import datasets, transforms \n",
        "\n",
        "\n",
        "trainset = datasets.MNIST(root='./data', train = True, download = True, transform = transforms.ToTensor())\n",
        "valset = datasets.MNIST(root = './data', train = True, download = True, transform = transforms.ToTensor())\n",
        "testset = datasets.MNIST(root='./data', train = False, download = True, transform = transforms.ToTensor())\n"
      ]
    },
    {
      "cell_type": "markdown",
      "metadata": {
        "id": "duIwN56tokda"
      },
      "source": [
        "#### Split & Prepare Dataset "
      ]
    },
    {
      "cell_type": "code",
      "execution_count": null,
      "metadata": {
        "id": "RBGdXXsAojGM"
      },
      "outputs": [],
      "source": [
        "val_ratio = 0.1 \n",
        "train_data, val_data = torch.utils.data.random_split(trainset, (int(len(trainset)*(1-val_ratio)), int(len(trainset)*val_ratio)))\n"
      ]
    },
    {
      "cell_type": "markdown",
      "metadata": {
        "id": "VPnGYOG6o0D8"
      },
      "source": [
        "#### Build the 4-Layer CNN \n",
        "consists of 4 convolutional layers and 1 fully connected layer at the end. Each convolutional layer (64 filters of 3x3 kernel size with stride 1 and zero-padding 1) is followed by batch normalisation, relu activation and max pooling (2x2 kernel size with stride 2) "
      ]
    },
    {
      "cell_type": "code",
      "execution_count": null,
      "metadata": {
        "id": "PNZy7Y5PoxuP"
      },
      "outputs": [],
      "source": [
        "import torch.nn as nn \n",
        "\n",
        "class CNN(torch.nn.Module): \n",
        "  def __init__(self): \n",
        "    super(CNN, self).__init__() \n",
        "    self.first_layer = self.layer(1, 64)\n",
        "    self.second_layer = self.layer(64, 64)\n",
        "    self.third_layer = self.layer(64, 64) \n",
        "    self.fourth_layer = self.layer(64, 64) \n",
        "    self.output_layer = nn.Linear(64, 10, device = \"cuda:0\")  # fully - connected layer \n",
        "                                        # out features = 10 classes \n",
        "\n",
        "  # in_channel = 1 as images are black and white \n",
        "  def layer(self, in_channels, out_channels): \n",
        "    device = \"cuda:0\"\n",
        "    cnn_layer = nn.Sequential(\n",
        "        nn.Conv2d(in_channels = in_channels, out_channels = out_channels, kernel_size = 3, stride = 1, padding = 1, padding_mode = 'zeros', device = device), \n",
        "        nn.BatchNorm2d(64, device = device ), \n",
        "        nn.ReLU(),\n",
        "        nn.MaxPool2d(kernel_size=2, stride=2) \n",
        "    )\n",
        "    return cnn_layer \n",
        "\n",
        "  def forward(self, x): \n",
        "    first_layer = self.first_layer(x)\n",
        "    second_layer = self.second_layer(first_layer) \n",
        "    third_layer = self.third_layer(second_layer) \n",
        "    fourth_layer = self.fourth_layer(third_layer)\n",
        "    flattened = torch.flatten(fourth_layer, 1)\n",
        "    out = self.output_layer(flattened)\n",
        "    return out "
      ]
    },
    {
      "cell_type": "code",
      "execution_count": null,
      "metadata": {
        "id": "5MTIq6cPNhX4"
      },
      "outputs": [],
      "source": [
        "def train_function(num_epochs, train_data): \n",
        "  model = CNN()\n",
        "  optimizer = torch.optim.SGD(model.parameters(), lr = 1e-2)\n",
        "  loss_function = torch.nn.CrossEntropyLoss() \n",
        "\n",
        "  batch_losses = [] \n",
        "  epoch_losses = []\n",
        "  for epoch in range(num_epochs): \n",
        "    model = model.train() \n",
        "    train_loader = torch.utils.data.DataLoader(train_data, shuffle = True, batch_size = 64) \n",
        "    # shuffles train data before every epoch \n",
        "    \n",
        "    for count, (input_data, labels) in enumerate(train_loader):  \n",
        "      input_data = input_data.cuda() \n",
        "      labels = labels.cuda() \n",
        "\n",
        "      # feed data into model and calculate loss function \n",
        "      y_pred = model(input_data)  # do not put argmax here! \n",
        "                                  # -- argmax is not differentiable and would not train the model! \n",
        "      loss = loss_function(y_pred, labels)\n",
        "\n",
        "      # backpropagate the calculated loss and update weights \n",
        "      loss.backward() \n",
        "      batch_losses.append(loss)  # keeps track of loss for each batch \n",
        "      optimizer.step() \n",
        "      optimizer.zero_grad() \n",
        "    print('Epoch: {} | Loss: {}\\n'.format(epoch, loss))\n",
        "    epoch_losses.append(loss)\n",
        "  return epoch_losses, batch_losses, model, loss_function \n",
        "    \n"
      ]
    },
    {
      "cell_type": "code",
      "execution_count": null,
      "metadata": {
        "colab": {
          "base_uri": "https://localhost:8080/"
        },
        "id": "Jfh7oJHOR0ju",
        "outputId": "f3772f18-7782-49ea-9b1e-c0afc8a8d000"
      },
      "outputs": [
        {
          "output_type": "stream",
          "name": "stdout",
          "text": [
            "Epoch: 0 | Loss: 0.021788261830806732\n",
            "\n",
            "Epoch: 1 | Loss: 0.08935531228780746\n",
            "\n",
            "Epoch: 2 | Loss: 0.01879276894032955\n",
            "\n",
            "Epoch: 3 | Loss: 0.056504230946302414\n",
            "\n",
            "Epoch: 4 | Loss: 0.02192368172109127\n",
            "\n"
          ]
        }
      ],
      "source": [
        "epoch_losses, batch_losses, trained_model, loss_function = train_function(5, train_data)"
      ]
    },
    {
      "cell_type": "code",
      "source": [
        "# plot graph of loss against batches while model is training \n",
        "import matplotlib.pyplot as plt \n",
        "batch_losses_val_y = [] \n",
        "for ele in batch_losses: \n",
        "  ele.cpu() \n",
        "  batch_losses_val_y.append(ele.item()) \n",
        "plt.plot(batch_losses_val_y) \n",
        "plt.xlabel(\"batches\") \n",
        "plt.ylabel(\"loss\")"
      ],
      "metadata": {
        "colab": {
          "base_uri": "https://localhost:8080/",
          "height": 296
        },
        "id": "Rc-YNW_D9dSo",
        "outputId": "450b7010-1772-4770-b2e1-2e06169eb954"
      },
      "execution_count": null,
      "outputs": [
        {
          "output_type": "execute_result",
          "data": {
            "text/plain": [
              "Text(0, 0.5, 'loss')"
            ]
          },
          "metadata": {},
          "execution_count": 26
        },
        {
          "output_type": "display_data",
          "data": {
            "text/plain": [
              "<Figure size 432x288 with 1 Axes>"
            ],
            "image/png": "[encoded data removed]"
          },
          "metadata": {
            "needs_background": "light"
          }
        }
      ]
    },
    {
      "cell_type": "markdown",
      "metadata": {
        "id": "1TJ0WwS4Y6Qp"
      },
      "source": [
        "#### Feeding Validation data into Trained Model "
      ]
    },
    {
      "cell_type": "code",
      "execution_count": null,
      "metadata": {
        "id": "R0IvzNB_Y4Z4"
      },
      "outputs": [],
      "source": [
        "def test_function(test_data, trained_model, loss_function): \n",
        "  predicted = [] \n",
        "  actual = [] \n",
        "  for count, (input_data, labels) in enumerate(val_data): \n",
        "    input_data = input_data.cuda() \n",
        "    input_data = torch.unsqueeze(input_data, 0)\n",
        "    y_pred = trained_model(input_data) \n",
        "    y = y_pred.tolist() \n",
        "    actual.append(labels)\n",
        "    for i in y: \n",
        "      predicted.append(i.index(max(i)))\n",
        "  return predicted, actual "
      ]
    },
    {
      "cell_type": "code",
      "execution_count": null,
      "metadata": {
        "id": "PvJwdF2OZDky",
        "colab": {
          "base_uri": "https://localhost:8080/"
        },
        "outputId": "6f7b5592-0894-4cf7-d0b7-d614468c0af2"
      },
      "outputs": [
        {
          "output_type": "stream",
          "name": "stdout",
          "text": [
            "[9, 9, 8, 9, 1, 6, 2, 7, 3, 8, 7, 5, 6, 4, 9, 2, 7, 1, 7, 2, 8, 3, 1, 1, 9, 7, 3, 1, 3, 8, 9, 3, 8, 9, 5, 1, 4, 1, 5, 5, 2, 2, 3, 0, 9, 0, 5, 1, 0, 2, 6, 8, 7, 6, 3, 3, 1, 3, 1, 3, 5, 8, 2, 4, 0, 4, 7, 8, 6, 7, 5, 1, 8, 2, 1, 4, 1, 9, 4, 0, 9, 1, 1, 4, 3, 7, 7, 7, 0, 1, 4, 7, 1, 8, 8, 5, 5, 9, 5, 3, 0, 3, 7, 2, 1, 8, 2, 5, 7, 8, 3, 9, 1, 5, 7, 9, 7, 5, 7, 0, 0, 6, 4, 6, 8, 2, 8, 9, 2, 6, 0, 4, 0, 9, 8, 8, 3, 5, 6, 7, 1, 1, 2, 7, 3, 5, 8, 4, 3, 9, 1, 9, 2, 0, 9, 8, 1, 7, 3, 9, 3, 3, 9, 9, 3, 0, 4, 9, 6, 3, 5, 4, 1, 0, 7, 1, 9, 9, 9, 8, 3, 9, 7, 1, 3, 4, 2, 8, 0, 5, 9, 2, 6, 2, 3, 2, 0, 2, 6, 0, 5, 5, 2, 2, 7, 0, 0, 2, 9, 3, 2, 5, 5, 9, 4, 6, 5, 2, 2, 8, 6, 4, 4, 3, 0, 5, 7, 9, 6, 2, 8, 3, 9, 1, 9, 5, 1, 0, 8, 0, 7, 8, 0, 3, 2, 8, 2, 3, 5, 7, 3, 5, 5, 9, 1, 7, 2, 9, 5, 5, 0, 1, 6, 1, 9, 9, 1, 1, 0, 5, 0, 9, 6, 1, 8, 6, 7, 5, 2, 5, 3, 0, 0, 6, 0, 5, 6, 8, 1, 1, 7, 0, 2, 9, 3, 8, 9, 1, 8, 4, 7, 3, 1, 9, 0, 4, 3, 9, 6, 7, 3, 3, 2, 1, 7, 8, 8, 2, 6, 6, 9, 9, 2, 0, 5, 3, 2, 8, 3, 0, 9, 6, 4, 6, 7, 5, 0, 7, 9, 2, 6, 2, 9, 9, 6, 9, 2, 9, 5, 0, 8, 2, 2, 6, 8, 6, 3, 1, 8, 2, 4, 8, 7, 7, 6, 7, 2, 8, 7, 7, 7, 2, 5, 7, 6, 8, 7, 5, 8, 6, 8, 9, 9, 2, 9, 2, 2, 4, 8, 1, 7, 8, 8, 8, 9, 6, 0, 8, 9, 0, 6, 3, 5, 4, 1, 4, 7, 2, 2, 1, 2, 2, 5, 8, 1, 3, 0, 3, 5, 5, 3, 2, 5, 7, 2, 6, 5, 5, 2, 9, 8, 9, 4, 5, 5, 6, 0, 9, 9, 6, 4, 7, 2, 0, 3, 3, 2, 9, 4, 4, 4, 6, 2, 3, 3, 0, 3, 6, 1, 8, 1, 4, 1, 4, 2, 4, 1, 3, 0, 7, 8, 7, 8, 4, 6, 9, 9, 9, 4, 9, 8, 8, 1, 7, 1, 2, 5, 4, 8, 4, 2, 4, 6, 8, 3, 8, 4, 2, 0, 6, 3, 8, 4, 4, 1, 1, 9, 7, 0, 6, 7, 2, 4, 8, 4, 8, 5, 6, 3, 9, 4, 0, 2, 8, 9, 3, 4, 2, 9, 2, 2, 7, 8, 3, 9, 5, 9, 2, 6, 9, 3, 9, 8, 6, 1, 4, 5, 0, 1, 1, 9, 2, 7, 3, 2, 0, 0, 0, 7, 0, 8, 3, 6, 2, 2, 7, 5, 6, 6, 9, 6, 9, 3, 6, 1, 6, 1, 6, 4, 3, 4, 9, 3, 3, 4, 4, 6, 4, 9, 4, 3, 0, 8, 9, 0, 0, 0, 8, 4, 2, 9, 0, 3, 3, 8, 7, 2, 4, 1, 9, 9, 3, 7, 1, 3, 9, 4, 2, 6, 9, 3, 3, 6, 9, 6, 5, 9, 2, 5, 8, 2, 9, 0, 2, 8, 0, 1, 8, 9, 2, 9, 3, 5, 6, 1, 3, 1, 4, 3, 6, 8, 5, 1, 8, 3, 1, 8, 8, 4, 7, 8, 9, 3, 4, 3, 7, 1, 0, 9, 2, 8, 3, 6, 8, 9, 8, 4, 3, 9, 7, 9, 9, 3, 2, 7, 6, 4, 4, 0, 4, 5, 5, 9, 5, 0, 1, 8, 7, 1, 6, 1, 2, 4, 6, 2, 3, 4, 7, 5, 4, 5, 3, 8, 9, 2, 3, 6, 0, 7, 0, 1, 8, 5, 1, 3, 4, 6, 0, 0, 7, 9, 8, 3, 2, 2, 1, 1, 7, 5, 5, 7, 3, 2, 5, 9, 5, 7, 9, 4, 1, 7, 4, 6, 4, 7, 5, 2, 2, 1, 7, 5, 4, 7, 2, 0, 9, 4, 0, 0, 9, 9, 1, 6, 0, 1, 0, 3, 6, 7, 6, 4, 5, 3, 0, 2, 7, 5, 6, 9, 6, 9, 7, 1, 9, 3, 0, 1, 4, 5, 9, 6, 9, 2, 6, 6, 7, 5, 8, 9, 2, 9, 1, 3, 0, 4, 0, 7, 0, 3, 5, 9, 5, 0, 2, 3, 0, 6, 2, 4, 8, 2, 2, 6, 2, 4, 3, 2, 6, 5, 7, 4, 6, 1, 7, 4, 9, 8, 7, 0, 0, 9, 1, 3, 7, 0, 6, 0, 4, 4, 4, 0, 0, 7, 2, 2, 2, 0, 9, 4, 6, 9, 4, 6, 4, 2, 9, 4, 8, 7, 9, 9, 5, 5, 5, 2, 2, 7, 2, 2, 7, 9, 4, 4, 8, 7, 1, 5, 3, 2, 7, 6, 9, 9, 6, 0, 9, 6, 2, 6, 0, 3, 8, 1, 6, 9, 3, 5, 5, 1, 0, 0, 2, 6, 9, 1, 2, 6, 5, 8, 3, 2, 2, 2, 9, 6, 9, 2, 6, 1, 8, 4, 5, 8, 1, 3, 0, 0, 9, 3, 2, 9, 5, 3, 5, 0, 1, 3, 6, 0, 7, 3, 5, 7, 5, 8, 7, 1, 8, 3, 2, 6, 7, 9, 9, 3, 6, 6, 6, 1, 5, 2, 6, 8, 8, 5, 4, 5, 7, 0, 4, 6, 0, 6, 7, 3, 8, 2, 5, 6, 9, 7, 2, 1, 1, 2, 6, 0, 0, 0, 0, 2, 8, 9, 3, 2, 2, 3, 3, 7, 9, 6, 7, 6, 0, 3, 0, 2, 2, 0, 5, 5, 4, 2, 4, 9, 4, 8, 2, 8, 1, 8, 8, 6, 8, 1, 0, 1, 6, 3, 0, 3, 8, 2, 8, 6, 1, 7, 2, 3, 1, 6, 6, 3, 6, 5, 0, 2, 9, 2, 1, 4, 9, 3, 8, 9, 5, 6, 5, 4, 2, 8, 2, 3, 6, 3, 8, 0, 8, 8, 6, 4, 7, 3, 5, 9, 1, 0, 5, 5, 7, 5, 9, 0, 0, 0, 9, 0, 2, 1, 6, 9, 7, 5, 5, 7, 1, 5, 6, 4, 3, 0, 7, 3, 7, 1, 2, 8, 6, 8, 6, 8, 1, 9, 0, 2, 8, 4, 7, 9, 1, 8, 3, 9, 2, 7, 9, 3, 7, 7, 5, 9, 8, 6, 3, 6, 1, 7, 3, 5, 5, 0, 3, 0, 5, 0, 7, 3, 4, 5, 3, 6, 8, 1, 6, 1, 2, 5, 5, 3, 5, 9, 3, 9, 3, 8, 0, 8, 2, 7, 8, 7, 3, 5, 9, 6, 7, 3, 2, 2, 9, 4, 1, 5, 5, 1, 1, 2, 8, 7, 9, 8, 8, 3, 3, 9, 5, 1, 9, 6, 2, 0, 5, 7, 7, 2, 9, 3, 5, 3, 1, 4, 1, 4, 6, 0, 2, 8, 3, 3, 9, 9, 3, 9, 5, 4, 1, 4, 5, 6, 2, 8, 5, 1, 0, 6, 8, 2, 5, 0, 0, 1, 7, 5, 1, 1, 3, 5, 2, 9, 9, 3, 2, 4, 6, 6, 6, 9, 3, 4, 0, 8, 6, 2, 8, 3, 8, 0, 0, 8, 1, 4, 4, 7, 7, 2, 7, 9, 4, 7, 5, 2, 6, 9, 4, 9, 1, 4, 2, 5, 1, 5, 5, 3, 8, 6, 8, 3, 8, 5, 5, 7, 8, 5, 3, 0, 2, 8, 2, 1, 0, 6, 2, 9, 3, 9, 5, 9, 5, 6, 9, 5, 8, 0, 1, 8, 3, 5, 6, 4, 4, 6, 6, 8, 0, 8, 8, 7, 1, 4, 7, 9, 9, 4, 9, 3, 6, 1, 9, 4, 5, 2, 4, 9, 1, 2, 7, 8, 4, 7, 8, 5, 2, 9, 8, 4, 7, 2, 3, 1, 5, 9, 7, 6, 5, 6, 4, 2, 0, 2, 9, 1, 3, 4, 9, 3, 0, 3, 8, 7, 0, 3, 7, 0, 7, 2, 3, 7, 9, 6, 8, 7, 4, 6, 0, 6, 8, 0, 8, 7, 9, 8, 0, 7, 2, 7, 9, 2, 9, 7, 0, 9, 0, 9, 0, 8, 8, 3, 3, 9, 5, 1, 1, 9, 9, 4, 3, 3, 2, 3, 5, 0, 2, 2, 2, 8, 4, 2, 8, 7, 6, 3, 0, 2, 2, 8, 1, 8, 9, 1, 2, 4, 4, 5, 8, 7, 1, 5, 7, 9, 8, 3, 9, 5, 9, 6, 2, 0, 3, 4, 8, 5, 3, 2, 7, 6, 1, 3, 9, 0, 8, 0, 2, 0, 0, 5, 7, 8, 6, 2, 9, 4, 7, 5, 8, 5, 9, 7, 2, 9, 2, 3, 5, 3, 9, 3, 8, 5, 4, 3, 7, 1, 8, 3, 0, 4, 3, 0, 0, 9, 0, 4, 3, 4, 2, 0, 0, 8, 3, 6, 1, 2, 5, 9, 9, 2, 7, 4, 6, 0, 8, 1, 8, 2, 1, 8, 5, 3, 9, 5, 1, 1, 2, 5, 8, 1, 5, 7, 6, 2, 9, 5, 3, 9, 0, 3, 9, 7, 1, 9, 0, 0, 2, 4, 8, 8, 9, 7, 0, 9, 2, 5, 2, 9, 6, 6, 6, 9, 4, 1, 7, 7, 0, 7, 5, 2, 5, 0, 6, 9, 9, 1, 3, 2, 2, 2, 6, 5, 3, 1, 4, 1, 2, 4, 3, 6, 9, 0, 2, 0, 6, 2, 7, 3, 2, 9, 9, 6, 0, 2, 4, 0, 3, 6, 3, 3, 2, 8, 5, 7, 3, 5, 8, 2, 1, 4, 9, 9, 0, 9, 6, 9, 1, 8, 1, 9, 3, 6, 6, 4, 9, 6, 2, 4, 7, 7, 4, 3, 1, 7, 7, 9, 0, 2, 0, 0, 8, 5, 3, 8, 9, 4, 7, 6, 2, 7, 5, 2, 3, 0, 1, 8, 4, 2, 2, 8, 0, 3, 5, 5, 9, 1, 1, 1, 9, 2, 9, 6, 9, 4, 4, 9, 6, 9, 9, 3, 3, 5, 1, 6, 4, 2, 9, 9, 6, 9, 1, 8, 1, 2, 0, 2, 1, 7, 2, 6, 4, 3, 4, 3, 7, 7, 7, 6, 9, 5, 0, 4, 9, 5, 9, 1, 5, 8, 9, 5, 1, 7, 6, 7, 0, 3, 5, 4, 3, 6, 7, 3, 2, 0, 2, 0, 8, 6, 1, 4, 6, 2, 6, 9, 4, 7, 1, 8, 3, 1, 1, 9, 3, 6, 4, 9, 6, 1, 3, 9, 3, 1, 2, 0, 8, 7, 7, 2, 6, 2, 1, 1, 0, 0, 0, 9, 5, 3, 3, 0, 2, 6, 3, 0, 5, 5, 3, 3, 5, 8, 5, 6, 9, 7, 4, 2, 3, 8, 0, 1, 9, 8, 7, 3, 0, 0, 2, 0, 5, 7, 2, 2, 3, 2, 2, 1, 6, 8, 6, 4, 8, 6, 5, 9, 2, 5, 5, 2, 0, 3, 9, 5, 0, 1, 2, 2, 8, 5, 4, 1, 8, 7, 0, 2, 9, 6, 9, 8, 9, 1, 4, 7, 3, 8, 0, 0, 2, 3, 3, 2, 3, 5, 2, 6, 8, 2, 3, 0, 8, 3, 0, 6, 3, 6, 9, 1, 5, 9, 5, 5, 1, 8, 4, 6, 1, 2, 4, 8, 5, 5, 5, 7, 8, 4, 1, 4, 4, 5, 0, 2, 0, 8, 5, 8, 5, 5, 6, 7, 1, 9, 2, 3, 8, 2, 1, 6, 0, 8, 2, 0, 8, 9, 6, 4, 3, 3, 5, 4, 5, 2, 8, 9, 9, 2, 2, 8, 6, 9, 3, 1, 5, 9, 2, 1, 1, 4, 1, 9, 0, 7, 5, 4, 5, 9, 0, 9, 0, 9, 2, 5, 5, 9, 2, 9, 3, 2, 9, 8, 6, 6, 8, 1, 6, 1, 7, 9, 4, 2, 6, 5, 5, 9, 7, 1, 0, 8, 0, 7, 4, 0, 6, 2, 0, 9, 3, 0, 7, 3, 2, 2, 7, 4, 4, 9, 9, 4, 9, 2, 9, 8, 8, 1, 1, 6, 7, 1, 4, 5, 3, 9, 7, 7, 0, 7, 5, 0, 9, 4, 8, 8, 5, 1, 6, 8, 1, 6, 8, 8, 3, 3, 9, 4, 7, 5, 9, 7, 7, 2, 6, 3, 7, 3, 8, 4, 1, 6, 0, 2, 1, 2, 4, 8, 3, 0, 0, 3, 9, 5, 3, 8, 3, 8, 1, 2, 0, 2, 2, 5, 4, 5, 7, 0, 4, 4, 2, 2, 4, 1, 2, 2, 6, 9, 9, 9, 0, 4, 5, 9, 0, 9, 9, 0, 8, 5, 5, 8, 4, 4, 9, 0, 5, 9, 9, 5, 0, 1, 6, 7, 6, 0, 1, 2, 9, 8, 2, 8, 2, 9, 9, 3, 5, 5, 7, 8, 6, 6, 4, 1, 4, 3, 8, 2, 5, 7, 2, 6, 1, 7, 2, 6, 6, 2, 5, 7, 5, 2, 8, 2, 7, 0, 8, 1, 3, 4, 7, 3, 7, 0, 9, 9, 2, 1, 4, 5, 3, 9, 2, 1, 3, 8, 6, 9, 9, 7, 7, 9, 3, 8, 0, 9, 9, 0, 9, 0, 8, 8, 1, 4, 1, 8, 3, 7, 7, 2, 7, 5, 3, 7, 6, 1, 8, 3, 9, 5, 3, 8, 6, 0, 7, 9, 2, 8, 3, 2, 3, 3, 8, 0, 2, 0, 0, 1, 0, 5, 9, 8, 5, 7, 5, 3, 8, 1, 3, 1, 3, 7, 7, 4, 6, 8, 8, 6, 9, 1, 4, 3, 0, 9, 3, 5, 3, 8, 2, 8, 7, 3, 8, 5, 8, 6, 0, 3, 3, 7, 6, 9, 9, 1, 5, 9, 8, 7, 5, 1, 2, 7, 8, 4, 9, 7, 3, 6, 9, 6, 8, 7, 2, 7, 4, 0, 3, 7, 2, 7, 3, 5, 8, 7, 3, 0, 7, 2, 9, 7, 9, 6, 2, 3, 6, 7, 5, 4, 5, 3, 0, 9, 8, 7, 8, 7, 0, 4, 2, 8, 9, 1, 5, 8, 0, 4, 4, 3, 9, 5, 1, 0, 7, 8, 8, 2, 9, 8, 3, 5, 8, 6, 9, 1, 2, 7, 8, 6, 7, 1, 4, 6, 3, 9, 2, 4, 6, 6, 0, 7, 8, 0, 8, 3, 6, 2, 2, 9, 0, 4, 6, 6, 9, 5, 0, 2, 5, 3, 2, 8, 8, 3, 4, 6, 8, 7, 1, 1, 6, 6, 9, 7, 6, 6, 5, 4, 3, 0, 0, 8, 8, 1, 8, 3, 9, 4, 0, 1, 1, 6, 6, 5, 2, 6, 2, 8, 0, 2, 4, 4, 6, 7, 8, 8, 8, 0, 9, 2, 7, 4, 3, 6, 0, 3, 3, 1, 9, 5, 9, 5, 1, 5, 8, 7, 9, 2, 9, 3, 7, 4, 4, 7, 7, 0, 4, 5, 0, 9, 3, 4, 5, 5, 2, 3, 2, 7, 1, 1, 3, 4, 2, 1, 4, 4, 1, 9, 9, 2, 3, 2, 6, 6, 5, 6, 2, 9, 4, 3, 3, 8, 1, 8, 6, 2, 8, 7, 3, 1, 5, 3, 5, 2, 5, 1, 6, 1, 5, 9, 1, 9, 3, 5, 3, 3, 2, 7, 4, 2, 9, 7, 1, 8, 7, 3, 2, 2, 2, 9, 6, 4, 2, 2, 9, 8, 2, 4, 8, 9, 5, 3, 4, 2, 3, 2, 6, 3, 9, 5, 0, 5, 4, 0, 1, 7, 3, 0, 8, 5, 1, 2, 9, 7, 2, 5, 5, 2, 5, 6, 4, 0, 7, 7, 9, 2, 0, 5, 5, 9, 8, 1, 0, 9, 6, 3, 2, 1, 5, 0, 0, 3, 9, 3, 1, 0, 5, 4, 3, 3, 2, 9, 0, 2, 4, 8, 3, 2, 0, 2, 3, 3, 5, 8, 5, 6, 9, 9, 1, 9, 4, 3, 2, 7, 7, 1, 4, 6, 6, 9, 5, 6, 4, 9, 5, 9, 6, 6, 8, 0, 9, 3, 1, 6, 5, 8, 1, 0, 1, 6, 3, 5, 5, 1, 4, 9, 6, 4, 2, 2, 6, 6, 6, 4, 8, 2, 4, 2, 6, 2, 0, 7, 9, 5, 4, 6, 0, 5, 7, 7, 7, 2, 7, 9, 9, 6, 0, 4, 5, 0, 6, 7, 0, 7, 1, 7, 9, 9, 6, 4, 9, 9, 0, 5, 2, 9, 0, 3, 8, 4, 3, 8, 4, 6, 5, 2, 9, 6, 0, 0, 7, 2, 5, 9, 6, 8, 5, 4, 8, 7, 1, 8, 7, 5, 1, 2, 5, 1, 9, 4, 1, 9, 8, 9, 4, 7, 1, 4, 1, 6, 3, 3, 6, 7, 5, 5, 2, 5, 2, 4, 7, 2, 5, 2, 4, 4, 6, 8, 7, 8, 2, 3, 0, 0, 7, 3, 3, 3, 5, 4, 3, 4, 5, 2, 8, 8, 4, 8, 4, 2, 8, 7, 2, 3, 8, 0, 5, 0, 1, 1, 9, 2, 2, 8, 9, 5, 9, 6, 4, 3, 5, 0, 1, 6, 8, 8, 3, 1, 3, 8, 0, 5, 0, 6, 9, 5, 4, 4, 9, 5, 5, 8, 0, 2, 4, 7, 8, 7, 9, 3, 1, 8, 6, 6, 7, 4, 9, 9, 0, 4, 6, 7, 3, 8, 8, 2, 6, 8, 5, 6, 1, 6, 9, 5, 6, 4, 4, 5, 9, 2, 7, 2, 4, 7, 1, 4, 3, 7, 5, 3, 2, 6, 0, 6, 6, 0, 5, 5, 0, 6, 9, 6, 6, 7, 2, 7, 5, 6, 6, 3, 2, 4, 6, 3, 0, 9, 1, 0, 5, 4, 9, 7, 2, 6, 3, 9, 0, 8, 1, 9, 4, 0, 0, 3, 7, 0, 7, 2, 0, 9, 8, 7, 8, 5, 7, 7, 8, 9, 6, 7, 8, 4, 3, 9, 7, 1, 9, 0, 3, 6, 1, 3, 4, 3, 7, 3, 8, 1, 5, 8, 8, 0, 1, 7, 3, 5, 8, 6, 0, 8, 6, 4, 9, 6, 5, 3, 6, 9, 8, 3, 5, 8, 8, 3, 4, 2, 1, 0, 0, 7, 3, 6, 5, 6, 3, 8, 0, 2, 2, 9, 2, 3, 4, 5, 7, 3, 9, 4, 0, 0, 6, 0, 2, 6, 3, 4, 0, 0, 5, 3, 1, 5, 3, 5, 6, 5, 4, 2, 3, 6, 0, 5, 7, 2, 2, 9, 6, 3, 4, 4, 1, 7, 3, 7, 3, 8, 6, 0, 5, 0, 5, 8, 9, 2, 2, 3, 2, 8, 2, 9, 1, 9, 2, 5, 1, 0, 0, 6, 3, 9, 4, 3, 1, 0, 5, 8, 0, 5, 5, 0, 0, 6, 9, 3, 9, 8, 3, 7, 1, 6, 7, 8, 7, 8, 9, 9, 7, 9, 5, 1, 9, 8, 6, 5, 5, 7, 7, 6, 2, 6, 5, 5, 2, 6, 8, 2, 8, 6, 9, 1, 6, 5, 3, 3, 7, 8, 9, 0, 7, 8, 8, 3, 3, 0, 7, 4, 7, 6, 7, 8, 8, 4, 3, 9, 3, 2, 7, 0, 8, 9, 8, 1, 5, 3, 4, 3, 3, 8, 8, 3, 2, 8, 3, 6, 3, 0, 6, 3, 5, 0, 7, 0, 2, 7, 4, 5, 7, 7, 8, 7, 3, 8, 8, 7, 4, 1, 3, 5, 6, 9, 2, 7, 4, 5, 5, 2, 9, 5, 5, 2, 7, 7, 2, 4, 2, 4, 0, 6, 0, 6, 4, 4, 2, 7, 9, 7, 9, 0, 7, 2, 4, 5, 8, 4, 1, 4, 3, 8, 4, 6, 8, 8, 4, 3, 6, 8, 2, 3, 1, 9, 9, 4, 7, 9, 4, 7, 5, 4, 1, 9, 7, 8, 6, 0, 2, 0, 4, 1, 8, 4, 1, 0, 1, 8, 9, 2, 0, 1, 3, 1, 8, 7, 4, 1, 8, 2, 2, 8, 8, 7, 3, 6, 3, 4, 4, 1, 4, 3, 7, 0, 9, 0, 5, 4, 9, 5, 3, 6, 9, 9, 5, 0, 3, 0, 0, 2, 5, 4, 6, 5, 5, 4, 7, 7, 8, 8, 5, 0, 9, 9, 8, 9, 0, 3, 3, 0, 0, 0, 5, 2, 9, 7, 8, 6, 8, 4, 8, 3, 7, 3, 5, 3, 7, 6, 1, 0, 5, 0, 6, 8, 3, 0, 1, 5, 1, 8, 7, 9, 8, 0, 0, 4, 3, 0, 7, 6, 5, 3, 4, 4, 0, 3, 9, 0, 0, 9, 6, 1, 6, 2, 7, 1, 4, 0, 8, 7, 8, 3, 0, 1, 7, 4, 9, 5, 6, 0, 1, 3, 6, 1, 8, 5, 5, 7, 3, 7, 7, 3, 5, 7, 3, 4, 0, 4, 0, 9, 9, 1, 5, 4, 1, 7, 4, 8, 7, 0, 4, 3, 9, 4, 2, 7, 1, 2, 9, 5, 0, 3, 9, 4, 0, 2, 5, 2, 7, 8, 8, 1, 9, 2, 8, 8, 2, 5, 5, 7, 0, 9, 5, 6, 3, 9, 0, 0, 2, 2, 5, 0, 1, 3, 0, 2, 7, 1, 0, 6, 2, 4, 4, 5, 3, 1, 5, 6, 7, 3, 5, 8, 8, 5, 8, 8, 4, 2, 6, 1, 5, 1, 7, 9, 7, 0, 0, 0, 1, 5, 0, 9, 9, 1, 3, 0, 8, 4, 6, 5, 4, 1, 4, 0, 2, 8, 9, 8, 2, 3, 4, 7, 0, 3, 7, 4, 1, 0, 9, 5, 2, 1, 2, 3, 1, 3, 2, 4, 0, 2, 0, 5, 9, 6, 1, 7, 1, 3, 7, 6, 9, 9, 3, 4, 7, 6, 3, 0, 7, 3, 8, 7, 9, 3, 6, 4, 3, 0, 1, 0, 7, 5, 6, 7, 4, 8, 0, 5, 2, 5, 5, 4, 0, 4, 5, 1, 6, 7, 8, 3, 7, 0, 9, 4, 6, 1, 9, 1, 2, 5, 9, 1, 9, 3, 0, 5, 3, 6, 8, 8, 3, 9, 1, 4, 7, 0, 2, 0, 2, 8, 2, 6, 0, 4, 2, 2, 6, 3, 3, 4, 7, 8, 0, 5, 9, 5, 4, 4, 2, 5, 1, 4, 5, 0, 0, 4, 4, 4, 5, 6, 3, 1, 2, 1, 5, 0, 6, 9, 4, 2, 0, 2, 5, 7, 2, 4, 9, 3, 9, 8, 1, 7, 8, 3, 9, 1, 4, 7, 1, 8, 9, 3, 3, 4, 4, 6, 4, 6, 8, 2, 8, 0, 7, 8, 8, 9, 7, 8, 6, 0, 8, 9, 9, 6, 4, 1, 9, 4, 5, 3, 7, 1, 1, 3, 9, 1, 7, 4, 0, 7, 8, 3, 3, 9, 0, 5, 2, 1, 6, 1, 4, 3, 2, 0, 5, 3, 2, 2, 6, 2, 6, 2, 9, 5, 8, 6, 9, 0, 9, 0, 2, 8, 1, 3, 6, 9, 8, 5, 8, 2, 2, 7, 5, 6, 2, 3, 0, 4, 8, 6, 5, 8, 9, 9, 3, 0, 2, 5, 9, 7, 1, 8, 4, 2, 3, 2, 9, 7, 5, 8, 0, 9, 8, 7, 6, 0, 9, 7, 6, 0, 8, 8, 4, 1, 8, 3, 1, 9, 2, 1, 6, 9, 4, 9, 4, 8, 1, 7, 7, 4, 2, 2, 5, 2, 7, 5, 1, 2, 3, 8, 5, 8, 4, 6, 3, 3, 1, 6, 6, 7, 6, 8, 9, 5, 6, 1, 8, 5, 9, 2, 6, 3, 2, 7, 0, 1, 0, 0, 6, 0, 2, 5, 4, 3, 5, 1, 9, 4, 3, 0, 9, 3, 7, 3, 8, 0, 8, 0, 4, 0, 7, 3, 1, 5, 6, 9, 7, 2, 6, 6, 6, 8, 6, 7, 0, 9, 2, 8, 6, 3, 3, 5, 8, 2, 9, 7, 2, 2, 5, 6, 0, 9, 3, 5, 0, 5, 0, 2, 3, 3, 6, 7, 1, 7, 6, 3, 8, 1, 7, 9, 8, 9, 3, 1, 0, 8, 0, 8, 5, 7, 1, 7, 4, 1, 1, 8, 8, 5, 9, 5, 3, 2, 4, 9, 6, 4, 9, 3, 8, 5, 0, 6, 8, 5, 3, 8, 2, 7, 2, 8, 4, 9, 0, 7, 4, 7, 4, 0, 2, 2, 7, 0, 5, 7, 0, 5, 4, 9, 9, 6, 6, 6, 5, 3, 8, 0, 5, 6, 0, 0, 6, 3, 7, 7, 0, 6, 4, 8, 6, 5, 4, 8, 1, 9, 4, 9, 1, 2, 8, 6, 8, 4, 2, 8, 5, 4, 3, 7, 3, 1, 1, 5, 6, 7, 6, 3, 2, 5, 2, 4, 9, 7, 4, 9, 6, 9, 1, 6, 5, 2, 6, 7, 2, 4, 3, 8, 4, 2, 0, 3, 9, 0, 6, 8, 1, 0, 2, 1, 7, 5, 8, 0, 9, 1, 7, 9, 6, 8, 7, 5, 6, 9, 2, 1, 7, 6, 2, 6, 8, 3, 4, 1, 3, 8, 7, 5, 8, 4, 6, 8, 3, 3, 3, 0, 9, 3, 7, 5, 5, 2, 2, 4, 7, 1, 9, 0, 9, 8, 3, 5, 1, 0, 3, 7, 3, 9, 0, 9, 1, 7, 7, 9, 3, 4, 5, 1, 8, 9, 8, 6, 3, 4, 5, 9, 8, 3, 2, 3, 8, 0, 3, 7, 6, 9, 8, 9, 4, 6, 3, 4, 5, 1, 0, 1, 9, 3, 0, 1, 8, 7, 6, 0, 9, 9, 4, 7, 4, 4, 5, 8, 3, 3, 1, 4, 0, 9, 2, 9, 3, 6, 7, 7, 6, 1, 9, 6, 4, 2, 8, 9, 0, 9, 5, 3, 0, 4, 0, 8, 2, 4, 9, 2, 9, 7, 7, 2, 7, 9, 7, 1, 9, 8, 3, 6, 6, 9, 3, 5, 2, 0, 0, 7, 5, 9, 6, 2, 0, 0, 7, 0, 8, 6, 3, 6, 9, 7, 0, 4, 1, 8, 0, 6, 2, 2, 6, 3, 3, 5, 1, 1, 5, 7, 9, 5, 0, 8, 9, 7, 1, 1, 9, 3, 8, 3, 1, 1, 2, 4, 8, 6, 2, 7, 3, 4, 1, 2, 6, 0, 3, 7, 2, 8, 1, 8, 6, 3, 9, 5, 4, 6, 3, 5, 8, 4, 9, 0, 5, 8, 5, 8, 9, 3, 1, 0, 7, 7, 3, 1, 1, 6, 8, 7, 3, 6, 8, 6, 4, 4, 9, 1, 1, 5, 1, 8, 2, 6, 4, 9, 0, 8, 7, 4, 0, 0, 2, 0, 8, 7, 4, 6, 5, 2, 4, 3, 4, 0, 4, 7, 7, 5, 8, 6, 7, 8, 6, 1, 2, 8, 0, 2, 9, 9, 2, 7, 7, 2, 7, 4, 1, 2, 8, 2, 0, 6, 1, 3, 9, 4, 3, 6, 3, 0, 4, 9, 4, 3, 8, 8, 3, 1, 2, 9, 6, 3, 9, 7, 3, 8, 5, 8, 6, 3, 3, 6, 1, 3, 1, 8, 8, 8, 2, 9, 9, 1, 9, 2, 4, 8, 4, 0, 2, 9, 6, 3, 4, 9, 2, 3, 7, 6, 6, 0, 5, 9, 3, 2, 6, 6, 8, 7, 2, 8, 5, 5, 1, 0, 2, 3, 8, 1, 1, 9, 4, 7, 9, 4, 9, 9, 8, 9, 5, 1, 9, 7, 2, 0, 0, 8, 9, 5, 9, 3, 7, 9, 8, 6, 5, 6, 2, 7, 9, 9, 2, 3, 9, 1, 8, 7, 6, 0, 5, 3, 7, 5, 0, 4, 7, 3, 8, 6, 7, 0, 3, 1, 3, 2, 5, 1, 4, 2, 0, 1, 8, 6, 9, 0, 2, 3, 9, 8, 7, 5, 4, 2, 2, 9, 1, 0, 0, 3, 2, 9, 2, 4, 8, 9, 2, 4, 5, 6, 9, 5, 5, 0, 4, 9, 2, 9, 5, 6, 8, 0, 0, 9, 0, 1, 9, 0, 0, 2, 7, 4, 2, 0, 2, 2, 7, 2, 7, 9, 9, 0, 1, 0, 0, 9, 9, 4, 0, 3, 2, 6, 6, 6, 5, 1, 1, 7, 2, 7, 2, 0, 5, 0, 0, 9, 5, 8, 6, 3, 3, 5, 0, 7, 0, 1, 5, 3, 8, 8, 9, 8, 3, 7, 7, 8, 7, 0, 3, 3, 6, 6, 3, 7, 5, 2, 7, 8, 4, 6, 6, 6, 7, 6, 1, 1, 7, 0, 1, 8, 4, 5, 5, 9, 2, 4, 0, 6, 4, 0, 8, 1, 5, 6, 3, 1, 7, 7, 7, 0, 5, 5, 1, 2, 9, 5, 5, 7, 4, 9, 7, 5, 2, 1, 5, 8, 5, 8, 2, 8, 7, 6, 6, 9, 3, 8, 0, 8, 5, 1, 4, 2, 3, 0, 6, 5, 1, 9, 2, 1, 4, 2, 2, 8, 6, 9, 8, 7, 3, 8, 9, 4, 0, 3, 4, 6, 1, 0, 7, 0, 1, 1, 9, 2, 0, 4, 7, 2, 6, 9, 8, 3, 8, 5, 5, 0, 3, 9, 3, 2, 0, 2, 3, 8, 4, 9, 6, 8, 4, 9, 3, 4, 7, 9, 3, 6, 0, 6, 4, 3, 6, 0, 5, 6, 1, 4, 4, 3, 2, 7, 1, 7, 8, 6, 1, 0, 1, 4, 5, 4, 9, 8, 0, 0, 7, 3, 3, 9, 5, 5, 8, 4, 5, 3, 1, 5, 2, 3, 9, 3, 8, 5, 7, 1, 8, 5, 1, 8, 0, 8, 3, 9, 5, 8, 7, 5, 9, 2, 4, 8, 8, 7, 8, 8, 2, 2, 0, 4, 9, 4, 1, 2, 2, 1, 5, 6, 8, 0, 9, 0, 7, 2, 8, 8, 0, 3, 8, 3, 1, 4, 7, 5, 8, 8, 0, 8, 3, 3, 2, 5, 9, 8, 1, 8, 1, 7, 3, 1, 1, 8, 7, 8, 0, 6, 6, 1, 1, 6, 4, 2, 0, 1, 4, 4, 8, 9, 2, 9, 9, 3, 9, 6, 4, 7, 2, 5, 6, 8, 8, 8, 2, 4, 7, 0, 2, 1, 9, 2, 4, 8, 2, 2, 8, 8, 6, 3, 5, 5, 0, 8, 9, 0, 4, 1, 9, 9, 7, 9, 0, 7, 2, 9, 0, 4, 1, 1, 4, 1, 7, 8, 6, 1, 4, 6, 8, 5, 2, 3, 3, 0, 2, 8, 2, 8, 3, 6, 9, 2, 0, 3, 6, 3, 7, 7, 4, 6, 5, 1, 7, 4, 9, 1, 6, 1, 7, 7, 9, 1, 0, 0, 2, 2, 9, 9, 6, 6, 4, 2, 9, 5, 5, 1, 8, 9, 4, 9, 3, 0, 8, 7, 4, 4, 4, 9, 4, 3, 1, 5, 6, 1, 7, 6, 1, 2, 9, 7, 9, 6, 7, 9, 1, 3, 6, 4, 4, 2, 9, 8, 6, 4, 6, 3, 1, 2, 5, 5, 4, 0, 8, 6, 1, 9, 4, 3, 3, 2, 0, 6, 3, 6, 4, 6, 5, 9, 0, 6, 2, 0, 4, 7, 0, 6, 9, 8, 5, 5, 0, 2, 6, 1, 4, 9, 0, 9, 6, 9, 0, 3, 3, 3, 8, 8, 2, 9, 1, 8, 8, 6, 6, 6, 8, 9, 5, 3, 9, 9, 1, 2, 0, 7, 1, 2, 8, 4, 5, 0, 5, 9, 5, 1, 3, 1, 5, 2, 4, 1, 7, 3, 9, 3, 6, 7, 2, 3, 4, 8, 3, 7, 6, 0, 2, 7, 5, 6, 9, 9, 7, 8, 0, 6, 5, 9, 0, 0, 1, 1, 2, 7, 3, 0, 5, 7, 9, 8, 4, 0, 2, 0, 6, 1, 2, 1, 5, 4, 5, 0, 0, 1, 7, 6, 4, 3, 6, 7, 2, 3, 3, 6, 8, 8, 0, 8, 6, 3, 7, 3, 9, 0, 4, 3, 6, 0, 3, 6, 6, 7, 9, 9, 8, 8, 9, 8, 2, 3, 9, 1, 5, 9, 0, 9, 9, 0, 4, 1, 6, 4, 7, 9, 4, 8, 4, 7, 9, 1, 7, 2, 0, 3, 4, 5, 5, 7, 8, 0, 3, 9, 2, 8, 5, 7, 1, 0, 6, 1, 1, 3, 0, 5, 6, 0, 2, 0, 1, 1, 0, 4, 5, 1, 6, 8, 2, 4, 8, 0, 1, 2, 5, 3, 5, 8, 9, 0, 0, 2, 8, 9, 6, 1, 9, 9, 5, 6, 1, 9, 3, 0, 8, 4, 1, 3, 7, 2, 0, 2, 3, 3, 8, 9, 3, 6, 8, 6, 4, 0, 3, 5, 4, 9, 6, 1, 7, 4, 7, 9, 2, 9, 8, 9, 5, 1, 6, 4, 4, 7, 0, 2, 0, 0, 1, 6, 5, 8, 6, 8, 0, 3, 7, 4, 7, 6, 2, 3, 8, 5, 9, 8, 3, 4, 1, 5, 0, 7, 1, 0, 3, 1, 1, 3, 0, 6, 7, 2, 7, 3, 5, 1, 4, 9, 0, 5, 7, 7, 7, 4, 7, 1, 1, 6, 6, 9, 6, 2, 2, 6, 6, 6, 3, 4, 7, 8, 3, 7, 1, 9, 5, 6, 5, 2, 0, 0, 4, 2, 4, 6, 6, 7, 0, 4, 2, 0, 7, 3, 1, 0, 4, 0, 9, 0, 9, 0, 7, 7, 6, 9, 7, 9, 6, 9, 8, 6, 1, 3, 7, 3, 9, 2, 6, 9, 1, 2, 2, 3, 7, 7, 7, 2, 1, 3, 2, 4, 7, 6, 9, 0, 0, 7, 0, 1, 4, 5, 3, 2, 4, 8, 6, 8, 7, 8, 1, 6, 1, 6, 3, 8, 6, 4, 9, 0, 0, 8, 1, 6, 2, 3, 7, 8, 0, 7, 2, 7, 5, 3, 6, 5, 3, 9, 1, 0, 8, 4, 6, 0, 0, 9, 9, 6, 3, 6, 4, 6, 2, 2, 1, 6, 5, 3, 7, 1, 1, 7, 5, 9, 9, 1, 2, 0, 5, 8, 6, 2, 2, 3, 5, 7, 1, 5, 2, 1, 2, 4, 1, 9, 8, 7, 0, 5, 0, 7, 9, 4, 2, 8, 2, 3, 5, 4, 3, 3, 2, 0, 8, 2, 1, 9, 5, 9, 5, 2, 8, 2, 3, 2, 9, 1, 7, 7, 3, 5, 3, 9, 8, 0, 6, 9, 2, 5, 9, 8, 8, 5, 6, 4, 5, 1, 9, 9, 8, 8, 3, 0, 8, 1, 7, 7, 5, 8, 5, 5, 2, 1, 8, 5, 2, 9, 7, 8, 4, 5, 0, 9, 6, 2, 7, 8, 0, 4, 9, 2, 6, 7, 3, 4, 9, 9, 9, 5, 6, 2, 8, 8, 2, 1, 7, 5, 4, 6, 5, 9, 5, 6, 2, 8, 8, 7, 0, 2, 7, 4, 9, 8, 4, 5, 3, 2, 2, 7, 3, 4, 9, 6, 5, 4, 9, 2, 0, 8, 9, 3, 6, 1, 0, 5, 5, 5, 4, 0, 9, 0, 3, 9, 4, 6, 1, 5, 8, 0, 4, 8, 2, 8, 9, 7, 8, 3, 6, 1, 3, 5, 6, 1, 1, 7, 0, 9, 3, 4, 7, 2, 7, 7, 9, 6, 4, 2, 3, 3, 8, 8, 3, 4, 0, 5, 0, 5, 7, 3, 2, 2, 0, 3, 8, 4, 7, 4, 9, 9, 4, 4, 7, 7, 7, 9, 0, 7, 1, 1, 9, 5, 9, 8, 1, 4, 3, 2, 9, 9, 7, 4, 8, 2, 7, 0, 0, 2, 9, 1, 6, 3, 2, 7, 1, 2, 9, 3, 9, 7, 5, 0, 2, 4, 2, 9, 9, 4, 2, 4, 3, 5, 3, 1, 5, 1, 6, 3, 2, 0, 9, 5, 2, 9, 7, 7, 5, 3, 4, 6, 6, 7, 3, 6, 4, 7, 9, 8, 2, 3, 1, 7, 2, 9, 4, 6, 7, 8, 0, 3, 1, 4, 8, 8, 7, 7, 9, 7, 7, 9, 0, 9, 7, 1, 9, 5, 0, 0, 1, 0, 6, 2, 0, 9, 7, 9, 9, 8, 6, 0, 0, 9, 9, 6, 6, 6, 9, 9, 3, 7, 5, 1, 0, 6, 8, 2, 8, 9, 9, 8, 9, 6, 6, 9, 7, 9, 7, 2, 0, 6, 4, 9, 0, 5, 0, 2, 5, 8, 4, 4, 7]\n",
            "[9, 9, 8, 9, 1, 6, 2, 7, 3, 8, 7, 5, 6, 4, 9, 2, 7, 1, 7, 2, 8, 3, 1, 1, 9, 7, 3, 1, 3, 8, 3, 3, 1, 9, 5, 1, 4, 1, 5, 5, 2, 2, 3, 0, 9, 0, 5, 1, 0, 2, 6, 8, 7, 6, 1, 3, 1, 3, 1, 1, 5, 8, 7, 4, 5, 4, 7, 8, 6, 7, 5, 1, 8, 2, 1, 4, 1, 1, 4, 0, 4, 1, 1, 4, 3, 7, 7, 7, 0, 1, 4, 7, 1, 8, 8, 5, 5, 9, 5, 3, 0, 3, 7, 2, 1, 8, 2, 5, 7, 8, 3, 9, 1, 5, 7, 9, 7, 5, 7, 0, 0, 6, 4, 6, 1, 2, 8, 9, 0, 6, 0, 4, 0, 9, 8, 8, 3, 5, 6, 7, 1, 1, 2, 7, 3, 5, 8, 4, 3, 9, 1, 9, 2, 0, 7, 8, 1, 7, 1, 9, 3, 1, 9, 9, 3, 0, 4, 9, 6, 3, 5, 4, 1, 0, 7, 1, 9, 9, 9, 8, 1, 9, 7, 1, 1, 4, 2, 8, 0, 5, 1, 2, 6, 2, 3, 2, 0, 2, 6, 0, 5, 5, 2, 2, 7, 0, 0, 2, 9, 3, 2, 5, 5, 9, 4, 6, 5, 2, 2, 8, 6, 4, 4, 3, 0, 5, 7, 9, 6, 2, 1, 3, 4, 1, 9, 5, 1, 0, 8, 0, 7, 8, 0, 3, 2, 1, 2, 3, 5, 7, 3, 5, 5, 4, 1, 7, 2, 9, 5, 5, 0, 1, 6, 1, 9, 4, 1, 1, 0, 5, 0, 9, 6, 1, 8, 6, 7, 5, 2, 9, 1, 0, 0, 6, 0, 3, 6, 8, 1, 1, 7, 0, 2, 3, 1, 8, 9, 1, 8, 4, 7, 3, 1, 9, 0, 4, 3, 9, 6, 7, 3, 3, 2, 1, 7, 8, 8, 2, 6, 6, 9, 9, 2, 0, 5, 3, 2, 8, 3, 0, 9, 6, 4, 6, 7, 5, 0, 7, 9, 2, 6, 2, 9, 9, 6, 9, 2, 9, 5, 0, 8, 2, 2, 6, 8, 6, 3, 1, 8, 2, 4, 8, 7, 7, 6, 7, 2, 8, 7, 7, 7, 2, 5, 7, 6, 8, 7, 5, 8, 6, 8, 9, 4, 2, 9, 2, 2, 4, 8, 1, 7, 8, 8, 8, 9, 6, 0, 8, 9, 0, 6, 3, 5, 4, 1, 4, 7, 2, 2, 1, 2, 1, 5, 8, 1, 3, 0, 3, 5, 5, 3, 2, 5, 7, 2, 6, 5, 5, 2, 9, 8, 9, 4, 5, 5, 6, 0, 9, 4, 6, 4, 7, 2, 0, 3, 3, 7, 9, 4, 4, 4, 6, 2, 3, 3, 0, 3, 6, 1, 8, 1, 4, 1, 4, 2, 4, 1, 3, 0, 7, 8, 7, 1, 4, 6, 9, 9, 9, 4, 9, 8, 8, 1, 7, 1, 2, 5, 4, 8, 4, 2, 4, 6, 8, 3, 8, 4, 2, 0, 6, 3, 8, 4, 4, 1, 1, 9, 7, 0, 6, 7, 2, 4, 8, 4, 8, 5, 6, 3, 9, 4, 0, 2, 8, 9, 1, 4, 2, 1, 2, 2, 7, 8, 3, 9, 5, 9, 2, 6, 9, 3, 9, 8, 6, 1, 4, 3, 0, 1, 1, 9, 2, 7, 1, 2, 0, 0, 0, 7, 0, 8, 1, 6, 2, 2, 7, 5, 6, 6, 9, 6, 3, 1, 6, 1, 6, 1, 6, 4, 3, 4, 9, 3, 1, 4, 4, 6, 4, 9, 4, 3, 0, 8, 7, 0, 0, 0, 1, 4, 2, 9, 0, 1, 3, 8, 7, 2, 4, 1, 9, 9, 3, 7, 1, 3, 9, 4, 2, 6, 9, 3, 3, 6, 9, 6, 5, 9, 2, 5, 8, 2, 9, 0, 2, 8, 0, 1, 8, 9, 2, 9, 3, 5, 4, 1, 3, 1, 4, 3, 6, 8, 5, 1, 8, 3, 1, 1, 8, 4, 7, 8, 9, 1, 4, 3, 7, 1, 0, 9, 2, 8, 3, 6, 8, 9, 8, 4, 3, 9, 7, 4, 9, 1, 2, 7, 6, 4, 4, 0, 4, 5, 5, 9, 5, 0, 1, 8, 7, 1, 6, 1, 2, 4, 6, 2, 3, 4, 7, 5, 4, 5, 1, 8, 9, 3, 3, 6, 0, 7, 0, 1, 8, 5, 1, 3, 4, 6, 0, 0, 7, 9, 8, 3, 2, 2, 1, 1, 7, 5, 5, 7, 3, 2, 5, 9, 5, 7, 9, 4, 1, 7, 4, 6, 4, 7, 5, 2, 2, 1, 7, 5, 4, 7, 2, 0, 4, 4, 0, 0, 9, 8, 1, 6, 0, 1, 0, 3, 6, 7, 6, 4, 5, 3, 0, 2, 7, 5, 6, 9, 6, 9, 7, 1, 9, 3, 0, 1, 4, 5, 9, 6, 1, 2, 6, 6, 7, 5, 8, 9, 2, 9, 1, 3, 0, 4, 0, 7, 0, 3, 5, 9, 5, 0, 2, 3, 0, 6, 2, 4, 8, 2, 1, 6, 2, 4, 3, 2, 6, 5, 7, 4, 6, 1, 7, 4, 9, 8, 7, 0, 0, 9, 1, 3, 7, 0, 6, 0, 4, 4, 4, 0, 0, 7, 2, 2, 2, 0, 9, 4, 6, 9, 4, 6, 4, 2, 9, 4, 8, 7, 9, 5, 5, 5, 5, 2, 2, 7, 2, 2, 7, 9, 4, 4, 1, 7, 1, 5, 3, 2, 7, 6, 9, 9, 6, 0, 1, 6, 2, 6, 0, 3, 1, 1, 6, 9, 3, 5, 5, 1, 0, 8, 2, 6, 1, 1, 2, 6, 5, 8, 3, 2, 8, 2, 9, 6, 9, 2, 6, 1, 8, 4, 5, 8, 1, 3, 0, 0, 9, 3, 2, 9, 5, 3, 5, 0, 1, 3, 6, 0, 7, 3, 5, 7, 5, 1, 7, 1, 8, 3, 2, 6, 7, 9, 9, 3, 6, 6, 6, 1, 5, 2, 6, 8, 8, 5, 4, 5, 7, 0, 4, 6, 0, 5, 7, 3, 8, 2, 5, 6, 9, 7, 2, 1, 1, 2, 6, 0, 0, 0, 0, 2, 8, 9, 3, 2, 2, 3, 7, 7, 9, 6, 7, 6, 0, 3, 0, 2, 2, 0, 5, 5, 7, 2, 4, 2, 4, 8, 3, 8, 1, 8, 8, 6, 8, 1, 0, 1, 6, 3, 0, 3, 1, 2, 8, 6, 1, 7, 2, 3, 1, 6, 6, 1, 0, 5, 0, 2, 9, 2, 1, 4, 9, 3, 8, 9, 5, 6, 5, 4, 2, 8, 2, 1, 6, 1, 8, 0, 1, 8, 6, 4, 7, 3, 5, 9, 1, 0, 5, 5, 7, 5, 9, 0, 0, 0, 9, 0, 2, 1, 6, 9, 7, 5, 5, 7, 1, 5, 6, 4, 3, 0, 7, 1, 7, 1, 2, 8, 6, 8, 6, 8, 1, 1, 0, 7, 8, 4, 7, 9, 1, 8, 3, 9, 2, 7, 9, 3, 7, 7, 5, 9, 8, 6, 3, 6, 1, 7, 3, 5, 5, 0, 3, 0, 5, 0, 7, 3, 4, 5, 3, 6, 8, 1, 6, 1, 2, 5, 5, 3, 5, 4, 3, 4, 1, 8, 0, 8, 2, 7, 8, 7, 3, 5, 9, 6, 7, 3, 2, 2, 4, 4, 1, 5, 8, 1, 1, 2, 8, 7, 1, 8, 8, 3, 3, 7, 5, 1, 9, 6, 3, 0, 5, 7, 7, 2, 9, 3, 8, 3, 1, 4, 1, 4, 6, 0, 2, 8, 3, 3, 9, 9, 3, 9, 5, 4, 1, 4, 5, 6, 2, 8, 5, 1, 0, 6, 8, 2, 5, 0, 0, 1, 7, 5, 1, 1, 3, 5, 2, 9, 9, 3, 2, 4, 6, 6, 6, 9, 1, 4, 0, 8, 6, 2, 8, 3, 8, 0, 0, 8, 1, 4, 4, 7, 7, 2, 7, 9, 4, 7, 5, 2, 6, 9, 4, 9, 1, 4, 2, 5, 1, 5, 5, 3, 8, 6, 8, 3, 8, 5, 5, 7, 8, 5, 3, 0, 2, 8, 2, 1, 0, 6, 7, 9, 3, 9, 5, 9, 5, 6, 9, 5, 8, 0, 1, 8, 3, 5, 6, 4, 4, 6, 6, 1, 0, 8, 8, 7, 1, 4, 7, 9, 9, 4, 9, 3, 6, 1, 9, 4, 5, 2, 4, 9, 1, 0, 7, 8, 4, 7, 8, 5, 2, 4, 8, 4, 7, 2, 1, 1, 3, 9, 7, 6, 5, 6, 4, 2, 0, 2, 3, 1, 3, 4, 9, 3, 0, 3, 8, 7, 0, 3, 7, 0, 7, 2, 1, 7, 9, 6, 8, 7, 1, 6, 0, 6, 8, 0, 8, 7, 7, 8, 0, 7, 2, 7, 9, 2, 9, 7, 0, 9, 0, 9, 0, 8, 1, 3, 1, 9, 5, 1, 1, 9, 4, 4, 1, 3, 2, 1, 5, 0, 2, 2, 2, 8, 4, 2, 8, 7, 6, 3, 0, 7, 2, 8, 1, 8, 9, 1, 1, 4, 4, 5, 8, 7, 1, 5, 7, 9, 1, 3, 9, 5, 9, 6, 2, 0, 3, 4, 1, 5, 3, 2, 7, 6, 1, 1, 4, 0, 8, 0, 2, 0, 0, 5, 7, 8, 6, 2, 9, 4, 7, 5, 8, 5, 9, 7, 2, 9, 2, 3, 5, 1, 9, 3, 8, 5, 4, 3, 7, 1, 1, 1, 9, 4, 3, 0, 0, 9, 0, 4, 3, 4, 2, 0, 0, 1, 3, 6, 1, 2, 5, 9, 9, 2, 7, 4, 6, 0, 8, 1, 8, 2, 1, 8, 5, 3, 9, 5, 1, 1, 2, 5, 8, 1, 5, 7, 6, 2, 9, 5, 3, 9, 0, 3, 1, 7, 1, 9, 0, 0, 2, 4, 8, 8, 9, 7, 0, 9, 2, 5, 1, 7, 6, 6, 6, 9, 4, 1, 7, 7, 0, 7, 5, 2, 5, 0, 6, 3, 9, 1, 3, 2, 2, 3, 6, 5, 3, 1, 4, 1, 2, 4, 3, 6, 9, 0, 1, 0, 6, 3, 7, 3, 2, 9, 7, 6, 0, 2, 4, 0, 3, 6, 3, 3, 2, 8, 5, 7, 1, 5, 1, 2, 1, 4, 9, 9, 0, 9, 6, 9, 1, 6, 1, 9, 3, 6, 6, 4, 9, 6, 2, 4, 7, 7, 4, 3, 1, 7, 7, 9, 0, 2, 0, 0, 1, 5, 3, 8, 9, 4, 7, 6, 2, 7, 5, 2, 3, 0, 1, 8, 4, 2, 2, 8, 0, 1, 5, 5, 9, 1, 1, 1, 9, 2, 9, 6, 9, 4, 4, 9, 6, 9, 9, 3, 3, 5, 1, 6, 4, 2, 9, 9, 6, 9, 1, 8, 1, 2, 0, 2, 1, 7, 2, 6, 4, 3, 4, 1, 7, 7, 7, 6, 1, 5, 0, 4, 9, 5, 9, 1, 5, 8, 9, 5, 1, 7, 6, 7, 0, 3, 5, 4, 3, 6, 7, 3, 2, 0, 3, 0, 8, 6, 1, 4, 6, 2, 6, 9, 4, 7, 1, 8, 3, 1, 1, 9, 3, 6, 4, 9, 6, 1, 3, 8, 3, 1, 2, 0, 8, 7, 7, 2, 6, 1, 1, 1, 0, 0, 0, 9, 5, 3, 3, 0, 2, 6, 3, 0, 5, 5, 3, 3, 5, 8, 5, 6, 9, 7, 4, 2, 3, 8, 0, 1, 9, 8, 7, 3, 0, 0, 2, 0, 5, 7, 2, 1, 3, 2, 2, 1, 6, 8, 6, 4, 1, 6, 5, 9, 2, 5, 5, 2, 0, 3, 9, 5, 0, 1, 3, 2, 8, 5, 4, 1, 8, 7, 0, 2, 9, 6, 9, 8, 9, 1, 4, 7, 1, 8, 0, 0, 2, 3, 3, 2, 3, 5, 2, 6, 8, 7, 3, 0, 8, 3, 0, 6, 1, 6, 9, 1, 5, 9, 5, 5, 1, 8, 4, 6, 1, 2, 4, 8, 5, 5, 5, 7, 8, 4, 1, 8, 4, 5, 0, 2, 0, 8, 5, 8, 5, 5, 6, 7, 1, 9, 2, 3, 8, 2, 1, 6, 0, 8, 2, 0, 8, 9, 6, 4, 3, 3, 5, 4, 5, 2, 8, 9, 4, 2, 2, 8, 6, 9, 3, 1, 5, 9, 7, 1, 1, 4, 1, 9, 0, 7, 5, 4, 5, 9, 0, 9, 0, 9, 2, 5, 5, 4, 2, 9, 3, 2, 9, 8, 6, 6, 8, 1, 6, 1, 7, 4, 4, 2, 6, 5, 5, 9, 7, 1, 0, 8, 0, 7, 4, 0, 6, 2, 0, 1, 3, 0, 7, 1, 2, 2, 7, 4, 4, 9, 9, 4, 9, 2, 9, 8, 8, 1, 1, 6, 7, 1, 4, 5, 3, 9, 7, 7, 0, 9, 5, 0, 9, 4, 8, 1, 5, 1, 6, 8, 1, 6, 8, 8, 3, 3, 9, 4, 7, 5, 9, 7, 7, 2, 6, 3, 7, 3, 8, 4, 1, 6, 0, 7, 1, 2, 4, 8, 3, 0, 0, 3, 4, 5, 3, 8, 3, 1, 1, 2, 0, 2, 2, 5, 4, 5, 7, 0, 4, 4, 2, 2, 4, 1, 2, 2, 6, 9, 1, 9, 0, 4, 5, 9, 0, 9, 9, 0, 8, 5, 5, 8, 4, 4, 9, 0, 5, 9, 9, 5, 0, 1, 6, 7, 6, 0, 1, 2, 9, 8, 2, 8, 2, 9, 1, 1, 3, 5, 7, 8, 6, 6, 4, 1, 4, 3, 8, 2, 5, 7, 2, 6, 1, 7, 2, 6, 6, 2, 5, 7, 5, 2, 8, 2, 7, 0, 8, 1, 1, 4, 7, 3, 7, 0, 4, 9, 2, 1, 4, 5, 3, 9, 2, 1, 3, 8, 6, 9, 9, 7, 7, 9, 3, 8, 0, 8, 9, 0, 9, 0, 8, 8, 1, 4, 1, 8, 3, 7, 7, 2, 7, 5, 3, 7, 6, 1, 8, 3, 9, 5, 3, 8, 6, 0, 7, 9, 2, 8, 3, 2, 3, 3, 8, 0, 2, 0, 0, 1, 0, 5, 9, 8, 5, 7, 5, 3, 8, 1, 1, 1, 3, 7, 7, 4, 6, 8, 1, 6, 9, 1, 4, 3, 0, 9, 3, 5, 3, 8, 2, 8, 7, 3, 8, 5, 8, 6, 0, 3, 3, 7, 6, 4, 9, 2, 5, 9, 8, 7, 5, 1, 2, 7, 1, 4, 9, 7, 3, 6, 9, 6, 8, 7, 2, 7, 4, 0, 3, 7, 2, 7, 3, 5, 8, 7, 3, 0, 7, 2, 9, 7, 9, 6, 2, 1, 6, 7, 5, 4, 5, 3, 0, 9, 8, 7, 8, 7, 0, 4, 3, 8, 9, 1, 5, 8, 0, 4, 4, 3, 9, 5, 1, 0, 7, 8, 8, 2, 9, 8, 3, 5, 1, 6, 9, 1, 7, 7, 8, 6, 7, 1, 4, 6, 3, 1, 2, 4, 6, 6, 0, 7, 8, 0, 8, 3, 6, 2, 2, 9, 0, 4, 1, 6, 9, 5, 0, 2, 5, 3, 2, 8, 8, 3, 4, 6, 8, 7, 1, 1, 6, 6, 9, 7, 6, 6, 5, 4, 3, 0, 0, 8, 8, 1, 1, 3, 9, 4, 0, 1, 1, 6, 6, 5, 2, 6, 2, 8, 0, 2, 4, 4, 6, 7, 8, 8, 8, 0, 9, 2, 7, 4, 3, 6, 0, 3, 1, 1, 9, 5, 1, 5, 1, 5, 8, 7, 9, 2, 9, 3, 7, 4, 4, 7, 7, 0, 4, 6, 0, 9, 3, 4, 5, 5, 2, 3, 2, 7, 1, 1, 3, 4, 2, 1, 4, 4, 1, 9, 9, 2, 3, 2, 6, 6, 5, 6, 2, 9, 4, 3, 3, 8, 1, 8, 6, 2, 8, 7, 3, 1, 5, 3, 5, 2, 5, 1, 6, 1, 5, 9, 1, 9, 3, 5, 3, 3, 2, 7, 4, 2, 9, 7, 1, 8, 7, 3, 3, 2, 2, 9, 6, 4, 3, 2, 9, 1, 2, 4, 3, 9, 5, 3, 4, 2, 3, 2, 6, 3, 9, 5, 0, 5, 4, 0, 1, 7, 3, 0, 8, 5, 1, 2, 9, 7, 2, 5, 3, 2, 5, 6, 4, 0, 7, 7, 9, 2, 0, 5, 5, 7, 8, 1, 0, 9, 6, 3, 2, 1, 5, 0, 0, 3, 8, 3, 1, 0, 5, 4, 3, 1, 3, 9, 0, 2, 4, 8, 3, 2, 0, 2, 3, 3, 5, 8, 5, 6, 9, 9, 1, 9, 4, 1, 2, 7, 7, 1, 4, 6, 6, 9, 5, 6, 4, 9, 5, 9, 6, 6, 8, 0, 9, 3, 1, 6, 5, 1, 1, 0, 1, 6, 3, 5, 5, 1, 4, 9, 6, 4, 2, 2, 6, 6, 6, 4, 8, 2, 4, 3, 6, 2, 0, 7, 7, 5, 4, 6, 0, 5, 7, 7, 7, 2, 7, 4, 9, 6, 0, 4, 5, 0, 6, 7, 0, 7, 1, 7, 9, 4, 6, 4, 9, 9, 0, 5, 2, 9, 0, 3, 8, 4, 3, 8, 4, 6, 5, 2, 7, 6, 0, 0, 7, 2, 5, 9, 6, 8, 5, 4, 8, 7, 1, 1, 7, 5, 1, 2, 5, 1, 9, 4, 1, 9, 8, 9, 4, 7, 1, 4, 1, 6, 3, 3, 6, 7, 5, 5, 2, 5, 2, 4, 7, 3, 5, 2, 4, 4, 6, 1, 2, 8, 2, 3, 0, 0, 7, 3, 3, 3, 5, 4, 3, 4, 5, 2, 8, 8, 4, 8, 4, 2, 8, 7, 2, 3, 8, 0, 5, 0, 1, 1, 9, 2, 2, 8, 9, 5, 9, 6, 4, 3, 5, 0, 1, 6, 8, 8, 3, 1, 3, 1, 0, 5, 0, 6, 9, 5, 4, 4, 4, 5, 5, 8, 0, 2, 4, 7, 8, 7, 9, 3, 1, 8, 6, 6, 7, 4, 9, 9, 0, 4, 6, 7, 3, 8, 8, 2, 6, 8, 5, 6, 1, 6, 9, 5, 6, 4, 4, 5, 9, 2, 7, 2, 4, 7, 1, 4, 3, 7, 5, 1, 2, 6, 0, 6, 6, 0, 5, 5, 0, 6, 9, 6, 6, 7, 2, 7, 5, 6, 6, 3, 2, 4, 6, 3, 0, 4, 1, 0, 5, 4, 9, 7, 2, 6, 3, 9, 0, 8, 1, 9, 4, 0, 0, 3, 7, 0, 7, 2, 0, 8, 8, 7, 8, 5, 7, 7, 8, 9, 6, 7, 8, 4, 3, 9, 7, 1, 9, 0, 3, 6, 1, 3, 4, 3, 7, 3, 1, 1, 5, 8, 8, 0, 1, 7, 3, 1, 8, 6, 0, 8, 6, 4, 9, 6, 5, 3, 6, 9, 8, 3, 5, 1, 8, 3, 4, 3, 1, 0, 0, 7, 3, 6, 5, 6, 3, 1, 0, 2, 2, 9, 2, 3, 4, 9, 7, 1, 9, 4, 0, 0, 6, 0, 2, 6, 3, 4, 0, 0, 5, 3, 1, 5, 3, 5, 6, 7, 4, 2, 3, 6, 0, 5, 7, 2, 2, 9, 6, 3, 4, 4, 1, 7, 1, 7, 3, 1, 6, 0, 5, 0, 5, 8, 9, 2, 2, 1, 2, 8, 2, 9, 1, 9, 2, 5, 1, 0, 0, 6, 3, 9, 8, 3, 1, 0, 5, 8, 0, 5, 5, 0, 0, 6, 9, 3, 7, 8, 3, 7, 1, 6, 7, 1, 7, 8, 9, 9, 7, 9, 5, 1, 4, 8, 6, 5, 5, 7, 7, 6, 8, 6, 5, 5, 2, 6, 8, 2, 8, 6, 9, 1, 6, 5, 3, 3, 7, 8, 9, 0, 7, 8, 8, 3, 3, 0, 7, 4, 7, 6, 7, 1, 1, 4, 3, 9, 3, 2, 7, 0, 1, 4, 8, 1, 5, 3, 4, 3, 3, 8, 8, 3, 2, 1, 3, 6, 3, 0, 6, 3, 5, 0, 7, 0, 2, 7, 4, 5, 7, 7, 8, 7, 3, 8, 8, 7, 4, 1, 3, 5, 6, 9, 2, 7, 4, 5, 5, 2, 0, 5, 5, 2, 7, 7, 2, 4, 2, 4, 0, 6, 0, 6, 4, 4, 2, 7, 9, 4, 9, 0, 7, 2, 4, 3, 8, 4, 1, 4, 3, 8, 4, 6, 8, 1, 4, 3, 6, 8, 2, 3, 1, 9, 9, 4, 7, 3, 4, 7, 5, 4, 1, 9, 7, 8, 6, 0, 2, 0, 4, 1, 8, 4, 1, 0, 1, 1, 9, 2, 0, 1, 3, 1, 8, 7, 4, 1, 8, 2, 2, 8, 8, 7, 3, 6, 3, 4, 4, 1, 4, 3, 7, 0, 9, 5, 5, 4, 9, 5, 3, 6, 4, 9, 0, 0, 3, 0, 0, 2, 5, 4, 6, 5, 5, 4, 7, 7, 1, 8, 5, 0, 9, 9, 8, 9, 0, 3, 3, 0, 0, 0, 5, 3, 9, 7, 8, 6, 8, 4, 8, 3, 7, 3, 5, 1, 7, 6, 1, 0, 5, 0, 6, 8, 3, 0, 1, 5, 1, 8, 7, 9, 8, 0, 0, 4, 3, 0, 7, 6, 5, 3, 4, 4, 0, 3, 9, 0, 0, 9, 6, 1, 6, 2, 7, 1, 4, 0, 8, 7, 1, 3, 0, 1, 7, 4, 9, 6, 6, 0, 1, 3, 6, 1, 8, 5, 5, 7, 3, 7, 7, 3, 5, 7, 3, 4, 0, 4, 0, 4, 4, 1, 5, 4, 1, 7, 4, 8, 7, 2, 4, 3, 9, 4, 2, 7, 1, 3, 4, 5, 0, 3, 9, 4, 0, 2, 5, 2, 7, 1, 8, 1, 4, 2, 1, 8, 2, 5, 5, 7, 0, 9, 5, 6, 1, 9, 0, 0, 2, 2, 5, 0, 1, 3, 0, 2, 7, 1, 0, 6, 2, 4, 4, 5, 3, 1, 5, 6, 7, 3, 5, 8, 1, 3, 8, 8, 4, 2, 6, 1, 5, 1, 7, 9, 7, 0, 0, 0, 1, 5, 0, 8, 9, 1, 3, 0, 8, 4, 6, 5, 4, 1, 4, 0, 2, 8, 9, 8, 2, 3, 4, 7, 0, 3, 7, 4, 1, 0, 9, 5, 2, 1, 2, 3, 1, 3, 2, 8, 0, 7, 0, 3, 9, 6, 1, 7, 1, 3, 7, 6, 5, 9, 3, 4, 7, 6, 3, 0, 7, 3, 8, 7, 1, 3, 6, 4, 3, 0, 1, 0, 7, 5, 6, 7, 4, 8, 0, 5, 2, 5, 5, 4, 0, 4, 5, 1, 6, 7, 8, 1, 7, 0, 8, 4, 6, 1, 1, 1, 2, 5, 7, 1, 9, 1, 0, 5, 3, 6, 8, 8, 3, 9, 1, 4, 7, 0, 2, 0, 3, 8, 2, 6, 0, 4, 2, 2, 6, 3, 3, 4, 7, 8, 0, 5, 9, 5, 4, 4, 2, 5, 1, 4, 5, 0, 0, 4, 4, 1, 5, 6, 3, 1, 2, 1, 5, 0, 6, 9, 4, 2, 0, 2, 5, 7, 2, 4, 9, 3, 9, 8, 1, 7, 8, 3, 9, 1, 4, 7, 1, 8, 9, 3, 3, 4, 4, 6, 4, 6, 8, 2, 8, 0, 7, 8, 8, 8, 7, 8, 6, 0, 8, 9, 9, 6, 4, 1, 9, 4, 5, 3, 7, 1, 1, 3, 9, 1, 7, 4, 0, 7, 9, 3, 3, 9, 0, 5, 2, 1, 6, 1, 4, 3, 2, 0, 3, 3, 2, 2, 6, 2, 6, 2, 3, 5, 8, 6, 9, 0, 4, 0, 2, 8, 1, 3, 6, 9, 8, 5, 8, 2, 2, 7, 5, 6, 2, 3, 0, 4, 8, 6, 5, 8, 9, 9, 3, 3, 2, 5, 9, 7, 1, 8, 4, 2, 3, 2, 9, 7, 5, 1, 0, 9, 8, 7, 6, 0, 9, 7, 6, 0, 8, 8, 4, 1, 8, 3, 1, 9, 2, 1, 6, 1, 4, 9, 4, 8, 1, 7, 7, 4, 2, 2, 5, 2, 7, 5, 1, 2, 3, 8, 5, 1, 4, 6, 3, 3, 1, 6, 6, 7, 6, 8, 9, 5, 6, 1, 8, 5, 9, 2, 6, 3, 2, 7, 0, 1, 0, 0, 6, 0, 2, 5, 4, 3, 5, 1, 9, 4, 3, 0, 9, 3, 7, 3, 8, 0, 8, 5, 4, 0, 7, 3, 1, 5, 6, 9, 7, 2, 6, 6, 6, 1, 6, 7, 0, 9, 2, 8, 6, 3, 1, 5, 8, 2, 9, 7, 2, 2, 5, 6, 0, 4, 3, 5, 0, 5, 0, 2, 3, 3, 6, 7, 1, 7, 6, 3, 8, 1, 7, 1, 8, 9, 3, 1, 0, 8, 0, 8, 5, 7, 1, 7, 4, 1, 1, 8, 8, 5, 9, 5, 1, 2, 4, 9, 6, 4, 9, 3, 8, 5, 0, 6, 8, 5, 3, 8, 2, 7, 2, 1, 4, 1, 0, 7, 4, 7, 4, 0, 2, 2, 7, 0, 5, 7, 0, 5, 4, 9, 4, 6, 6, 6, 5, 3, 8, 0, 5, 6, 0, 0, 6, 3, 7, 7, 0, 6, 4, 8, 6, 5, 4, 3, 1, 9, 4, 9, 1, 8, 8, 6, 8, 4, 2, 8, 5, 4, 3, 7, 3, 1, 1, 5, 6, 7, 6, 3, 2, 5, 2, 4, 9, 7, 4, 9, 6, 9, 1, 6, 5, 2, 6, 7, 2, 4, 3, 8, 4, 2, 0, 3, 9, 0, 6, 5, 1, 0, 1, 1, 7, 5, 8, 0, 9, 1, 7, 9, 6, 8, 7, 5, 6, 9, 2, 1, 7, 6, 2, 6, 8, 3, 4, 1, 3, 8, 7, 5, 8, 4, 6, 8, 3, 3, 3, 0, 9, 3, 7, 5, 5, 2, 2, 4, 7, 1, 9, 0, 9, 8, 3, 5, 1, 0, 3, 7, 3, 9, 0, 9, 1, 7, 7, 9, 3, 4, 5, 1, 8, 9, 8, 6, 3, 4, 5, 9, 8, 3, 2, 3, 8, 0, 3, 7, 4, 9, 8, 9, 4, 6, 3, 4, 5, 1, 0, 1, 9, 3, 0, 1, 8, 7, 6, 0, 0, 9, 4, 7, 4, 4, 5, 8, 3, 3, 1, 4, 0, 9, 2, 9, 3, 6, 7, 7, 6, 1, 9, 6, 4, 2, 8, 9, 0, 9, 5, 3, 0, 4, 0, 8, 2, 4, 9, 2, 9, 7, 7, 2, 7, 9, 7, 1, 9, 8, 3, 6, 6, 9, 3, 5, 2, 0, 0, 7, 5, 9, 6, 2, 0, 0, 7, 0, 8, 6, 1, 6, 9, 7, 0, 4, 1, 8, 0, 6, 2, 3, 5, 3, 3, 5, 1, 1, 5, 7, 9, 5, 0, 8, 9, 7, 1, 1, 9, 3, 8, 3, 1, 1, 2, 4, 8, 6, 2, 7, 3, 4, 1, 2, 6, 0, 3, 7, 2, 8, 1, 8, 6, 3, 9, 5, 4, 6, 3, 5, 8, 4, 9, 0, 5, 8, 5, 8, 9, 3, 1, 0, 7, 7, 3, 1, 1, 6, 8, 7, 3, 6, 8, 6, 4, 4, 9, 1, 1, 5, 1, 8, 2, 6, 4, 9, 0, 8, 7, 4, 0, 0, 2, 0, 8, 7, 4, 6, 5, 2, 4, 3, 4, 0, 4, 7, 7, 5, 8, 6, 7, 8, 6, 1, 2, 8, 0, 2, 9, 9, 2, 7, 7, 2, 7, 4, 1, 2, 1, 2, 0, 6, 1, 3, 9, 4, 1, 6, 1, 0, 4, 9, 4, 3, 8, 8, 3, 1, 2, 9, 6, 3, 9, 7, 3, 8, 5, 8, 6, 3, 1, 6, 1, 3, 1, 8, 8, 1, 2, 4, 9, 1, 9, 2, 4, 8, 4, 0, 2, 9, 6, 7, 4, 9, 2, 3, 7, 6, 6, 0, 5, 9, 3, 2, 6, 6, 8, 7, 8, 8, 5, 5, 1, 0, 2, 3, 8, 1, 1, 9, 4, 7, 9, 4, 9, 9, 8, 9, 5, 1, 9, 7, 2, 0, 0, 8, 9, 5, 9, 3, 7, 9, 8, 6, 5, 6, 2, 7, 4, 9, 8, 3, 9, 1, 8, 7, 6, 0, 5, 3, 7, 5, 0, 4, 7, 3, 8, 6, 7, 0, 3, 1, 3, 2, 5, 6, 4, 2, 0, 1, 1, 6, 9, 0, 2, 3, 9, 8, 7, 5, 4, 2, 2, 9, 1, 0, 0, 3, 2, 9, 2, 4, 8, 9, 2, 4, 5, 6, 9, 5, 5, 0, 4, 4, 2, 9, 5, 6, 8, 0, 0, 7, 0, 1, 9, 0, 0, 2, 7, 4, 2, 0, 2, 2, 7, 2, 7, 7, 9, 0, 1, 0, 0, 4, 9, 4, 0, 1, 2, 5, 6, 6, 5, 1, 1, 7, 2, 7, 2, 0, 5, 0, 0, 9, 5, 8, 6, 1, 3, 5, 0, 7, 0, 1, 5, 1, 8, 8, 9, 8, 3, 7, 7, 1, 7, 0, 3, 3, 6, 6, 1, 7, 5, 8, 7, 8, 4, 6, 6, 6, 7, 6, 1, 1, 7, 0, 1, 8, 4, 8, 5, 9, 2, 4, 0, 6, 4, 0, 8, 1, 5, 6, 3, 1, 7, 7, 7, 0, 5, 5, 1, 2, 9, 5, 5, 7, 4, 9, 7, 5, 2, 1, 5, 8, 5, 8, 2, 8, 7, 6, 6, 9, 3, 8, 0, 8, 5, 1, 4, 2, 3, 0, 6, 5, 1, 9, 2, 1, 4, 2, 2, 8, 6, 9, 8, 7, 3, 8, 4, 4, 0, 3, 4, 6, 1, 0, 7, 0, 1, 1, 9, 2, 0, 4, 7, 2, 6, 9, 1, 3, 1, 5, 5, 0, 3, 9, 3, 2, 0, 2, 3, 8, 4, 4, 6, 8, 4, 9, 1, 4, 7, 9, 3, 6, 0, 6, 4, 3, 6, 0, 5, 6, 1, 4, 4, 3, 2, 7, 1, 7, 8, 6, 1, 0, 1, 4, 5, 4, 4, 8, 0, 0, 7, 3, 1, 9, 5, 5, 8, 4, 5, 1, 1, 5, 2, 1, 9, 3, 8, 5, 7, 1, 8, 5, 1, 8, 0, 1, 1, 4, 5, 8, 7, 5, 4, 2, 4, 8, 8, 7, 8, 8, 2, 2, 0, 4, 9, 4, 1, 2, 2, 1, 5, 6, 8, 0, 9, 0, 7, 2, 8, 8, 0, 3, 8, 3, 1, 4, 3, 5, 8, 8, 0, 8, 3, 1, 2, 5, 8, 8, 1, 8, 1, 7, 3, 1, 1, 8, 7, 8, 0, 8, 6, 1, 1, 6, 4, 2, 0, 1, 4, 4, 8, 9, 2, 9, 9, 3, 9, 6, 4, 7, 2, 5, 6, 8, 8, 8, 2, 4, 7, 0, 2, 1, 4, 2, 4, 8, 2, 2, 8, 8, 6, 3, 5, 5, 0, 8, 9, 0, 4, 1, 9, 9, 7, 9, 0, 7, 2, 9, 0, 4, 1, 1, 4, 1, 7, 8, 6, 1, 4, 6, 8, 5, 2, 3, 3, 0, 2, 1, 2, 8, 3, 6, 9, 2, 0, 1, 6, 3, 7, 7, 4, 6, 5, 1, 7, 4, 9, 1, 6, 1, 7, 7, 9, 1, 0, 0, 2, 8, 9, 9, 6, 6, 4, 2, 9, 5, 5, 1, 8, 9, 4, 9, 3, 0, 8, 7, 4, 6, 4, 9, 4, 3, 1, 5, 6, 1, 7, 6, 1, 2, 9, 7, 9, 6, 7, 9, 1, 3, 6, 4, 4, 7, 9, 8, 6, 4, 6, 3, 1, 2, 5, 5, 4, 0, 8, 6, 1, 9, 4, 3, 3, 2, 0, 6, 3, 6, 4, 6, 5, 9, 0, 6, 2, 0, 4, 7, 0, 6, 9, 8, 5, 5, 0, 2, 6, 1, 4, 9, 0, 9, 6, 9, 0, 3, 3, 3, 8, 8, 2, 1, 1, 8, 8, 6, 6, 6, 8, 9, 5, 3, 9, 9, 1, 2, 0, 7, 1, 2, 8, 4, 5, 0, 5, 1, 5, 1, 3, 1, 5, 2, 4, 1, 7, 3, 9, 1, 6, 7, 2, 3, 4, 1, 3, 7, 6, 0, 2, 7, 5, 6, 1, 9, 7, 1, 0, 5, 5, 9, 0, 0, 1, 1, 2, 7, 3, 0, 5, 7, 1, 8, 4, 0, 2, 0, 6, 1, 7, 1, 5, 4, 5, 0, 0, 1, 7, 6, 4, 3, 6, 7, 1, 3, 1, 6, 8, 8, 0, 8, 6, 3, 7, 3, 9, 0, 4, 3, 6, 0, 3, 6, 6, 7, 9, 9, 8, 8, 9, 8, 3, 3, 7, 1, 5, 9, 0, 9, 9, 0, 4, 1, 6, 4, 7, 9, 4, 1, 4, 7, 9, 1, 7, 2, 0, 3, 4, 5, 5, 7, 8, 0, 3, 9, 2, 8, 5, 7, 1, 0, 6, 1, 1, 3, 0, 5, 6, 0, 2, 0, 1, 1, 0, 4, 5, 1, 6, 8, 2, 4, 8, 0, 1, 3, 5, 3, 5, 1, 1, 0, 0, 2, 8, 9, 6, 1, 9, 9, 5, 6, 1, 9, 3, 0, 8, 4, 1, 3, 7, 2, 0, 8, 1, 1, 8, 9, 3, 6, 8, 6, 4, 0, 3, 5, 4, 1, 6, 1, 7, 4, 7, 9, 2, 9, 8, 9, 5, 1, 6, 4, 4, 7, 0, 2, 0, 0, 1, 6, 5, 8, 6, 8, 0, 3, 7, 4, 7, 6, 2, 3, 8, 5, 5, 8, 1, 4, 1, 8, 0, 7, 1, 0, 1, 1, 1, 3, 0, 6, 7, 2, 7, 3, 5, 1, 4, 9, 0, 5, 7, 7, 1, 4, 7, 1, 1, 6, 6, 9, 6, 2, 2, 6, 6, 6, 3, 4, 7, 8, 3, 7, 1, 9, 5, 6, 5, 2, 0, 0, 4, 2, 4, 6, 6, 7, 0, 4, 2, 0, 7, 1, 1, 0, 4, 0, 9, 0, 9, 0, 7, 7, 6, 9, 7, 9, 6, 7, 8, 6, 4, 3, 7, 1, 3, 2, 6, 9, 1, 2, 2, 3, 7, 7, 7, 2, 1, 3, 2, 4, 7, 6, 9, 0, 0, 7, 0, 1, 4, 5, 3, 2, 4, 8, 6, 8, 7, 8, 1, 6, 1, 6, 3, 8, 6, 5, 9, 0, 0, 1, 1, 6, 2, 3, 7, 8, 0, 7, 2, 7, 5, 3, 6, 5, 3, 9, 1, 0, 8, 4, 6, 0, 0, 9, 9, 6, 3, 6, 4, 6, 2, 2, 1, 6, 5, 3, 7, 1, 1, 7, 5, 9, 9, 1, 2, 0, 5, 8, 6, 2, 2, 3, 5, 7, 1, 5, 2, 1, 2, 4, 1, 9, 8, 7, 0, 5, 0, 7, 9, 4, 2, 8, 2, 3, 8, 4, 3, 3, 2, 0, 8, 2, 1, 9, 5, 9, 5, 2, 8, 2, 3, 2, 9, 1, 7, 7, 1, 5, 3, 4, 8, 0, 6, 9, 2, 5, 9, 8, 8, 5, 6, 4, 5, 1, 9, 9, 8, 8, 3, 0, 8, 1, 7, 7, 5, 8, 5, 5, 2, 1, 8, 5, 2, 9, 7, 8, 4, 5, 0, 9, 6, 2, 7, 4, 0, 4, 9, 2, 6, 7, 3, 4, 4, 9, 9, 5, 6, 2, 8, 8, 2, 1, 7, 5, 4, 6, 5, 4, 5, 6, 8, 8, 1, 7, 0, 2, 7, 4, 9, 8, 4, 5, 3, 2, 3, 7, 3, 4, 9, 6, 5, 4, 9, 2, 0, 8, 9, 1, 6, 1, 0, 5, 5, 5, 4, 0, 4, 0, 3, 9, 4, 6, 1, 5, 8, 0, 4, 8, 2, 8, 7, 7, 1, 3, 8, 1, 3, 5, 6, 1, 1, 7, 0, 9, 3, 4, 7, 2, 7, 7, 3, 6, 4, 2, 3, 3, 8, 8, 3, 4, 0, 5, 0, 5, 7, 3, 2, 2, 0, 3, 8, 4, 7, 4, 9, 7, 4, 4, 7, 7, 7, 9, 0, 7, 1, 1, 9, 9, 9, 8, 1, 4, 3, 2, 9, 9, 7, 4, 8, 2, 7, 0, 0, 2, 9, 1, 6, 3, 2, 7, 1, 2, 9, 3, 9, 7, 5, 0, 2, 4, 2, 9, 3, 4, 2, 4, 3, 5, 3, 1, 5, 1, 6, 3, 7, 0, 9, 5, 2, 9, 7, 7, 5, 3, 4, 6, 0, 7, 3, 6, 4, 7, 9, 8, 2, 1, 1, 7, 2, 4, 4, 6, 7, 8, 0, 3, 1, 4, 8, 8, 7, 7, 9, 7, 7, 9, 0, 9, 7, 1, 9, 5, 0, 0, 1, 0, 6, 2, 0, 4, 7, 4, 9, 1, 6, 0, 0, 9, 9, 6, 6, 6, 1, 9, 1, 7, 5, 1, 0, 6, 8, 2, 8, 9, 9, 8, 9, 6, 6, 9, 7, 9, 7, 2, 8, 6, 4, 9, 0, 5, 0, 2, 5, 8, 4, 4, 7]\n"
          ]
        }
      ],
      "source": [
        "test_data = testset\n",
        "predicted_val, actual_val = test_function(test_data, trained_model, loss_function)\n",
        "print(predicted_val) \n",
        "print(actual_val)"
      ]
    },
    {
      "cell_type": "code",
      "source": [
        "def accuracy(predicted_labels, true_labels): \n",
        "  correct = 0 \n",
        "  for idx in range(len(predicted_labels)): \n",
        "    if predicted_labels[idx] == true_labels[idx]: \n",
        "      correct += 1 \n",
        "  accuracyVal = correct / len(true_labels) * 100 \n",
        "  return accuracyVal\n",
        "accuracyVal = accuracy(predicted_val, actual_val) \n",
        "print(accuracyVal) "
      ],
      "metadata": {
        "colab": {
          "base_uri": "https://localhost:8080/"
        },
        "id": "yZu19AAr90Ky",
        "outputId": "0263b9fe-2202-4416-b59c-2000670214ff"
      },
      "execution_count": null,
      "outputs": [
        {
          "output_type": "stream",
          "name": "stdout",
          "text": [
            "93.53333333333333\n"
          ]
        }
      ]
    },
    {
      "cell_type": "code",
      "source": [],
      "metadata": {
        "id": "4ApXOlA_-AT2"
      },
      "execution_count": null,
      "outputs": []
    }
  ],
  "metadata": {
    "accelerator": "GPU",
    "colab": {
      "provenance": []
    },
    "gpuClass": "standard",
    "kernelspec": {
      "display_name": "Python 3",
      "name": "python3"
    },
    "language_info": {
      "name": "python"
    },
    "widgets": {
      "application/vnd.jupyter.widget-state+json": {
        "f4229192645341aabf7f8e14844182be": {
          "model_module": "@jupyter-widgets/controls",
          "model_name": "HBoxModel",
          "model_module_version": "1.5.0",
          "state": {
            "_dom_classes": [],
            "_model_module": "@jupyter-widgets/controls",
            "_model_module_version": "1.5.0",
            "_model_name": "HBoxModel",
            "_view_count": null,
            "_view_module": "@jupyter-widgets/controls",
            "_view_module_version": "1.5.0",
            "_view_name": "HBoxView",
            "box_style": "",
            "children": [
              "IPY_MODEL_f83cd75538ab4540bcbcc635cf401644",
              "IPY_MODEL_8f32eee4b33d4dd68625ad4516b9bb79",
              "IPY_MODEL_92bfe00be6ad4e09824ee0d90a4ce355"
            ],
            "layout": "IPY_MODEL_0e6c340b10fe4842acddceba1b3b9915"
          }
        },
        "f83cd75538ab4540bcbcc635cf401644": {
          "model_module": "@jupyter-widgets/controls",
          "model_name": "HTMLModel",
          "model_module_version": "1.5.0",
          "state": {
            "_dom_classes": [],
            "_model_module": "@jupyter-widgets/controls",
            "_model_module_version": "1.5.0",
            "_model_name": "HTMLModel",
            "_view_count": null,
            "_view_module": "@jupyter-widgets/controls",
            "_view_module_version": "1.5.0",
            "_view_name": "HTMLView",
            "description": "",
            "description_tooltip": null,
            "layout": "IPY_MODEL_7a5cd97553ff4978af4d2d28fa5e6aa1",
            "placeholder": "​",
            "style": "IPY_MODEL_4a0442c7be8a4ac0b598a284f0483bff",
            "value": "100%"
          }
        },
        "8f32eee4b33d4dd68625ad4516b9bb79": {
          "model_module": "@jupyter-widgets/controls",
          "model_name": "FloatProgressModel",
          "model_module_version": "1.5.0",
          "state": {
            "_dom_classes": [],
            "_model_module": "@jupyter-widgets/controls",
            "_model_module_version": "1.5.0",
            "_model_name": "FloatProgressModel",
            "_view_count": null,
            "_view_module": "@jupyter-widgets/controls",
            "_view_module_version": "1.5.0",
            "_view_name": "ProgressView",
            "bar_style": "success",
            "description": "",
            "description_tooltip": null,
            "layout": "IPY_MODEL_183208502cd14226ad33397accfc0a40",
            "max": 9912422,
            "min": 0,
            "orientation": "horizontal",
            "style": "IPY_MODEL_0317e7fe69e447d8bcdef81056406f1b",
            "value": 9912422
          }
        },
        "92bfe00be6ad4e09824ee0d90a4ce355": {
          "model_module": "@jupyter-widgets/controls",
          "model_name": "HTMLModel",
          "model_module_version": "1.5.0",
          "state": {
            "_dom_classes": [],
            "_model_module": "@jupyter-widgets/controls",
            "_model_module_version": "1.5.0",
            "_model_name": "HTMLModel",
            "_view_count": null,
            "_view_module": "@jupyter-widgets/controls",
            "_view_module_version": "1.5.0",
            "_view_name": "HTMLView",
            "description": "",
            "description_tooltip": null,
            "layout": "IPY_MODEL_028f349d3c9f4be7857a38ee6f6684f7",
            "placeholder": "​",
            "style": "IPY_MODEL_6a66e2dc4bee4d72a7d608c44bd99b56",
            "value": " 9912422/9912422 [00:00&lt;00:00, 182440831.14it/s]"
          }
        },
        "0e6c340b10fe4842acddceba1b3b9915": {
          "model_module": "@jupyter-widgets/base",
          "model_name": "LayoutModel",
          "model_module_version": "1.2.0",
          "state": {
            "_model_module": "@jupyter-widgets/base",
            "_model_module_version": "1.2.0",
            "_model_name": "LayoutModel",
            "_view_count": null,
            "_view_module": "@jupyter-widgets/base",
            "_view_module_version": "1.2.0",
            "_view_name": "LayoutView",
            "align_content": null,
            "align_items": null,
            "align_self": null,
            "border": null,
            "bottom": null,
            "display": null,
            "flex": null,
            "flex_flow": null,
            "grid_area": null,
            "grid_auto_columns": null,
            "grid_auto_flow": null,
            "grid_auto_rows": null,
            "grid_column": null,
            "grid_gap": null,
            "grid_row": null,
            "grid_template_areas": null,
            "grid_template_columns": null,
            "grid_template_rows": null,
            "height": null,
            "justify_content": null,
            "justify_items": null,
            "left": null,
            "margin": null,
            "max_height": null,
            "max_width": null,
            "min_height": null,
            "min_width": null,
            "object_fit": null,
            "object_position": null,
            "order": null,
            "overflow": null,
            "overflow_x": null,
            "overflow_y": null,
            "padding": null,
            "right": null,
            "top": null,
            "visibility": null,
            "width": null
          }
        },
        "7a5cd97553ff4978af4d2d28fa5e6aa1": {
          "model_module": "@jupyter-widgets/base",
          "model_name": "LayoutModel",
          "model_module_version": "1.2.0",
          "state": {
            "_model_module": "@jupyter-widgets/base",
            "_model_module_version": "1.2.0",
            "_model_name": "LayoutModel",
            "_view_count": null,
            "_view_module": "@jupyter-widgets/base",
            "_view_module_version": "1.2.0",
            "_view_name": "LayoutView",
            "align_content": null,
            "align_items": null,
            "align_self": null,
            "border": null,
            "bottom": null,
            "display": null,
            "flex": null,
            "flex_flow": null,
            "grid_area": null,
            "grid_auto_columns": null,
            "grid_auto_flow": null,
            "grid_auto_rows": null,
            "grid_column": null,
            "grid_gap": null,
            "grid_row": null,
            "grid_template_areas": null,
            "grid_template_columns": null,
            "grid_template_rows": null,
            "height": null,
            "justify_content": null,
            "justify_items": null,
            "left": null,
            "margin": null,
            "max_height": null,
            "max_width": null,
            "min_height": null,
            "min_width": null,
            "object_fit": null,
            "object_position": null,
            "order": null,
            "overflow": null,
            "overflow_x": null,
            "overflow_y": null,
            "padding": null,
            "right": null,
            "top": null,
            "visibility": null,
            "width": null
          }
        },
        "4a0442c7be8a4ac0b598a284f0483bff": {
          "model_module": "@jupyter-widgets/controls",
          "model_name": "DescriptionStyleModel",
          "model_module_version": "1.5.0",
          "state": {
            "_model_module": "@jupyter-widgets/controls",
            "_model_module_version": "1.5.0",
            "_model_name": "DescriptionStyleModel",
            "_view_count": null,
            "_view_module": "@jupyter-widgets/base",
            "_view_module_version": "1.2.0",
            "_view_name": "StyleView",
            "description_width": ""
          }
        },
        "183208502cd14226ad33397accfc0a40": {
          "model_module": "@jupyter-widgets/base",
          "model_name": "LayoutModel",
          "model_module_version": "1.2.0",
          "state": {
            "_model_module": "@jupyter-widgets/base",
            "_model_module_version": "1.2.0",
            "_model_name": "LayoutModel",
            "_view_count": null,
            "_view_module": "@jupyter-widgets/base",
            "_view_module_version": "1.2.0",
            "_view_name": "LayoutView",
            "align_content": null,
            "align_items": null,
            "align_self": null,
            "border": null,
            "bottom": null,
            "display": null,
            "flex": null,
            "flex_flow": null,
            "grid_area": null,
            "grid_auto_columns": null,
            "grid_auto_flow": null,
            "grid_auto_rows": null,
            "grid_column": null,
            "grid_gap": null,
            "grid_row": null,
            "grid_template_areas": null,
            "grid_template_columns": null,
            "grid_template_rows": null,
            "height": null,
            "justify_content": null,
            "justify_items": null,
            "left": null,
            "margin": null,
            "max_height": null,
            "max_width": null,
            "min_height": null,
            "min_width": null,
            "object_fit": null,
            "object_position": null,
            "order": null,
            "overflow": null,
            "overflow_x": null,
            "overflow_y": null,
            "padding": null,
            "right": null,
            "top": null,
            "visibility": null,
            "width": null
          }
        },
        "0317e7fe69e447d8bcdef81056406f1b": {
          "model_module": "@jupyter-widgets/controls",
          "model_name": "ProgressStyleModel",
          "model_module_version": "1.5.0",
          "state": {
            "_model_module": "@jupyter-widgets/controls",
            "_model_module_version": "1.5.0",
            "_model_name": "ProgressStyleModel",
            "_view_count": null,
            "_view_module": "@jupyter-widgets/base",
            "_view_module_version": "1.2.0",
            "_view_name": "StyleView",
            "bar_color": null,
            "description_width": ""
          }
        },
        "028f349d3c9f4be7857a38ee6f6684f7": {
          "model_module": "@jupyter-widgets/base",
          "model_name": "LayoutModel",
          "model_module_version": "1.2.0",
          "state": {
            "_model_module": "@jupyter-widgets/base",
            "_model_module_version": "1.2.0",
            "_model_name": "LayoutModel",
            "_view_count": null,
            "_view_module": "@jupyter-widgets/base",
            "_view_module_version": "1.2.0",
            "_view_name": "LayoutView",
            "align_content": null,
            "align_items": null,
            "align_self": null,
            "border": null,
            "bottom": null,
            "display": null,
            "flex": null,
            "flex_flow": null,
            "grid_area": null,
            "grid_auto_columns": null,
            "grid_auto_flow": null,
            "grid_auto_rows": null,
            "grid_column": null,
            "grid_gap": null,
            "grid_row": null,
            "grid_template_areas": null,
            "grid_template_columns": null,
            "grid_template_rows": null,
            "height": null,
            "justify_content": null,
            "justify_items": null,
            "left": null,
            "margin": null,
            "max_height": null,
            "max_width": null,
            "min_height": null,
            "min_width": null,
            "object_fit": null,
            "object_position": null,
            "order": null,
            "overflow": null,
            "overflow_x": null,
            "overflow_y": null,
            "padding": null,
            "right": null,
            "top": null,
            "visibility": null,
            "width": null
          }
        },
        "6a66e2dc4bee4d72a7d608c44bd99b56": {
          "model_module": "@jupyter-widgets/controls",
          "model_name": "DescriptionStyleModel",
          "model_module_version": "1.5.0",
          "state": {
            "_model_module": "@jupyter-widgets/controls",
            "_model_module_version": "1.5.0",
            "_model_name": "DescriptionStyleModel",
            "_view_count": null,
            "_view_module": "@jupyter-widgets/base",
            "_view_module_version": "1.2.0",
            "_view_name": "StyleView",
            "description_width": ""
          }
        },
        "ec4eed78c8664396be63c735b3222f99": {
          "model_module": "@jupyter-widgets/controls",
          "model_name": "HBoxModel",
          "model_module_version": "1.5.0",
          "state": {
            "_dom_classes": [],
            "_model_module": "@jupyter-widgets/controls",
            "_model_module_version": "1.5.0",
            "_model_name": "HBoxModel",
            "_view_count": null,
            "_view_module": "@jupyter-widgets/controls",
            "_view_module_version": "1.5.0",
            "_view_name": "HBoxView",
            "box_style": "",
            "children": [
              "IPY_MODEL_29894e35c34d4ac6b316cb1c70450671",
              "IPY_MODEL_5aaed789371847d0911ad1c37bd77e29",
              "IPY_MODEL_1830455889554f49a2c3aff5ebd725a7"
            ],
            "layout": "IPY_MODEL_38c87053b8634dae956b150ce0d697b6"
          }
        },
        "29894e35c34d4ac6b316cb1c70450671": {
          "model_module": "@jupyter-widgets/controls",
          "model_name": "HTMLModel",
          "model_module_version": "1.5.0",
          "state": {
            "_dom_classes": [],
            "_model_module": "@jupyter-widgets/controls",
            "_model_module_version": "1.5.0",
            "_model_name": "HTMLModel",
            "_view_count": null,
            "_view_module": "@jupyter-widgets/controls",
            "_view_module_version": "1.5.0",
            "_view_name": "HTMLView",
            "description": "",
            "description_tooltip": null,
            "layout": "IPY_MODEL_c073a4ef86ae43e1a39bc870ff7d1c70",
            "placeholder": "​",
            "style": "IPY_MODEL_9b2209ea82234f35a862acf8d34e3ad0",
            "value": "100%"
          }
        },
        "5aaed789371847d0911ad1c37bd77e29": {
          "model_module": "@jupyter-widgets/controls",
          "model_name": "FloatProgressModel",
          "model_module_version": "1.5.0",
          "state": {
            "_dom_classes": [],
            "_model_module": "@jupyter-widgets/controls",
            "_model_module_version": "1.5.0",
            "_model_name": "FloatProgressModel",
            "_view_count": null,
            "_view_module": "@jupyter-widgets/controls",
            "_view_module_version": "1.5.0",
            "_view_name": "ProgressView",
            "bar_style": "success",
            "description": "",
            "description_tooltip": null,
            "layout": "IPY_MODEL_cc3c756076944571ad7b6f91ffb1c369",
            "max": 28881,
            "min": 0,
            "orientation": "horizontal",
            "style": "IPY_MODEL_6a779f8497c34bfbb200fc2a830c71b5",
            "value": 28881
          }
        },
        "1830455889554f49a2c3aff5ebd725a7": {
          "model_module": "@jupyter-widgets/controls",
          "model_name": "HTMLModel",
          "model_module_version": "1.5.0",
          "state": {
            "_dom_classes": [],
            "_model_module": "@jupyter-widgets/controls",
            "_model_module_version": "1.5.0",
            "_model_name": "HTMLModel",
            "_view_count": null,
            "_view_module": "@jupyter-widgets/controls",
            "_view_module_version": "1.5.0",
            "_view_name": "HTMLView",
            "description": "",
            "description_tooltip": null,
            "layout": "IPY_MODEL_0f8846b3a4d24bd9bf531b71967ef12b",
            "placeholder": "​",
            "style": "IPY_MODEL_7f7426a5623e40589e0637f6092ba340",
            "value": " 28881/28881 [00:00&lt;00:00, 1898053.84it/s]"
          }
        },
        "38c87053b8634dae956b150ce0d697b6": {
          "model_module": "@jupyter-widgets/base",
          "model_name": "LayoutModel",
          "model_module_version": "1.2.0",
          "state": {
            "_model_module": "@jupyter-widgets/base",
            "_model_module_version": "1.2.0",
            "_model_name": "LayoutModel",
            "_view_count": null,
            "_view_module": "@jupyter-widgets/base",
            "_view_module_version": "1.2.0",
            "_view_name": "LayoutView",
            "align_content": null,
            "align_items": null,
            "align_self": null,
            "border": null,
            "bottom": null,
            "display": null,
            "flex": null,
            "flex_flow": null,
            "grid_area": null,
            "grid_auto_columns": null,
            "grid_auto_flow": null,
            "grid_auto_rows": null,
            "grid_column": null,
            "grid_gap": null,
            "grid_row": null,
            "grid_template_areas": null,
            "grid_template_columns": null,
            "grid_template_rows": null,
            "height": null,
            "justify_content": null,
            "justify_items": null,
            "left": null,
            "margin": null,
            "max_height": null,
            "max_width": null,
            "min_height": null,
            "min_width": null,
            "object_fit": null,
            "object_position": null,
            "order": null,
            "overflow": null,
            "overflow_x": null,
            "overflow_y": null,
            "padding": null,
            "right": null,
            "top": null,
            "visibility": null,
            "width": null
          }
        },
        "c073a4ef86ae43e1a39bc870ff7d1c70": {
          "model_module": "@jupyter-widgets/base",
          "model_name": "LayoutModel",
          "model_module_version": "1.2.0",
          "state": {
            "_model_module": "@jupyter-widgets/base",
            "_model_module_version": "1.2.0",
            "_model_name": "LayoutModel",
            "_view_count": null,
            "_view_module": "@jupyter-widgets/base",
            "_view_module_version": "1.2.0",
            "_view_name": "LayoutView",
            "align_content": null,
            "align_items": null,
            "align_self": null,
            "border": null,
            "bottom": null,
            "display": null,
            "flex": null,
            "flex_flow": null,
            "grid_area": null,
            "grid_auto_columns": null,
            "grid_auto_flow": null,
            "grid_auto_rows": null,
            "grid_column": null,
            "grid_gap": null,
            "grid_row": null,
            "grid_template_areas": null,
            "grid_template_columns": null,
            "grid_template_rows": null,
            "height": null,
            "justify_content": null,
            "justify_items": null,
            "left": null,
            "margin": null,
            "max_height": null,
            "max_width": null,
            "min_height": null,
            "min_width": null,
            "object_fit": null,
            "object_position": null,
            "order": null,
            "overflow": null,
            "overflow_x": null,
            "overflow_y": null,
            "padding": null,
            "right": null,
            "top": null,
            "visibility": null,
            "width": null
          }
        },
        "9b2209ea82234f35a862acf8d34e3ad0": {
          "model_module": "@jupyter-widgets/controls",
          "model_name": "DescriptionStyleModel",
          "model_module_version": "1.5.0",
          "state": {
            "_model_module": "@jupyter-widgets/controls",
            "_model_module_version": "1.5.0",
            "_model_name": "DescriptionStyleModel",
            "_view_count": null,
            "_view_module": "@jupyter-widgets/base",
            "_view_module_version": "1.2.0",
            "_view_name": "StyleView",
            "description_width": ""
          }
        },
        "cc3c756076944571ad7b6f91ffb1c369": {
          "model_module": "@jupyter-widgets/base",
          "model_name": "LayoutModel",
          "model_module_version": "1.2.0",
          "state": {
            "_model_module": "@jupyter-widgets/base",
            "_model_module_version": "1.2.0",
            "_model_name": "LayoutModel",
            "_view_count": null,
            "_view_module": "@jupyter-widgets/base",
            "_view_module_version": "1.2.0",
            "_view_name": "LayoutView",
            "align_content": null,
            "align_items": null,
            "align_self": null,
            "border": null,
            "bottom": null,
            "display": null,
            "flex": null,
            "flex_flow": null,
            "grid_area": null,
            "grid_auto_columns": null,
            "grid_auto_flow": null,
            "grid_auto_rows": null,
            "grid_column": null,
            "grid_gap": null,
            "grid_row": null,
            "grid_template_areas": null,
            "grid_template_columns": null,
            "grid_template_rows": null,
            "height": null,
            "justify_content": null,
            "justify_items": null,
            "left": null,
            "margin": null,
            "max_height": null,
            "max_width": null,
            "min_height": null,
            "min_width": null,
            "object_fit": null,
            "object_position": null,
            "order": null,
            "overflow": null,
            "overflow_x": null,
            "overflow_y": null,
            "padding": null,
            "right": null,
            "top": null,
            "visibility": null,
            "width": null
          }
        },
        "6a779f8497c34bfbb200fc2a830c71b5": {
          "model_module": "@jupyter-widgets/controls",
          "model_name": "ProgressStyleModel",
          "model_module_version": "1.5.0",
          "state": {
            "_model_module": "@jupyter-widgets/controls",
            "_model_module_version": "1.5.0",
            "_model_name": "ProgressStyleModel",
            "_view_count": null,
            "_view_module": "@jupyter-widgets/base",
            "_view_module_version": "1.2.0",
            "_view_name": "StyleView",
            "bar_color": null,
            "description_width": ""
          }
        },
        "0f8846b3a4d24bd9bf531b71967ef12b": {
          "model_module": "@jupyter-widgets/base",
          "model_name": "LayoutModel",
          "model_module_version": "1.2.0",
          "state": {
            "_model_module": "@jupyter-widgets/base",
            "_model_module_version": "1.2.0",
            "_model_name": "LayoutModel",
            "_view_count": null,
            "_view_module": "@jupyter-widgets/base",
            "_view_module_version": "1.2.0",
            "_view_name": "LayoutView",
            "align_content": null,
            "align_items": null,
            "align_self": null,
            "border": null,
            "bottom": null,
            "display": null,
            "flex": null,
            "flex_flow": null,
            "grid_area": null,
            "grid_auto_columns": null,
            "grid_auto_flow": null,
            "grid_auto_rows": null,
            "grid_column": null,
            "grid_gap": null,
            "grid_row": null,
            "grid_template_areas": null,
            "grid_template_columns": null,
            "grid_template_rows": null,
            "height": null,
            "justify_content": null,
            "justify_items": null,
            "left": null,
            "margin": null,
            "max_height": null,
            "max_width": null,
            "min_height": null,
            "min_width": null,
            "object_fit": null,
            "object_position": null,
            "order": null,
            "overflow": null,
            "overflow_x": null,
            "overflow_y": null,
            "padding": null,
            "right": null,
            "top": null,
            "visibility": null,
            "width": null
          }
        },
        "7f7426a5623e40589e0637f6092ba340": {
          "model_module": "@jupyter-widgets/controls",
          "model_name": "DescriptionStyleModel",
          "model_module_version": "1.5.0",
          "state": {
            "_model_module": "@jupyter-widgets/controls",
            "_model_module_version": "1.5.0",
            "_model_name": "DescriptionStyleModel",
            "_view_count": null,
            "_view_module": "@jupyter-widgets/base",
            "_view_module_version": "1.2.0",
            "_view_name": "StyleView",
            "description_width": ""
          }
        },
        "6c18b8443091472b9512f2ad8354a876": {
          "model_module": "@jupyter-widgets/controls",
          "model_name": "HBoxModel",
          "model_module_version": "1.5.0",
          "state": {
            "_dom_classes": [],
            "_model_module": "@jupyter-widgets/controls",
            "_model_module_version": "1.5.0",
            "_model_name": "HBoxModel",
            "_view_count": null,
            "_view_module": "@jupyter-widgets/controls",
            "_view_module_version": "1.5.0",
            "_view_name": "HBoxView",
            "box_style": "",
            "children": [
              "IPY_MODEL_ed2554861c7d4e1cba5e995439d6b29c",
              "IPY_MODEL_7dfa53bd509c4bf481c4a65a7be48f01",
              "IPY_MODEL_9ad81801faeb4f389699536e31f6a989"
            ],
            "layout": "IPY_MODEL_4c6a3a081b544c0db0c955631bacfbc9"
          }
        },
        "ed2554861c7d4e1cba5e995439d6b29c": {
          "model_module": "@jupyter-widgets/controls",
          "model_name": "HTMLModel",
          "model_module_version": "1.5.0",
          "state": {
            "_dom_classes": [],
            "_model_module": "@jupyter-widgets/controls",
            "_model_module_version": "1.5.0",
            "_model_name": "HTMLModel",
            "_view_count": null,
            "_view_module": "@jupyter-widgets/controls",
            "_view_module_version": "1.5.0",
            "_view_name": "HTMLView",
            "description": "",
            "description_tooltip": null,
            "layout": "IPY_MODEL_41788c2dd0fb45f09c882666138282c3",
            "placeholder": "​",
            "style": "IPY_MODEL_04f40047f6a8493da21e2c9c9872f1cd",
            "value": "100%"
          }
        },
        "7dfa53bd509c4bf481c4a65a7be48f01": {
          "model_module": "@jupyter-widgets/controls",
          "model_name": "FloatProgressModel",
          "model_module_version": "1.5.0",
          "state": {
            "_dom_classes": [],
            "_model_module": "@jupyter-widgets/controls",
            "_model_module_version": "1.5.0",
            "_model_name": "FloatProgressModel",
            "_view_count": null,
            "_view_module": "@jupyter-widgets/controls",
            "_view_module_version": "1.5.0",
            "_view_name": "ProgressView",
            "bar_style": "success",
            "description": "",
            "description_tooltip": null,
            "layout": "IPY_MODEL_c117227eeef3480aadf4f1ba9e72da46",
            "max": 1648877,
            "min": 0,
            "orientation": "horizontal",
            "style": "IPY_MODEL_3e64773b1833463b91c2084be354f432",
            "value": 1648877
          }
        },
        "9ad81801faeb4f389699536e31f6a989": {
          "model_module": "@jupyter-widgets/controls",
          "model_name": "HTMLModel",
          "model_module_version": "1.5.0",
          "state": {
            "_dom_classes": [],
            "_model_module": "@jupyter-widgets/controls",
            "_model_module_version": "1.5.0",
            "_model_name": "HTMLModel",
            "_view_count": null,
            "_view_module": "@jupyter-widgets/controls",
            "_view_module_version": "1.5.0",
            "_view_name": "HTMLView",
            "description": "",
            "description_tooltip": null,
            "layout": "IPY_MODEL_74206da4a8944bd1b6e0c7dc64ef2a5e",
            "placeholder": "​",
            "style": "IPY_MODEL_e9c34ab0bdea4439a1aa2e1a3d55802d",
            "value": " 1648877/1648877 [00:00&lt;00:00, 52906550.67it/s]"
          }
        },
        "4c6a3a081b544c0db0c955631bacfbc9": {
          "model_module": "@jupyter-widgets/base",
          "model_name": "LayoutModel",
          "model_module_version": "1.2.0",
          "state": {
            "_model_module": "@jupyter-widgets/base",
            "_model_module_version": "1.2.0",
            "_model_name": "LayoutModel",
            "_view_count": null,
            "_view_module": "@jupyter-widgets/base",
            "_view_module_version": "1.2.0",
            "_view_name": "LayoutView",
            "align_content": null,
            "align_items": null,
            "align_self": null,
            "border": null,
            "bottom": null,
            "display": null,
            "flex": null,
            "flex_flow": null,
            "grid_area": null,
            "grid_auto_columns": null,
            "grid_auto_flow": null,
            "grid_auto_rows": null,
            "grid_column": null,
            "grid_gap": null,
            "grid_row": null,
            "grid_template_areas": null,
            "grid_template_columns": null,
            "grid_template_rows": null,
            "height": null,
            "justify_content": null,
            "justify_items": null,
            "left": null,
            "margin": null,
            "max_height": null,
            "max_width": null,
            "min_height": null,
            "min_width": null,
            "object_fit": null,
            "object_position": null,
            "order": null,
            "overflow": null,
            "overflow_x": null,
            "overflow_y": null,
            "padding": null,
            "right": null,
            "top": null,
            "visibility": null,
            "width": null
          }
        },
        "41788c2dd0fb45f09c882666138282c3": {
          "model_module": "@jupyter-widgets/base",
          "model_name": "LayoutModel",
          "model_module_version": "1.2.0",
          "state": {
            "_model_module": "@jupyter-widgets/base",
            "_model_module_version": "1.2.0",
            "_model_name": "LayoutModel",
            "_view_count": null,
            "_view_module": "@jupyter-widgets/base",
            "_view_module_version": "1.2.0",
            "_view_name": "LayoutView",
            "align_content": null,
            "align_items": null,
            "align_self": null,
            "border": null,
            "bottom": null,
            "display": null,
            "flex": null,
            "flex_flow": null,
            "grid_area": null,
            "grid_auto_columns": null,
            "grid_auto_flow": null,
            "grid_auto_rows": null,
            "grid_column": null,
            "grid_gap": null,
            "grid_row": null,
            "grid_template_areas": null,
            "grid_template_columns": null,
            "grid_template_rows": null,
            "height": null,
            "justify_content": null,
            "justify_items": null,
            "left": null,
            "margin": null,
            "max_height": null,
            "max_width": null,
            "min_height": null,
            "min_width": null,
            "object_fit": null,
            "object_position": null,
            "order": null,
            "overflow": null,
            "overflow_x": null,
            "overflow_y": null,
            "padding": null,
            "right": null,
            "top": null,
            "visibility": null,
            "width": null
          }
        },
        "04f40047f6a8493da21e2c9c9872f1cd": {
          "model_module": "@jupyter-widgets/controls",
          "model_name": "DescriptionStyleModel",
          "model_module_version": "1.5.0",
          "state": {
            "_model_module": "@jupyter-widgets/controls",
            "_model_module_version": "1.5.0",
            "_model_name": "DescriptionStyleModel",
            "_view_count": null,
            "_view_module": "@jupyter-widgets/base",
            "_view_module_version": "1.2.0",
            "_view_name": "StyleView",
            "description_width": ""
          }
        },
        "c117227eeef3480aadf4f1ba9e72da46": {
          "model_module": "@jupyter-widgets/base",
          "model_name": "LayoutModel",
          "model_module_version": "1.2.0",
          "state": {
            "_model_module": "@jupyter-widgets/base",
            "_model_module_version": "1.2.0",
            "_model_name": "LayoutModel",
            "_view_count": null,
            "_view_module": "@jupyter-widgets/base",
            "_view_module_version": "1.2.0",
            "_view_name": "LayoutView",
            "align_content": null,
            "align_items": null,
            "align_self": null,
            "border": null,
            "bottom": null,
            "display": null,
            "flex": null,
            "flex_flow": null,
            "grid_area": null,
            "grid_auto_columns": null,
            "grid_auto_flow": null,
            "grid_auto_rows": null,
            "grid_column": null,
            "grid_gap": null,
            "grid_row": null,
            "grid_template_areas": null,
            "grid_template_columns": null,
            "grid_template_rows": null,
            "height": null,
            "justify_content": null,
            "justify_items": null,
            "left": null,
            "margin": null,
            "max_height": null,
            "max_width": null,
            "min_height": null,
            "min_width": null,
            "object_fit": null,
            "object_position": null,
            "order": null,
            "overflow": null,
            "overflow_x": null,
            "overflow_y": null,
            "padding": null,
            "right": null,
            "top": null,
            "visibility": null,
            "width": null
          }
        },
        "3e64773b1833463b91c2084be354f432": {
          "model_module": "@jupyter-widgets/controls",
          "model_name": "ProgressStyleModel",
          "model_module_version": "1.5.0",
          "state": {
            "_model_module": "@jupyter-widgets/controls",
            "_model_module_version": "1.5.0",
            "_model_name": "ProgressStyleModel",
            "_view_count": null,
            "_view_module": "@jupyter-widgets/base",
            "_view_module_version": "1.2.0",
            "_view_name": "StyleView",
            "bar_color": null,
            "description_width": ""
          }
        },
        "74206da4a8944bd1b6e0c7dc64ef2a5e": {
          "model_module": "@jupyter-widgets/base",
          "model_name": "LayoutModel",
          "model_module_version": "1.2.0",
          "state": {
            "_model_module": "@jupyter-widgets/base",
            "_model_module_version": "1.2.0",
            "_model_name": "LayoutModel",
            "_view_count": null,
            "_view_module": "@jupyter-widgets/base",
            "_view_module_version": "1.2.0",
            "_view_name": "LayoutView",
            "align_content": null,
            "align_items": null,
            "align_self": null,
            "border": null,
            "bottom": null,
            "display": null,
            "flex": null,
            "flex_flow": null,
            "grid_area": null,
            "grid_auto_columns": null,
            "grid_auto_flow": null,
            "grid_auto_rows": null,
            "grid_column": null,
            "grid_gap": null,
            "grid_row": null,
            "grid_template_areas": null,
            "grid_template_columns": null,
            "grid_template_rows": null,
            "height": null,
            "justify_content": null,
            "justify_items": null,
            "left": null,
            "margin": null,
            "max_height": null,
            "max_width": null,
            "min_height": null,
            "min_width": null,
            "object_fit": null,
            "object_position": null,
            "order": null,
            "overflow": null,
            "overflow_x": null,
            "overflow_y": null,
            "padding": null,
            "right": null,
            "top": null,
            "visibility": null,
            "width": null
          }
        },
        "e9c34ab0bdea4439a1aa2e1a3d55802d": {
          "model_module": "@jupyter-widgets/controls",
          "model_name": "DescriptionStyleModel",
          "model_module_version": "1.5.0",
          "state": {
            "_model_module": "@jupyter-widgets/controls",
            "_model_module_version": "1.5.0",
            "_model_name": "DescriptionStyleModel",
            "_view_count": null,
            "_view_module": "@jupyter-widgets/base",
            "_view_module_version": "1.2.0",
            "_view_name": "StyleView",
            "description_width": ""
          }
        },
        "0c281003740b434eb0d7898a2735908d": {
          "model_module": "@jupyter-widgets/controls",
          "model_name": "HBoxModel",
          "model_module_version": "1.5.0",
          "state": {
            "_dom_classes": [],
            "_model_module": "@jupyter-widgets/controls",
            "_model_module_version": "1.5.0",
            "_model_name": "HBoxModel",
            "_view_count": null,
            "_view_module": "@jupyter-widgets/controls",
            "_view_module_version": "1.5.0",
            "_view_name": "HBoxView",
            "box_style": "",
            "children": [
              "IPY_MODEL_abdfc5355bd74121a7b66e263ca582dc",
              "IPY_MODEL_c778795224474fd6a06514ba294f420d",
              "IPY_MODEL_e4c004493b3d4465846faaed422c0475"
            ],
            "layout": "IPY_MODEL_f929d1cf5f2048259fda8407f73f6a73"
          }
        },
        "abdfc5355bd74121a7b66e263ca582dc": {
          "model_module": "@jupyter-widgets/controls",
          "model_name": "HTMLModel",
          "model_module_version": "1.5.0",
          "state": {
            "_dom_classes": [],
            "_model_module": "@jupyter-widgets/controls",
            "_model_module_version": "1.5.0",
            "_model_name": "HTMLModel",
            "_view_count": null,
            "_view_module": "@jupyter-widgets/controls",
            "_view_module_version": "1.5.0",
            "_view_name": "HTMLView",
            "description": "",
            "description_tooltip": null,
            "layout": "IPY_MODEL_f8a7ddc6940942869087fcf269729162",
            "placeholder": "​",
            "style": "IPY_MODEL_dde00db2ee3d4976a3cdc5db4b260b65",
            "value": "100%"
          }
        },
        "c778795224474fd6a06514ba294f420d": {
          "model_module": "@jupyter-widgets/controls",
          "model_name": "FloatProgressModel",
          "model_module_version": "1.5.0",
          "state": {
            "_dom_classes": [],
            "_model_module": "@jupyter-widgets/controls",
            "_model_module_version": "1.5.0",
            "_model_name": "FloatProgressModel",
            "_view_count": null,
            "_view_module": "@jupyter-widgets/controls",
            "_view_module_version": "1.5.0",
            "_view_name": "ProgressView",
            "bar_style": "success",
            "description": "",
            "description_tooltip": null,
            "layout": "IPY_MODEL_4b58f6f934a64d0f9b72c3ccc841a787",
            "max": 4542,
            "min": 0,
            "orientation": "horizontal",
            "style": "IPY_MODEL_bc97d73cf659432bb7e97e817df363c9",
            "value": 4542
          }
        },
        "e4c004493b3d4465846faaed422c0475": {
          "model_module": "@jupyter-widgets/controls",
          "model_name": "HTMLModel",
          "model_module_version": "1.5.0",
          "state": {
            "_dom_classes": [],
            "_model_module": "@jupyter-widgets/controls",
            "_model_module_version": "1.5.0",
            "_model_name": "HTMLModel",
            "_view_count": null,
            "_view_module": "@jupyter-widgets/controls",
            "_view_module_version": "1.5.0",
            "_view_name": "HTMLView",
            "description": "",
            "description_tooltip": null,
            "layout": "IPY_MODEL_9185360b7f53444494ce705871351c25",
            "placeholder": "​",
            "style": "IPY_MODEL_6f11b9b3cb7d4a6fac3f11574cd415d6",
            "value": " 4542/4542 [00:00&lt;00:00, 233909.54it/s]"
          }
        },
        "f929d1cf5f2048259fda8407f73f6a73": {
          "model_module": "@jupyter-widgets/base",
          "model_name": "LayoutModel",
          "model_module_version": "1.2.0",
          "state": {
            "_model_module": "@jupyter-widgets/base",
            "_model_module_version": "1.2.0",
            "_model_name": "LayoutModel",
            "_view_count": null,
            "_view_module": "@jupyter-widgets/base",
            "_view_module_version": "1.2.0",
            "_view_name": "LayoutView",
            "align_content": null,
            "align_items": null,
            "align_self": null,
            "border": null,
            "bottom": null,
            "display": null,
            "flex": null,
            "flex_flow": null,
            "grid_area": null,
            "grid_auto_columns": null,
            "grid_auto_flow": null,
            "grid_auto_rows": null,
            "grid_column": null,
            "grid_gap": null,
            "grid_row": null,
            "grid_template_areas": null,
            "grid_template_columns": null,
            "grid_template_rows": null,
            "height": null,
            "justify_content": null,
            "justify_items": null,
            "left": null,
            "margin": null,
            "max_height": null,
            "max_width": null,
            "min_height": null,
            "min_width": null,
            "object_fit": null,
            "object_position": null,
            "order": null,
            "overflow": null,
            "overflow_x": null,
            "overflow_y": null,
            "padding": null,
            "right": null,
            "top": null,
            "visibility": null,
            "width": null
          }
        },
        "f8a7ddc6940942869087fcf269729162": {
          "model_module": "@jupyter-widgets/base",
          "model_name": "LayoutModel",
          "model_module_version": "1.2.0",
          "state": {
            "_model_module": "@jupyter-widgets/base",
            "_model_module_version": "1.2.0",
            "_model_name": "LayoutModel",
            "_view_count": null,
            "_view_module": "@jupyter-widgets/base",
            "_view_module_version": "1.2.0",
            "_view_name": "LayoutView",
            "align_content": null,
            "align_items": null,
            "align_self": null,
            "border": null,
            "bottom": null,
            "display": null,
            "flex": null,
            "flex_flow": null,
            "grid_area": null,
            "grid_auto_columns": null,
            "grid_auto_flow": null,
            "grid_auto_rows": null,
            "grid_column": null,
            "grid_gap": null,
            "grid_row": null,
            "grid_template_areas": null,
            "grid_template_columns": null,
            "grid_template_rows": null,
            "height": null,
            "justify_content": null,
            "justify_items": null,
            "left": null,
            "margin": null,
            "max_height": null,
            "max_width": null,
            "min_height": null,
            "min_width": null,
            "object_fit": null,
            "object_position": null,
            "order": null,
            "overflow": null,
            "overflow_x": null,
            "overflow_y": null,
            "padding": null,
            "right": null,
            "top": null,
            "visibility": null,
            "width": null
          }
        },
        "dde00db2ee3d4976a3cdc5db4b260b65": {
          "model_module": "@jupyter-widgets/controls",
          "model_name": "DescriptionStyleModel",
          "model_module_version": "1.5.0",
          "state": {
            "_model_module": "@jupyter-widgets/controls",
            "_model_module_version": "1.5.0",
            "_model_name": "DescriptionStyleModel",
            "_view_count": null,
            "_view_module": "@jupyter-widgets/base",
            "_view_module_version": "1.2.0",
            "_view_name": "StyleView",
            "description_width": ""
          }
        },
        "4b58f6f934a64d0f9b72c3ccc841a787": {
          "model_module": "@jupyter-widgets/base",
          "model_name": "LayoutModel",
          "model_module_version": "1.2.0",
          "state": {
            "_model_module": "@jupyter-widgets/base",
            "_model_module_version": "1.2.0",
            "_model_name": "LayoutModel",
            "_view_count": null,
            "_view_module": "@jupyter-widgets/base",
            "_view_module_version": "1.2.0",
            "_view_name": "LayoutView",
            "align_content": null,
            "align_items": null,
            "align_self": null,
            "border": null,
            "bottom": null,
            "display": null,
            "flex": null,
            "flex_flow": null,
            "grid_area": null,
            "grid_auto_columns": null,
            "grid_auto_flow": null,
            "grid_auto_rows": null,
            "grid_column": null,
            "grid_gap": null,
            "grid_row": null,
            "grid_template_areas": null,
            "grid_template_columns": null,
            "grid_template_rows": null,
            "height": null,
            "justify_content": null,
            "justify_items": null,
            "left": null,
            "margin": null,
            "max_height": null,
            "max_width": null,
            "min_height": null,
            "min_width": null,
            "object_fit": null,
            "object_position": null,
            "order": null,
            "overflow": null,
            "overflow_x": null,
            "overflow_y": null,
            "padding": null,
            "right": null,
            "top": null,
            "visibility": null,
            "width": null
          }
        },
        "bc97d73cf659432bb7e97e817df363c9": {
          "model_module": "@jupyter-widgets/controls",
          "model_name": "ProgressStyleModel",
          "model_module_version": "1.5.0",
          "state": {
            "_model_module": "@jupyter-widgets/controls",
            "_model_module_version": "1.5.0",
            "_model_name": "ProgressStyleModel",
            "_view_count": null,
            "_view_module": "@jupyter-widgets/base",
            "_view_module_version": "1.2.0",
            "_view_name": "StyleView",
            "bar_color": null,
            "description_width": ""
          }
        },
        "9185360b7f53444494ce705871351c25": {
          "model_module": "@jupyter-widgets/base",
          "model_name": "LayoutModel",
          "model_module_version": "1.2.0",
          "state": {
            "_model_module": "@jupyter-widgets/base",
            "_model_module_version": "1.2.0",
            "_model_name": "LayoutModel",
            "_view_count": null,
            "_view_module": "@jupyter-widgets/base",
            "_view_module_version": "1.2.0",
            "_view_name": "LayoutView",
            "align_content": null,
            "align_items": null,
            "align_self": null,
            "border": null,
            "bottom": null,
            "display": null,
            "flex": null,
            "flex_flow": null,
            "grid_area": null,
            "grid_auto_columns": null,
            "grid_auto_flow": null,
            "grid_auto_rows": null,
            "grid_column": null,
            "grid_gap": null,
            "grid_row": null,
            "grid_template_areas": null,
            "grid_template_columns": null,
            "grid_template_rows": null,
            "height": null,
            "justify_content": null,
            "justify_items": null,
            "left": null,
            "margin": null,
            "max_height": null,
            "max_width": null,
            "min_height": null,
            "min_width": null,
            "object_fit": null,
            "object_position": null,
            "order": null,
            "overflow": null,
            "overflow_x": null,
            "overflow_y": null,
            "padding": null,
            "right": null,
            "top": null,
            "visibility": null,
            "width": null
          }
        },
        "6f11b9b3cb7d4a6fac3f11574cd415d6": {
          "model_module": "@jupyter-widgets/controls",
          "model_name": "DescriptionStyleModel",
          "model_module_version": "1.5.0",
          "state": {
            "_model_module": "@jupyter-widgets/controls",
            "_model_module_version": "1.5.0",
            "_model_name": "DescriptionStyleModel",
            "_view_count": null,
            "_view_module": "@jupyter-widgets/base",
            "_view_module_version": "1.2.0",
            "_view_name": "StyleView",
            "description_width": ""
          }
        }
      }
    }
  },
  "nbformat": 4,
  "nbformat_minor": 0
}