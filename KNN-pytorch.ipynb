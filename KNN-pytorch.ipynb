{
  "cells": [
    {
      "cell_type": "markdown",
      "metadata": {
        "id": "k_h13qeAU3s0"
      },
      "source": [
        "### Assignment 1 - knn  \n",
        "a) Make a KNN (starting with k = 5) and its training / validation / evaluation code to perform multiclass classification over all digits \n",
        "b) what are the hyperparameters you can tune? \n",
        "c) try at least two other options for each hyperparameter. Report the performance for each option \n",
        "d) you can try more options if you want. What is the final test accuracy? \n",
        "\n",
        "submission should include a code (both link to colab and .py format) and a report that has answers to the questions and results. \n",
        "\n",
        "hyperparameter is a parameter whose value is used to control the learning process "
      ]
    },
    {
      "cell_type": "markdown",
      "metadata": {
        "id": "zkAt0Xesc3d9"
      },
      "source": [
        "##### Import Dataset "
      ]
    },
    {
      "cell_type": "code",
      "execution_count": null,
      "metadata": {
        "id": "-DNwqQzKgYlN"
      },
      "outputs": [],
      "source": [
        "import numpy as np \n",
        "import torch \n",
        "from torchvision import datasets \n",
        "\n",
        "trainset = datasets.MNIST(root='./data', train = True, download = True)\n",
        "testset = datasets.MNIST(root='./data', train = False, download = True)"
      ]
    },
    {
      "cell_type": "markdown",
      "metadata": {
        "id": "A6hJA-GHc6Qm"
      },
      "source": [
        "##### Split & Prepare Dataset "
      ]
    },
    {
      "cell_type": "code",
      "execution_count": null,
      "metadata": {
        "id": "SoK_qms8RIbR"
      },
      "outputs": [],
      "source": [
        "# data split \n",
        "# indices for train / val splits: train_idx, valid_idx \n",
        "import numpy as np \n",
        "import torch\n",
        "\n",
        "# split into train and validation sets \n",
        "np.random.seed(0) \n",
        "val_ratio = 0.1 \n",
        "train_size = len(trainset) \n",
        "indices = list(range(train_size)) \n",
        "split_idx = int(np.floor(val_ratio * train_size))\n",
        "np.random.shuffle(indices)\n",
        "train_idx, val_idx = indices[split_idx:], indices[:split_idx] \n",
        "\n",
        "train_data = trainset.data[train_idx].float() / 255 \n",
        "train_labels = trainset.targets[train_idx] \n",
        "val_data = trainset.data[val_idx].float() / 255 \n",
        "val_labels = trainset.targets[val_idx] "
      ]
    },
    {
      "cell_type": "code",
      "execution_count": null,
      "metadata": {
        "id": "Xq8lYlYMGjEt"
      },
      "outputs": [],
      "source": [
        "# use gpu for train and val data sets \n",
        "train_data = train_data.cuda() \n",
        "val_data = val_data.cuda() \n",
        "train_labels = train_labels.cuda() \n",
        "val_labels = val_labels.cuda() "
      ]
    },
    {
      "cell_type": "code",
      "execution_count": null,
      "metadata": {
        "colab": {
          "base_uri": "https://localhost:8080/"
        },
        "id": "BSmVCBSmQElh",
        "outputId": "b89b875c-4a24-4211-d67d-5955ba577a32"
      },
      "outputs": [
        {
          "output_type": "execute_result",
          "data": {
            "text/plain": [
              "device(type='cuda', index=0)"
            ]
          },
          "metadata": {},
          "execution_count": 7
        }
      ],
      "source": [
        "train_data.device"
      ]
    },
    {
      "cell_type": "code",
      "execution_count": null,
      "metadata": {
        "colab": {
          "base_uri": "https://localhost:8080/"
        },
        "id": "sQ-jrY7beYNs",
        "outputId": "a2fa103e-2944-4738-985e-538e22de20bb"
      },
      "outputs": [
        {
          "output_type": "stream",
          "name": "stdout",
          "text": [
            "torch.Size([54000, 784]) torch.Size([54000])\n",
            "torch.Size([6000, 784]) torch.Size([6000])\n"
          ]
        }
      ],
      "source": [
        "print(train_data.shape, train_labels.shape) \n",
        "print(val_data.shape, val_labels.shape) "
      ]
    },
    {
      "cell_type": "code",
      "execution_count": null,
      "metadata": {
        "colab": {
          "base_uri": "https://localhost:8080/"
        },
        "id": "EM-BjXlHceTN",
        "outputId": "2f29c9ec-8753-4d42-c4fd-008e52ef04d6"
      },
      "outputs": [
        {
          "output_type": "stream",
          "name": "stdout",
          "text": [
            "torch.Size([54000, 784])\n",
            "torch.Size([6000, 784])\n"
          ]
        }
      ],
      "source": [
        "# reshape data \n",
        "train_data = train_data.view(train_data.size(0), -1)\n",
        "val_data = val_data.view(val_data.size(0), -1)"
      ]
    },
    {
      "cell_type": "markdown",
      "source": [
        "##### KNN Algorithm "
      ],
      "metadata": {
        "id": "ZSIZ9c7sSA7d"
      }
    },
    {
      "cell_type": "code",
      "source": [
        "def knn(train_data, train_labels, test_data, k, p, compute_mode):\n",
        "  test_labels = []\n",
        "  for test_index in range(test_data.shape[0]):\n",
        "    unsqueezedData = torch.unsqueeze(test_data[test_index], 0) \n",
        "    euclideanDistance = torch.cdist(unsqueezedData, train_data, p = float(p), compute_mode=compute_mode) **2 \n",
        "    val, idx = torch.topk(euclideanDistance, k, largest = False)\n",
        "    singleTestLabels = train_labels[idx] \n",
        "    predictedVal, predictedidx = torch.mode(singleTestLabels[0])\n",
        "    test_labels.append(predictedVal.item())\n",
        "  torch.tensor(test_labels)\n",
        "  return test_labels"
      ],
      "metadata": {
        "id": "k-1Rwc14-6CC"
      },
      "execution_count": null,
      "outputs": []
    },
    {
      "cell_type": "code",
      "execution_count": null,
      "metadata": {
        "id": "RpxpQWd5nGa_"
      },
      "outputs": [],
      "source": [
        "predicted_val_labels = knn(train_data, train_labels, val_data, 5, 2, 'use_mm_for_euclid_dist_if_necessary')"
      ]
    },
    {
      "cell_type": "markdown",
      "source": [
        "##### Evaluation "
      ],
      "metadata": {
        "id": "t_xyU7HzO4Fk"
      }
    },
    {
      "cell_type": "code",
      "execution_count": null,
      "metadata": {
        "id": "IneUcAYfagmC"
      },
      "outputs": [],
      "source": [
        "def accuracy(predicted_labels, true_labels): \n",
        "  correct = 0 \n",
        "  for idx in range(len(predicted_labels)): \n",
        "    if predicted_labels[idx] == true_labels[idx]: \n",
        "      correct += 1 \n",
        "  accuracy = correct / len(true_labels) * 100 \n",
        "  error = 100 - accuracy \n",
        "  return accuracy, error "
      ]
    },
    {
      "cell_type": "code",
      "source": [
        "print(accuracy(predicted_val_labels, val_labels))"
      ],
      "metadata": {
        "colab": {
          "base_uri": "https://localhost:8080/"
        },
        "id": "D6X9W7IEBGFP",
        "outputId": "927c6393-9a7b-484a-ed1d-0e450dc71d3c"
      },
      "execution_count": null,
      "outputs": [
        {
          "output_type": "stream",
          "name": "stdout",
          "text": [
            "(92.73333333333333, 7.266666666666666)\n"
          ]
        }
      ]
    },
    {
      "cell_type": "markdown",
      "metadata": {
        "id": "PqL4UYSUo4VC"
      },
      "source": [
        "##### Vary K "
      ]
    },
    {
      "cell_type": "code",
      "execution_count": null,
      "metadata": {
        "colab": {
          "base_uri": "https://localhost:8080/"
        },
        "id": "-sFTfGDecda2",
        "outputId": "897edd08-4da4-4d0f-e699-d6b003746d3c"
      },
      "outputs": [
        {
          "output_type": "stream",
          "name": "stdout",
          "text": [
            "5\n",
            "97.36666666666667 2.6333333333333258\n",
            "10\n",
            "97.16666666666667 2.8333333333333286\n",
            "20\n",
            "96.51666666666667 3.4833333333333343\n",
            "50\n",
            "95.5 4.5\n",
            "100\n",
            "94.23333333333333 5.766666666666666\n",
            "150\n",
            "93.60000000000001 6.3999999999999915\n",
            "200\n",
            "92.73333333333333 7.266666666666666\n",
            "accuracy: [97.36666666666667, 97.16666666666667, 96.51666666666667, 95.5, 94.23333333333333, 93.60000000000001, 92.73333333333333]\n",
            "error: [2.6333333333333258, 2.8333333333333286, 3.4833333333333343, 4.5, 5.766666666666666, 6.3999999999999915, 7.266666666666666]\n"
          ]
        }
      ],
      "source": [
        "# driver code to generate results for diff values of k \n",
        "kValues = [5, 10, 20, 50, 100, 150, 200]\n",
        "accuracyList = [] \n",
        "errorList = [] \n",
        "p = 2 \n",
        "compute_mode = 'use_mm_for_euclid_dist_if_necessary'\n",
        "for k in kValues: \n",
        "  predicted_val_labels = knn(train_data, train_labels, val_data, k, p, compute_mode)\n",
        "  accuracyVal, errorVal = accuracy(predicted_val_labels, val_labels)\n",
        "  accuracyList.append(accuracyVal) \n",
        "  errorList.append(errorVal) "
      ]
    },
    {
      "cell_type": "code",
      "execution_count": null,
      "metadata": {
        "colab": {
          "base_uri": "https://localhost:8080/",
          "height": 281
        },
        "id": "fg5Q1E73mtOT",
        "outputId": "96426c83-e662-405d-bc13-e82b98582926"
      },
      "outputs": [
        {
          "output_type": "display_data",
          "data": {
            "text/plain": [
              "<Figure size 432x288 with 1 Axes>"
            ],
            "image/png": "[encoded data removed]"
          },
          "metadata": {
            "needs_background": "light"
          }
        }
      ],
      "source": [
        "import matplotlib.pyplot as plt \n",
        "x_axis = kValues \n",
        "y_error_axis = errorList \n",
        "y_accuracy_axis = accuracyList\n",
        "plt.plot(x_axis, y_error_axis, label='Error Rate', linestyle = '-') \n",
        "plt.title('Graph of Value of Error Rate (in %) against Value of K')\n",
        "plt.show() "
      ]
    },
    {
      "cell_type": "markdown",
      "source": [
        "##### Vary P "
      ],
      "metadata": {
        "id": "xSbtClKWCnuI"
      }
    },
    {
      "cell_type": "code",
      "execution_count": null,
      "metadata": {
        "id": "4o5eJ_wqw_oF",
        "colab": {
          "base_uri": "https://localhost:8080/"
        },
        "outputId": "01268403-7232-4ff6-ebac-27fac68362ec"
      },
      "outputs": [
        {
          "output_type": "stream",
          "name": "stdout",
          "text": [
            "1\n",
            "96.55 3.450000000000003\n",
            "2\n",
            "97.36666666666667 2.6333333333333258\n",
            "3\n",
            "97.71666666666667 2.2833333333333314\n",
            "4\n",
            "97.8 2.200000000000003\n",
            "5\n",
            "97.89999999999999 2.1000000000000085\n",
            "6\n",
            "97.81666666666666 2.183333333333337\n",
            "7\n",
            "97.83333333333334 2.166666666666657\n",
            "8\n",
            "97.89999999999999 2.1000000000000085\n",
            "9\n",
            "97.93333333333332 2.066666666666677\n",
            "10\n",
            "98.0 2.0\n",
            "accuracy: [96.55, 97.36666666666667, 97.71666666666667, 97.8, 97.89999999999999, 97.81666666666666, 97.83333333333334, 97.89999999999999, 97.93333333333332, 98.0]\n",
            "error: [3.450000000000003, 2.6333333333333258, 2.2833333333333314, 2.200000000000003, 2.1000000000000085, 2.183333333333337, 2.166666666666657, 2.1000000000000085, 2.066666666666677, 2.0]\n"
          ]
        }
      ],
      "source": [
        "# driver code to generate results for diff values of p\n",
        "pValues = [i for i in range(1, 11)]\n",
        "p_accuracyList = []\n",
        "p_errorList = [] \n",
        "k = 5 \n",
        "compute_mode = 'use_mm_for_euclid_dist_if_necessary'\n",
        "for p in pValues:\n",
        "  p_predicted_val_labels = knn(train_data, train_labels, val_data, k, p, compute_mode)\n",
        "  p_accuracyVal, p_errorVal = accuracy(p_predicted_val_labels, val_labels)\n",
        "  p_accuracyList.append(p_accuracyVal) \n",
        "  p_errorList.append(p_errorVal) "
      ]
    },
    {
      "cell_type": "code",
      "source": [
        "import matplotlib.pyplot as plt \n",
        "x_axis = pValues \n",
        "y_p_error_axis = p_errorList \n",
        "y_p_accuracy_axis = p_accuracyList\n",
        "plt.plot(x_axis, y_p_error_axis, label='Error Rate', linestyle = '-') \n",
        "plt.title('Graph of Value of Error Rate (in %) against Value of P')\n",
        "plt.show() "
      ],
      "metadata": {
        "colab": {
          "base_uri": "https://localhost:8080/",
          "height": 281
        },
        "id": "82_h9QdSDWY-",
        "outputId": "413431a5-d3d5-4770-a64d-d6014043998f"
      },
      "execution_count": null,
      "outputs": [
        {
          "output_type": "display_data",
          "data": {
            "text/plain": [
              "<Figure size 432x288 with 1 Axes>"
            ],
            "image/png": "[encoded data removed]"
          },
          "metadata": {
            "needs_background": "light"
          }
        }
      ]
    },
    {
      "cell_type": "markdown",
      "source": [
        "#### Testing on the Test Set \n",
        "##### Using Optimised Values K = 5, P = 10"
      ],
      "metadata": {
        "id": "8ImWuhhDF8KL"
      }
    },
    {
      "cell_type": "code",
      "source": [
        "# prepare test data set \n",
        "test_data = testset.data.float() / 255 \n",
        "test_labels = testset.targets\n",
        "test_data = test_data.cuda() \n",
        "test_labels = test_labels.cuda() \n",
        "print(test_data.shape, test_labels.shape) \n",
        "\n",
        "# reshape data \n",
        "test_data = test_data.view(test_data.size(0), -1)\n",
        "print(test_data.shape)"
      ],
      "metadata": {
        "colab": {
          "base_uri": "https://localhost:8080/"
        },
        "id": "K9sxQxiGD91R",
        "outputId": "c6bb3170-3d18-4f7a-fee3-9c3a9b9e7c24"
      },
      "execution_count": null,
      "outputs": [
        {
          "output_type": "stream",
          "name": "stdout",
          "text": [
            "torch.Size([10000, 28, 28]) torch.Size([10000])\n",
            "torch.Size([10000, 784])\n"
          ]
        }
      ]
    },
    {
      "cell_type": "code",
      "source": [
        "# run test data through knn algorithm \n",
        "k = 5 \n",
        "p = 10 \n",
        "compute_mode = 'use_mm_for_euclid_dist_if_necessary'\n",
        "predicted_test_labels = knn(train_data, train_labels, test_data, k, p, compute_mode)\n",
        "test_accuracyVal, test_errorVal = accuracy(predicted_test_labels, test_labels)"
      ],
      "metadata": {
        "id": "pBODzyohVWUG"
      },
      "execution_count": null,
      "outputs": []
    },
    {
      "cell_type": "code",
      "source": [
        "print('accuracy: {}\\nerror: {}'.format(test_accuracyVal, test_errorVal)) "
      ],
      "metadata": {
        "colab": {
          "base_uri": "https://localhost:8080/"
        },
        "id": "CIj66hfbVfpd",
        "outputId": "9647af1b-fdc1-42fc-d708-4cb424dc7716"
      },
      "execution_count": null,
      "outputs": [
        {
          "output_type": "stream",
          "name": "stdout",
          "text": [
            "accuracy: 97.36\n",
            "error: 2.6400000000000006\n"
          ]
        }
      ]
    },
    {
      "cell_type": "code",
      "source": [],
      "metadata": {
        "id": "9nRArjZfVreV"
      },
      "execution_count": null,
      "outputs": []
    }
  ],
  "metadata": {
    "accelerator": "GPU",
    "colab": {
      "provenance": []
    },
    "gpuClass": "standard",
    "kernelspec": {
      "display_name": "Python 3",
      "name": "python3"
    },
    "language_info": {
      "name": "python"
    }
  },
  "nbformat": 4,
  "nbformat_minor": 0
}