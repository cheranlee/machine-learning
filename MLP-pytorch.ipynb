{
  "nbformat": 4,
  "nbformat_minor": 0,
  "metadata": {
    "colab": {
      "provenance": []
    },
    "kernelspec": {
      "name": "python3",
      "display_name": "Python 3"
    },
    "language_info": {
      "name": "python"
    },
    "gpuClass": "standard",
    "widgets": {
      "application/vnd.jupyter.widget-state+json": {
        "9dfe42262c5146f4aec3703b29bff11c": {
          "model_module": "@jupyter-widgets/controls",
          "model_name": "HBoxModel",
          "model_module_version": "1.5.0",
          "state": {
            "_dom_classes": [],
            "_model_module": "@jupyter-widgets/controls",
            "_model_module_version": "1.5.0",
            "_model_name": "HBoxModel",
            "_view_count": null,
            "_view_module": "@jupyter-widgets/controls",
            "_view_module_version": "1.5.0",
            "_view_name": "HBoxView",
            "box_style": "",
            "children": [
              "IPY_MODEL_ce7debd701574a55b961ebbc6792212a",
              "IPY_MODEL_1ca7d60fdfad485c8c7ef20e3eb79b67",
              "IPY_MODEL_53a6639a1c8c4b97845f95e7ce182baa"
            ],
            "layout": "IPY_MODEL_3f4eed92393f4b9aa63025a2976b7607"
          }
        },
        "ce7debd701574a55b961ebbc6792212a": {
          "model_module": "@jupyter-widgets/controls",
          "model_name": "HTMLModel",
          "model_module_version": "1.5.0",
          "state": {
            "_dom_classes": [],
            "_model_module": "@jupyter-widgets/controls",
            "_model_module_version": "1.5.0",
            "_model_name": "HTMLModel",
            "_view_count": null,
            "_view_module": "@jupyter-widgets/controls",
            "_view_module_version": "1.5.0",
            "_view_name": "HTMLView",
            "description": "",
            "description_tooltip": null,
            "layout": "IPY_MODEL_bcc1b549c021418b894f368a9e48dea7",
            "placeholder": "​",
            "style": "IPY_MODEL_f4725ea98df74441aaf3fb1cc1d6d8c3",
            "value": "100%"
          }
        },
        "1ca7d60fdfad485c8c7ef20e3eb79b67": {
          "model_module": "@jupyter-widgets/controls",
          "model_name": "FloatProgressModel",
          "model_module_version": "1.5.0",
          "state": {
            "_dom_classes": [],
            "_model_module": "@jupyter-widgets/controls",
            "_model_module_version": "1.5.0",
            "_model_name": "FloatProgressModel",
            "_view_count": null,
            "_view_module": "@jupyter-widgets/controls",
            "_view_module_version": "1.5.0",
            "_view_name": "ProgressView",
            "bar_style": "success",
            "description": "",
            "description_tooltip": null,
            "layout": "IPY_MODEL_fd78a04f3dc44bef94733ffd4de18181",
            "max": 9912422,
            "min": 0,
            "orientation": "horizontal",
            "style": "IPY_MODEL_27a6659742a943128dfb61c7be525605",
            "value": 9912422
          }
        },
        "53a6639a1c8c4b97845f95e7ce182baa": {
          "model_module": "@jupyter-widgets/controls",
          "model_name": "HTMLModel",
          "model_module_version": "1.5.0",
          "state": {
            "_dom_classes": [],
            "_model_module": "@jupyter-widgets/controls",
            "_model_module_version": "1.5.0",
            "_model_name": "HTMLModel",
            "_view_count": null,
            "_view_module": "@jupyter-widgets/controls",
            "_view_module_version": "1.5.0",
            "_view_name": "HTMLView",
            "description": "",
            "description_tooltip": null,
            "layout": "IPY_MODEL_f43668972aea482fa3958e063d26f2a7",
            "placeholder": "​",
            "style": "IPY_MODEL_44938e6f5d8d4d4b80437088b222f9fc",
            "value": " 9912422/9912422 [00:00&lt;00:00, 163787075.50it/s]"
          }
        },
        "3f4eed92393f4b9aa63025a2976b7607": {
          "model_module": "@jupyter-widgets/base",
          "model_name": "LayoutModel",
          "model_module_version": "1.2.0",
          "state": {
            "_model_module": "@jupyter-widgets/base",
            "_model_module_version": "1.2.0",
            "_model_name": "LayoutModel",
            "_view_count": null,
            "_view_module": "@jupyter-widgets/base",
            "_view_module_version": "1.2.0",
            "_view_name": "LayoutView",
            "align_content": null,
            "align_items": null,
            "align_self": null,
            "border": null,
            "bottom": null,
            "display": null,
            "flex": null,
            "flex_flow": null,
            "grid_area": null,
            "grid_auto_columns": null,
            "grid_auto_flow": null,
            "grid_auto_rows": null,
            "grid_column": null,
            "grid_gap": null,
            "grid_row": null,
            "grid_template_areas": null,
            "grid_template_columns": null,
            "grid_template_rows": null,
            "height": null,
            "justify_content": null,
            "justify_items": null,
            "left": null,
            "margin": null,
            "max_height": null,
            "max_width": null,
            "min_height": null,
            "min_width": null,
            "object_fit": null,
            "object_position": null,
            "order": null,
            "overflow": null,
            "overflow_x": null,
            "overflow_y": null,
            "padding": null,
            "right": null,
            "top": null,
            "visibility": null,
            "width": null
          }
        },
        "bcc1b549c021418b894f368a9e48dea7": {
          "model_module": "@jupyter-widgets/base",
          "model_name": "LayoutModel",
          "model_module_version": "1.2.0",
          "state": {
            "_model_module": "@jupyter-widgets/base",
            "_model_module_version": "1.2.0",
            "_model_name": "LayoutModel",
            "_view_count": null,
            "_view_module": "@jupyter-widgets/base",
            "_view_module_version": "1.2.0",
            "_view_name": "LayoutView",
            "align_content": null,
            "align_items": null,
            "align_self": null,
            "border": null,
            "bottom": null,
            "display": null,
            "flex": null,
            "flex_flow": null,
            "grid_area": null,
            "grid_auto_columns": null,
            "grid_auto_flow": null,
            "grid_auto_rows": null,
            "grid_column": null,
            "grid_gap": null,
            "grid_row": null,
            "grid_template_areas": null,
            "grid_template_columns": null,
            "grid_template_rows": null,
            "height": null,
            "justify_content": null,
            "justify_items": null,
            "left": null,
            "margin": null,
            "max_height": null,
            "max_width": null,
            "min_height": null,
            "min_width": null,
            "object_fit": null,
            "object_position": null,
            "order": null,
            "overflow": null,
            "overflow_x": null,
            "overflow_y": null,
            "padding": null,
            "right": null,
            "top": null,
            "visibility": null,
            "width": null
          }
        },
        "f4725ea98df74441aaf3fb1cc1d6d8c3": {
          "model_module": "@jupyter-widgets/controls",
          "model_name": "DescriptionStyleModel",
          "model_module_version": "1.5.0",
          "state": {
            "_model_module": "@jupyter-widgets/controls",
            "_model_module_version": "1.5.0",
            "_model_name": "DescriptionStyleModel",
            "_view_count": null,
            "_view_module": "@jupyter-widgets/base",
            "_view_module_version": "1.2.0",
            "_view_name": "StyleView",
            "description_width": ""
          }
        },
        "fd78a04f3dc44bef94733ffd4de18181": {
          "model_module": "@jupyter-widgets/base",
          "model_name": "LayoutModel",
          "model_module_version": "1.2.0",
          "state": {
            "_model_module": "@jupyter-widgets/base",
            "_model_module_version": "1.2.0",
            "_model_name": "LayoutModel",
            "_view_count": null,
            "_view_module": "@jupyter-widgets/base",
            "_view_module_version": "1.2.0",
            "_view_name": "LayoutView",
            "align_content": null,
            "align_items": null,
            "align_self": null,
            "border": null,
            "bottom": null,
            "display": null,
            "flex": null,
            "flex_flow": null,
            "grid_area": null,
            "grid_auto_columns": null,
            "grid_auto_flow": null,
            "grid_auto_rows": null,
            "grid_column": null,
            "grid_gap": null,
            "grid_row": null,
            "grid_template_areas": null,
            "grid_template_columns": null,
            "grid_template_rows": null,
            "height": null,
            "justify_content": null,
            "justify_items": null,
            "left": null,
            "margin": null,
            "max_height": null,
            "max_width": null,
            "min_height": null,
            "min_width": null,
            "object_fit": null,
            "object_position": null,
            "order": null,
            "overflow": null,
            "overflow_x": null,
            "overflow_y": null,
            "padding": null,
            "right": null,
            "top": null,
            "visibility": null,
            "width": null
          }
        },
        "27a6659742a943128dfb61c7be525605": {
          "model_module": "@jupyter-widgets/controls",
          "model_name": "ProgressStyleModel",
          "model_module_version": "1.5.0",
          "state": {
            "_model_module": "@jupyter-widgets/controls",
            "_model_module_version": "1.5.0",
            "_model_name": "ProgressStyleModel",
            "_view_count": null,
            "_view_module": "@jupyter-widgets/base",
            "_view_module_version": "1.2.0",
            "_view_name": "StyleView",
            "bar_color": null,
            "description_width": ""
          }
        },
        "f43668972aea482fa3958e063d26f2a7": {
          "model_module": "@jupyter-widgets/base",
          "model_name": "LayoutModel",
          "model_module_version": "1.2.0",
          "state": {
            "_model_module": "@jupyter-widgets/base",
            "_model_module_version": "1.2.0",
            "_model_name": "LayoutModel",
            "_view_count": null,
            "_view_module": "@jupyter-widgets/base",
            "_view_module_version": "1.2.0",
            "_view_name": "LayoutView",
            "align_content": null,
            "align_items": null,
            "align_self": null,
            "border": null,
            "bottom": null,
            "display": null,
            "flex": null,
            "flex_flow": null,
            "grid_area": null,
            "grid_auto_columns": null,
            "grid_auto_flow": null,
            "grid_auto_rows": null,
            "grid_column": null,
            "grid_gap": null,
            "grid_row": null,
            "grid_template_areas": null,
            "grid_template_columns": null,
            "grid_template_rows": null,
            "height": null,
            "justify_content": null,
            "justify_items": null,
            "left": null,
            "margin": null,
            "max_height": null,
            "max_width": null,
            "min_height": null,
            "min_width": null,
            "object_fit": null,
            "object_position": null,
            "order": null,
            "overflow": null,
            "overflow_x": null,
            "overflow_y": null,
            "padding": null,
            "right": null,
            "top": null,
            "visibility": null,
            "width": null
          }
        },
        "44938e6f5d8d4d4b80437088b222f9fc": {
          "model_module": "@jupyter-widgets/controls",
          "model_name": "DescriptionStyleModel",
          "model_module_version": "1.5.0",
          "state": {
            "_model_module": "@jupyter-widgets/controls",
            "_model_module_version": "1.5.0",
            "_model_name": "DescriptionStyleModel",
            "_view_count": null,
            "_view_module": "@jupyter-widgets/base",
            "_view_module_version": "1.2.0",
            "_view_name": "StyleView",
            "description_width": ""
          }
        },
        "d03ec3cc8af643ec85f90e9002d9f9f8": {
          "model_module": "@jupyter-widgets/controls",
          "model_name": "HBoxModel",
          "model_module_version": "1.5.0",
          "state": {
            "_dom_classes": [],
            "_model_module": "@jupyter-widgets/controls",
            "_model_module_version": "1.5.0",
            "_model_name": "HBoxModel",
            "_view_count": null,
            "_view_module": "@jupyter-widgets/controls",
            "_view_module_version": "1.5.0",
            "_view_name": "HBoxView",
            "box_style": "",
            "children": [
              "IPY_MODEL_710e9258d2d14afe9eecd0b4c3a1586a",
              "IPY_MODEL_e6b6ce0416a443169b8d0d35f01768ad",
              "IPY_MODEL_4a7414b766ad4aec9d1e9e51e4002baf"
            ],
            "layout": "IPY_MODEL_787b1c837b054da3a1830c911289b011"
          }
        },
        "710e9258d2d14afe9eecd0b4c3a1586a": {
          "model_module": "@jupyter-widgets/controls",
          "model_name": "HTMLModel",
          "model_module_version": "1.5.0",
          "state": {
            "_dom_classes": [],
            "_model_module": "@jupyter-widgets/controls",
            "_model_module_version": "1.5.0",
            "_model_name": "HTMLModel",
            "_view_count": null,
            "_view_module": "@jupyter-widgets/controls",
            "_view_module_version": "1.5.0",
            "_view_name": "HTMLView",
            "description": "",
            "description_tooltip": null,
            "layout": "IPY_MODEL_565ced6572b44ef9853d8a0a701fe58c",
            "placeholder": "​",
            "style": "IPY_MODEL_c988b49aaecb461a9c9e5288c97928fa",
            "value": "100%"
          }
        },
        "e6b6ce0416a443169b8d0d35f01768ad": {
          "model_module": "@jupyter-widgets/controls",
          "model_name": "FloatProgressModel",
          "model_module_version": "1.5.0",
          "state": {
            "_dom_classes": [],
            "_model_module": "@jupyter-widgets/controls",
            "_model_module_version": "1.5.0",
            "_model_name": "FloatProgressModel",
            "_view_count": null,
            "_view_module": "@jupyter-widgets/controls",
            "_view_module_version": "1.5.0",
            "_view_name": "ProgressView",
            "bar_style": "success",
            "description": "",
            "description_tooltip": null,
            "layout": "IPY_MODEL_d38fb00dd556425abbbd0dccf454d10a",
            "max": 28881,
            "min": 0,
            "orientation": "horizontal",
            "style": "IPY_MODEL_afa28e6fc12a404fa96e0f3f4eb0831b",
            "value": 28881
          }
        },
        "4a7414b766ad4aec9d1e9e51e4002baf": {
          "model_module": "@jupyter-widgets/controls",
          "model_name": "HTMLModel",
          "model_module_version": "1.5.0",
          "state": {
            "_dom_classes": [],
            "_model_module": "@jupyter-widgets/controls",
            "_model_module_version": "1.5.0",
            "_model_name": "HTMLModel",
            "_view_count": null,
            "_view_module": "@jupyter-widgets/controls",
            "_view_module_version": "1.5.0",
            "_view_name": "HTMLView",
            "description": "",
            "description_tooltip": null,
            "layout": "IPY_MODEL_17c8f2ef65614997897f299a3e13463f",
            "placeholder": "​",
            "style": "IPY_MODEL_e27c1e2c3d2b41469368d91c6a05e6d9",
            "value": " 28881/28881 [00:00&lt;00:00, 1082419.17it/s]"
          }
        },
        "787b1c837b054da3a1830c911289b011": {
          "model_module": "@jupyter-widgets/base",
          "model_name": "LayoutModel",
          "model_module_version": "1.2.0",
          "state": {
            "_model_module": "@jupyter-widgets/base",
            "_model_module_version": "1.2.0",
            "_model_name": "LayoutModel",
            "_view_count": null,
            "_view_module": "@jupyter-widgets/base",
            "_view_module_version": "1.2.0",
            "_view_name": "LayoutView",
            "align_content": null,
            "align_items": null,
            "align_self": null,
            "border": null,
            "bottom": null,
            "display": null,
            "flex": null,
            "flex_flow": null,
            "grid_area": null,
            "grid_auto_columns": null,
            "grid_auto_flow": null,
            "grid_auto_rows": null,
            "grid_column": null,
            "grid_gap": null,
            "grid_row": null,
            "grid_template_areas": null,
            "grid_template_columns": null,
            "grid_template_rows": null,
            "height": null,
            "justify_content": null,
            "justify_items": null,
            "left": null,
            "margin": null,
            "max_height": null,
            "max_width": null,
            "min_height": null,
            "min_width": null,
            "object_fit": null,
            "object_position": null,
            "order": null,
            "overflow": null,
            "overflow_x": null,
            "overflow_y": null,
            "padding": null,
            "right": null,
            "top": null,
            "visibility": null,
            "width": null
          }
        },
        "565ced6572b44ef9853d8a0a701fe58c": {
          "model_module": "@jupyter-widgets/base",
          "model_name": "LayoutModel",
          "model_module_version": "1.2.0",
          "state": {
            "_model_module": "@jupyter-widgets/base",
            "_model_module_version": "1.2.0",
            "_model_name": "LayoutModel",
            "_view_count": null,
            "_view_module": "@jupyter-widgets/base",
            "_view_module_version": "1.2.0",
            "_view_name": "LayoutView",
            "align_content": null,
            "align_items": null,
            "align_self": null,
            "border": null,
            "bottom": null,
            "display": null,
            "flex": null,
            "flex_flow": null,
            "grid_area": null,
            "grid_auto_columns": null,
            "grid_auto_flow": null,
            "grid_auto_rows": null,
            "grid_column": null,
            "grid_gap": null,
            "grid_row": null,
            "grid_template_areas": null,
            "grid_template_columns": null,
            "grid_template_rows": null,
            "height": null,
            "justify_content": null,
            "justify_items": null,
            "left": null,
            "margin": null,
            "max_height": null,
            "max_width": null,
            "min_height": null,
            "min_width": null,
            "object_fit": null,
            "object_position": null,
            "order": null,
            "overflow": null,
            "overflow_x": null,
            "overflow_y": null,
            "padding": null,
            "right": null,
            "top": null,
            "visibility": null,
            "width": null
          }
        },
        "c988b49aaecb461a9c9e5288c97928fa": {
          "model_module": "@jupyter-widgets/controls",
          "model_name": "DescriptionStyleModel",
          "model_module_version": "1.5.0",
          "state": {
            "_model_module": "@jupyter-widgets/controls",
            "_model_module_version": "1.5.0",
            "_model_name": "DescriptionStyleModel",
            "_view_count": null,
            "_view_module": "@jupyter-widgets/base",
            "_view_module_version": "1.2.0",
            "_view_name": "StyleView",
            "description_width": ""
          }
        },
        "d38fb00dd556425abbbd0dccf454d10a": {
          "model_module": "@jupyter-widgets/base",
          "model_name": "LayoutModel",
          "model_module_version": "1.2.0",
          "state": {
            "_model_module": "@jupyter-widgets/base",
            "_model_module_version": "1.2.0",
            "_model_name": "LayoutModel",
            "_view_count": null,
            "_view_module": "@jupyter-widgets/base",
            "_view_module_version": "1.2.0",
            "_view_name": "LayoutView",
            "align_content": null,
            "align_items": null,
            "align_self": null,
            "border": null,
            "bottom": null,
            "display": null,
            "flex": null,
            "flex_flow": null,
            "grid_area": null,
            "grid_auto_columns": null,
            "grid_auto_flow": null,
            "grid_auto_rows": null,
            "grid_column": null,
            "grid_gap": null,
            "grid_row": null,
            "grid_template_areas": null,
            "grid_template_columns": null,
            "grid_template_rows": null,
            "height": null,
            "justify_content": null,
            "justify_items": null,
            "left": null,
            "margin": null,
            "max_height": null,
            "max_width": null,
            "min_height": null,
            "min_width": null,
            "object_fit": null,
            "object_position": null,
            "order": null,
            "overflow": null,
            "overflow_x": null,
            "overflow_y": null,
            "padding": null,
            "right": null,
            "top": null,
            "visibility": null,
            "width": null
          }
        },
        "afa28e6fc12a404fa96e0f3f4eb0831b": {
          "model_module": "@jupyter-widgets/controls",
          "model_name": "ProgressStyleModel",
          "model_module_version": "1.5.0",
          "state": {
            "_model_module": "@jupyter-widgets/controls",
            "_model_module_version": "1.5.0",
            "_model_name": "ProgressStyleModel",
            "_view_count": null,
            "_view_module": "@jupyter-widgets/base",
            "_view_module_version": "1.2.0",
            "_view_name": "StyleView",
            "bar_color": null,
            "description_width": ""
          }
        },
        "17c8f2ef65614997897f299a3e13463f": {
          "model_module": "@jupyter-widgets/base",
          "model_name": "LayoutModel",
          "model_module_version": "1.2.0",
          "state": {
            "_model_module": "@jupyter-widgets/base",
            "_model_module_version": "1.2.0",
            "_model_name": "LayoutModel",
            "_view_count": null,
            "_view_module": "@jupyter-widgets/base",
            "_view_module_version": "1.2.0",
            "_view_name": "LayoutView",
            "align_content": null,
            "align_items": null,
            "align_self": null,
            "border": null,
            "bottom": null,
            "display": null,
            "flex": null,
            "flex_flow": null,
            "grid_area": null,
            "grid_auto_columns": null,
            "grid_auto_flow": null,
            "grid_auto_rows": null,
            "grid_column": null,
            "grid_gap": null,
            "grid_row": null,
            "grid_template_areas": null,
            "grid_template_columns": null,
            "grid_template_rows": null,
            "height": null,
            "justify_content": null,
            "justify_items": null,
            "left": null,
            "margin": null,
            "max_height": null,
            "max_width": null,
            "min_height": null,
            "min_width": null,
            "object_fit": null,
            "object_position": null,
            "order": null,
            "overflow": null,
            "overflow_x": null,
            "overflow_y": null,
            "padding": null,
            "right": null,
            "top": null,
            "visibility": null,
            "width": null
          }
        },
        "e27c1e2c3d2b41469368d91c6a05e6d9": {
          "model_module": "@jupyter-widgets/controls",
          "model_name": "DescriptionStyleModel",
          "model_module_version": "1.5.0",
          "state": {
            "_model_module": "@jupyter-widgets/controls",
            "_model_module_version": "1.5.0",
            "_model_name": "DescriptionStyleModel",
            "_view_count": null,
            "_view_module": "@jupyter-widgets/base",
            "_view_module_version": "1.2.0",
            "_view_name": "StyleView",
            "description_width": ""
          }
        },
        "d92544f5b98f4200b8e2c067a4cc1eb8": {
          "model_module": "@jupyter-widgets/controls",
          "model_name": "HBoxModel",
          "model_module_version": "1.5.0",
          "state": {
            "_dom_classes": [],
            "_model_module": "@jupyter-widgets/controls",
            "_model_module_version": "1.5.0",
            "_model_name": "HBoxModel",
            "_view_count": null,
            "_view_module": "@jupyter-widgets/controls",
            "_view_module_version": "1.5.0",
            "_view_name": "HBoxView",
            "box_style": "",
            "children": [
              "IPY_MODEL_1a572dad548448c989036ee43a169ced",
              "IPY_MODEL_b56c3e36658d4926b41a9a0d6e8073cc",
              "IPY_MODEL_a6a4b5c18fcb42d0aa280b42780fd3db"
            ],
            "layout": "IPY_MODEL_1f75425c9e1e4834a45b4abdd53becff"
          }
        },
        "1a572dad548448c989036ee43a169ced": {
          "model_module": "@jupyter-widgets/controls",
          "model_name": "HTMLModel",
          "model_module_version": "1.5.0",
          "state": {
            "_dom_classes": [],
            "_model_module": "@jupyter-widgets/controls",
            "_model_module_version": "1.5.0",
            "_model_name": "HTMLModel",
            "_view_count": null,
            "_view_module": "@jupyter-widgets/controls",
            "_view_module_version": "1.5.0",
            "_view_name": "HTMLView",
            "description": "",
            "description_tooltip": null,
            "layout": "IPY_MODEL_1f65f4975cf944668c979489d65bed4d",
            "placeholder": "​",
            "style": "IPY_MODEL_3a165f1c02944b4981b71769bc73a3ab",
            "value": "100%"
          }
        },
        "b56c3e36658d4926b41a9a0d6e8073cc": {
          "model_module": "@jupyter-widgets/controls",
          "model_name": "FloatProgressModel",
          "model_module_version": "1.5.0",
          "state": {
            "_dom_classes": [],
            "_model_module": "@jupyter-widgets/controls",
            "_model_module_version": "1.5.0",
            "_model_name": "FloatProgressModel",
            "_view_count": null,
            "_view_module": "@jupyter-widgets/controls",
            "_view_module_version": "1.5.0",
            "_view_name": "ProgressView",
            "bar_style": "success",
            "description": "",
            "description_tooltip": null,
            "layout": "IPY_MODEL_b2ac0dfea9584331a5570392fcde5e0d",
            "max": 1648877,
            "min": 0,
            "orientation": "horizontal",
            "style": "IPY_MODEL_ce5dd2089810471f89b130687a84dbf3",
            "value": 1648877
          }
        },
        "a6a4b5c18fcb42d0aa280b42780fd3db": {
          "model_module": "@jupyter-widgets/controls",
          "model_name": "HTMLModel",
          "model_module_version": "1.5.0",
          "state": {
            "_dom_classes": [],
            "_model_module": "@jupyter-widgets/controls",
            "_model_module_version": "1.5.0",
            "_model_name": "HTMLModel",
            "_view_count": null,
            "_view_module": "@jupyter-widgets/controls",
            "_view_module_version": "1.5.0",
            "_view_name": "HTMLView",
            "description": "",
            "description_tooltip": null,
            "layout": "IPY_MODEL_46c29548b8f048759c58666420159018",
            "placeholder": "​",
            "style": "IPY_MODEL_6b874b7378dc47098785a51a4985b1c3",
            "value": " 1648877/1648877 [00:00&lt;00:00, 52725446.73it/s]"
          }
        },
        "1f75425c9e1e4834a45b4abdd53becff": {
          "model_module": "@jupyter-widgets/base",
          "model_name": "LayoutModel",
          "model_module_version": "1.2.0",
          "state": {
            "_model_module": "@jupyter-widgets/base",
            "_model_module_version": "1.2.0",
            "_model_name": "LayoutModel",
            "_view_count": null,
            "_view_module": "@jupyter-widgets/base",
            "_view_module_version": "1.2.0",
            "_view_name": "LayoutView",
            "align_content": null,
            "align_items": null,
            "align_self": null,
            "border": null,
            "bottom": null,
            "display": null,
            "flex": null,
            "flex_flow": null,
            "grid_area": null,
            "grid_auto_columns": null,
            "grid_auto_flow": null,
            "grid_auto_rows": null,
            "grid_column": null,
            "grid_gap": null,
            "grid_row": null,
            "grid_template_areas": null,
            "grid_template_columns": null,
            "grid_template_rows": null,
            "height": null,
            "justify_content": null,
            "justify_items": null,
            "left": null,
            "margin": null,
            "max_height": null,
            "max_width": null,
            "min_height": null,
            "min_width": null,
            "object_fit": null,
            "object_position": null,
            "order": null,
            "overflow": null,
            "overflow_x": null,
            "overflow_y": null,
            "padding": null,
            "right": null,
            "top": null,
            "visibility": null,
            "width": null
          }
        },
        "1f65f4975cf944668c979489d65bed4d": {
          "model_module": "@jupyter-widgets/base",
          "model_name": "LayoutModel",
          "model_module_version": "1.2.0",
          "state": {
            "_model_module": "@jupyter-widgets/base",
            "_model_module_version": "1.2.0",
            "_model_name": "LayoutModel",
            "_view_count": null,
            "_view_module": "@jupyter-widgets/base",
            "_view_module_version": "1.2.0",
            "_view_name": "LayoutView",
            "align_content": null,
            "align_items": null,
            "align_self": null,
            "border": null,
            "bottom": null,
            "display": null,
            "flex": null,
            "flex_flow": null,
            "grid_area": null,
            "grid_auto_columns": null,
            "grid_auto_flow": null,
            "grid_auto_rows": null,
            "grid_column": null,
            "grid_gap": null,
            "grid_row": null,
            "grid_template_areas": null,
            "grid_template_columns": null,
            "grid_template_rows": null,
            "height": null,
            "justify_content": null,
            "justify_items": null,
            "left": null,
            "margin": null,
            "max_height": null,
            "max_width": null,
            "min_height": null,
            "min_width": null,
            "object_fit": null,
            "object_position": null,
            "order": null,
            "overflow": null,
            "overflow_x": null,
            "overflow_y": null,
            "padding": null,
            "right": null,
            "top": null,
            "visibility": null,
            "width": null
          }
        },
        "3a165f1c02944b4981b71769bc73a3ab": {
          "model_module": "@jupyter-widgets/controls",
          "model_name": "DescriptionStyleModel",
          "model_module_version": "1.5.0",
          "state": {
            "_model_module": "@jupyter-widgets/controls",
            "_model_module_version": "1.5.0",
            "_model_name": "DescriptionStyleModel",
            "_view_count": null,
            "_view_module": "@jupyter-widgets/base",
            "_view_module_version": "1.2.0",
            "_view_name": "StyleView",
            "description_width": ""
          }
        },
        "b2ac0dfea9584331a5570392fcde5e0d": {
          "model_module": "@jupyter-widgets/base",
          "model_name": "LayoutModel",
          "model_module_version": "1.2.0",
          "state": {
            "_model_module": "@jupyter-widgets/base",
            "_model_module_version": "1.2.0",
            "_model_name": "LayoutModel",
            "_view_count": null,
            "_view_module": "@jupyter-widgets/base",
            "_view_module_version": "1.2.0",
            "_view_name": "LayoutView",
            "align_content": null,
            "align_items": null,
            "align_self": null,
            "border": null,
            "bottom": null,
            "display": null,
            "flex": null,
            "flex_flow": null,
            "grid_area": null,
            "grid_auto_columns": null,
            "grid_auto_flow": null,
            "grid_auto_rows": null,
            "grid_column": null,
            "grid_gap": null,
            "grid_row": null,
            "grid_template_areas": null,
            "grid_template_columns": null,
            "grid_template_rows": null,
            "height": null,
            "justify_content": null,
            "justify_items": null,
            "left": null,
            "margin": null,
            "max_height": null,
            "max_width": null,
            "min_height": null,
            "min_width": null,
            "object_fit": null,
            "object_position": null,
            "order": null,
            "overflow": null,
            "overflow_x": null,
            "overflow_y": null,
            "padding": null,
            "right": null,
            "top": null,
            "visibility": null,
            "width": null
          }
        },
        "ce5dd2089810471f89b130687a84dbf3": {
          "model_module": "@jupyter-widgets/controls",
          "model_name": "ProgressStyleModel",
          "model_module_version": "1.5.0",
          "state": {
            "_model_module": "@jupyter-widgets/controls",
            "_model_module_version": "1.5.0",
            "_model_name": "ProgressStyleModel",
            "_view_count": null,
            "_view_module": "@jupyter-widgets/base",
            "_view_module_version": "1.2.0",
            "_view_name": "StyleView",
            "bar_color": null,
            "description_width": ""
          }
        },
        "46c29548b8f048759c58666420159018": {
          "model_module": "@jupyter-widgets/base",
          "model_name": "LayoutModel",
          "model_module_version": "1.2.0",
          "state": {
            "_model_module": "@jupyter-widgets/base",
            "_model_module_version": "1.2.0",
            "_model_name": "LayoutModel",
            "_view_count": null,
            "_view_module": "@jupyter-widgets/base",
            "_view_module_version": "1.2.0",
            "_view_name": "LayoutView",
            "align_content": null,
            "align_items": null,
            "align_self": null,
            "border": null,
            "bottom": null,
            "display": null,
            "flex": null,
            "flex_flow": null,
            "grid_area": null,
            "grid_auto_columns": null,
            "grid_auto_flow": null,
            "grid_auto_rows": null,
            "grid_column": null,
            "grid_gap": null,
            "grid_row": null,
            "grid_template_areas": null,
            "grid_template_columns": null,
            "grid_template_rows": null,
            "height": null,
            "justify_content": null,
            "justify_items": null,
            "left": null,
            "margin": null,
            "max_height": null,
            "max_width": null,
            "min_height": null,
            "min_width": null,
            "object_fit": null,
            "object_position": null,
            "order": null,
            "overflow": null,
            "overflow_x": null,
            "overflow_y": null,
            "padding": null,
            "right": null,
            "top": null,
            "visibility": null,
            "width": null
          }
        },
        "6b874b7378dc47098785a51a4985b1c3": {
          "model_module": "@jupyter-widgets/controls",
          "model_name": "DescriptionStyleModel",
          "model_module_version": "1.5.0",
          "state": {
            "_model_module": "@jupyter-widgets/controls",
            "_model_module_version": "1.5.0",
            "_model_name": "DescriptionStyleModel",
            "_view_count": null,
            "_view_module": "@jupyter-widgets/base",
            "_view_module_version": "1.2.0",
            "_view_name": "StyleView",
            "description_width": ""
          }
        },
        "4a717a496e3a4f1e9d83f372e248517a": {
          "model_module": "@jupyter-widgets/controls",
          "model_name": "HBoxModel",
          "model_module_version": "1.5.0",
          "state": {
            "_dom_classes": [],
            "_model_module": "@jupyter-widgets/controls",
            "_model_module_version": "1.5.0",
            "_model_name": "HBoxModel",
            "_view_count": null,
            "_view_module": "@jupyter-widgets/controls",
            "_view_module_version": "1.5.0",
            "_view_name": "HBoxView",
            "box_style": "",
            "children": [
              "IPY_MODEL_e5e4993f0fb34b0da1d053d6d7be6ba3",
              "IPY_MODEL_f1c8a553103249bebe83e3883e127924",
              "IPY_MODEL_7dc913e1c78e42d7b31467094aee6c5c"
            ],
            "layout": "IPY_MODEL_6c0a411f8f1f4571823ddb7029bdf873"
          }
        },
        "e5e4993f0fb34b0da1d053d6d7be6ba3": {
          "model_module": "@jupyter-widgets/controls",
          "model_name": "HTMLModel",
          "model_module_version": "1.5.0",
          "state": {
            "_dom_classes": [],
            "_model_module": "@jupyter-widgets/controls",
            "_model_module_version": "1.5.0",
            "_model_name": "HTMLModel",
            "_view_count": null,
            "_view_module": "@jupyter-widgets/controls",
            "_view_module_version": "1.5.0",
            "_view_name": "HTMLView",
            "description": "",
            "description_tooltip": null,
            "layout": "IPY_MODEL_a39409e254ec4ffabe66be69d4619807",
            "placeholder": "​",
            "style": "IPY_MODEL_36bf6f7bcafa4ee0849b409011a89fd2",
            "value": "100%"
          }
        },
        "f1c8a553103249bebe83e3883e127924": {
          "model_module": "@jupyter-widgets/controls",
          "model_name": "FloatProgressModel",
          "model_module_version": "1.5.0",
          "state": {
            "_dom_classes": [],
            "_model_module": "@jupyter-widgets/controls",
            "_model_module_version": "1.5.0",
            "_model_name": "FloatProgressModel",
            "_view_count": null,
            "_view_module": "@jupyter-widgets/controls",
            "_view_module_version": "1.5.0",
            "_view_name": "ProgressView",
            "bar_style": "success",
            "description": "",
            "description_tooltip": null,
            "layout": "IPY_MODEL_277353afaf934128b29e781908496003",
            "max": 4542,
            "min": 0,
            "orientation": "horizontal",
            "style": "IPY_MODEL_c220cb6fb6ca412098e64fe6469c4533",
            "value": 4542
          }
        },
        "7dc913e1c78e42d7b31467094aee6c5c": {
          "model_module": "@jupyter-widgets/controls",
          "model_name": "HTMLModel",
          "model_module_version": "1.5.0",
          "state": {
            "_dom_classes": [],
            "_model_module": "@jupyter-widgets/controls",
            "_model_module_version": "1.5.0",
            "_model_name": "HTMLModel",
            "_view_count": null,
            "_view_module": "@jupyter-widgets/controls",
            "_view_module_version": "1.5.0",
            "_view_name": "HTMLView",
            "description": "",
            "description_tooltip": null,
            "layout": "IPY_MODEL_23d2a68c35454f0387a538a9c7ea94a4",
            "placeholder": "​",
            "style": "IPY_MODEL_9a023c7f71f849de9acad7f1f50254a2",
            "value": " 4542/4542 [00:00&lt;00:00, 147079.94it/s]"
          }
        },
        "6c0a411f8f1f4571823ddb7029bdf873": {
          "model_module": "@jupyter-widgets/base",
          "model_name": "LayoutModel",
          "model_module_version": "1.2.0",
          "state": {
            "_model_module": "@jupyter-widgets/base",
            "_model_module_version": "1.2.0",
            "_model_name": "LayoutModel",
            "_view_count": null,
            "_view_module": "@jupyter-widgets/base",
            "_view_module_version": "1.2.0",
            "_view_name": "LayoutView",
            "align_content": null,
            "align_items": null,
            "align_self": null,
            "border": null,
            "bottom": null,
            "display": null,
            "flex": null,
            "flex_flow": null,
            "grid_area": null,
            "grid_auto_columns": null,
            "grid_auto_flow": null,
            "grid_auto_rows": null,
            "grid_column": null,
            "grid_gap": null,
            "grid_row": null,
            "grid_template_areas": null,
            "grid_template_columns": null,
            "grid_template_rows": null,
            "height": null,
            "justify_content": null,
            "justify_items": null,
            "left": null,
            "margin": null,
            "max_height": null,
            "max_width": null,
            "min_height": null,
            "min_width": null,
            "object_fit": null,
            "object_position": null,
            "order": null,
            "overflow": null,
            "overflow_x": null,
            "overflow_y": null,
            "padding": null,
            "right": null,
            "top": null,
            "visibility": null,
            "width": null
          }
        },
        "a39409e254ec4ffabe66be69d4619807": {
          "model_module": "@jupyter-widgets/base",
          "model_name": "LayoutModel",
          "model_module_version": "1.2.0",
          "state": {
            "_model_module": "@jupyter-widgets/base",
            "_model_module_version": "1.2.0",
            "_model_name": "LayoutModel",
            "_view_count": null,
            "_view_module": "@jupyter-widgets/base",
            "_view_module_version": "1.2.0",
            "_view_name": "LayoutView",
            "align_content": null,
            "align_items": null,
            "align_self": null,
            "border": null,
            "bottom": null,
            "display": null,
            "flex": null,
            "flex_flow": null,
            "grid_area": null,
            "grid_auto_columns": null,
            "grid_auto_flow": null,
            "grid_auto_rows": null,
            "grid_column": null,
            "grid_gap": null,
            "grid_row": null,
            "grid_template_areas": null,
            "grid_template_columns": null,
            "grid_template_rows": null,
            "height": null,
            "justify_content": null,
            "justify_items": null,
            "left": null,
            "margin": null,
            "max_height": null,
            "max_width": null,
            "min_height": null,
            "min_width": null,
            "object_fit": null,
            "object_position": null,
            "order": null,
            "overflow": null,
            "overflow_x": null,
            "overflow_y": null,
            "padding": null,
            "right": null,
            "top": null,
            "visibility": null,
            "width": null
          }
        },
        "36bf6f7bcafa4ee0849b409011a89fd2": {
          "model_module": "@jupyter-widgets/controls",
          "model_name": "DescriptionStyleModel",
          "model_module_version": "1.5.0",
          "state": {
            "_model_module": "@jupyter-widgets/controls",
            "_model_module_version": "1.5.0",
            "_model_name": "DescriptionStyleModel",
            "_view_count": null,
            "_view_module": "@jupyter-widgets/base",
            "_view_module_version": "1.2.0",
            "_view_name": "StyleView",
            "description_width": ""
          }
        },
        "277353afaf934128b29e781908496003": {
          "model_module": "@jupyter-widgets/base",
          "model_name": "LayoutModel",
          "model_module_version": "1.2.0",
          "state": {
            "_model_module": "@jupyter-widgets/base",
            "_model_module_version": "1.2.0",
            "_model_name": "LayoutModel",
            "_view_count": null,
            "_view_module": "@jupyter-widgets/base",
            "_view_module_version": "1.2.0",
            "_view_name": "LayoutView",
            "align_content": null,
            "align_items": null,
            "align_self": null,
            "border": null,
            "bottom": null,
            "display": null,
            "flex": null,
            "flex_flow": null,
            "grid_area": null,
            "grid_auto_columns": null,
            "grid_auto_flow": null,
            "grid_auto_rows": null,
            "grid_column": null,
            "grid_gap": null,
            "grid_row": null,
            "grid_template_areas": null,
            "grid_template_columns": null,
            "grid_template_rows": null,
            "height": null,
            "justify_content": null,
            "justify_items": null,
            "left": null,
            "margin": null,
            "max_height": null,
            "max_width": null,
            "min_height": null,
            "min_width": null,
            "object_fit": null,
            "object_position": null,
            "order": null,
            "overflow": null,
            "overflow_x": null,
            "overflow_y": null,
            "padding": null,
            "right": null,
            "top": null,
            "visibility": null,
            "width": null
          }
        },
        "c220cb6fb6ca412098e64fe6469c4533": {
          "model_module": "@jupyter-widgets/controls",
          "model_name": "ProgressStyleModel",
          "model_module_version": "1.5.0",
          "state": {
            "_model_module": "@jupyter-widgets/controls",
            "_model_module_version": "1.5.0",
            "_model_name": "ProgressStyleModel",
            "_view_count": null,
            "_view_module": "@jupyter-widgets/base",
            "_view_module_version": "1.2.0",
            "_view_name": "StyleView",
            "bar_color": null,
            "description_width": ""
          }
        },
        "23d2a68c35454f0387a538a9c7ea94a4": {
          "model_module": "@jupyter-widgets/base",
          "model_name": "LayoutModel",
          "model_module_version": "1.2.0",
          "state": {
            "_model_module": "@jupyter-widgets/base",
            "_model_module_version": "1.2.0",
            "_model_name": "LayoutModel",
            "_view_count": null,
            "_view_module": "@jupyter-widgets/base",
            "_view_module_version": "1.2.0",
            "_view_name": "LayoutView",
            "align_content": null,
            "align_items": null,
            "align_self": null,
            "border": null,
            "bottom": null,
            "display": null,
            "flex": null,
            "flex_flow": null,
            "grid_area": null,
            "grid_auto_columns": null,
            "grid_auto_flow": null,
            "grid_auto_rows": null,
            "grid_column": null,
            "grid_gap": null,
            "grid_row": null,
            "grid_template_areas": null,
            "grid_template_columns": null,
            "grid_template_rows": null,
            "height": null,
            "justify_content": null,
            "justify_items": null,
            "left": null,
            "margin": null,
            "max_height": null,
            "max_width": null,
            "min_height": null,
            "min_width": null,
            "object_fit": null,
            "object_position": null,
            "order": null,
            "overflow": null,
            "overflow_x": null,
            "overflow_y": null,
            "padding": null,
            "right": null,
            "top": null,
            "visibility": null,
            "width": null
          }
        },
        "9a023c7f71f849de9acad7f1f50254a2": {
          "model_module": "@jupyter-widgets/controls",
          "model_name": "DescriptionStyleModel",
          "model_module_version": "1.5.0",
          "state": {
            "_model_module": "@jupyter-widgets/controls",
            "_model_module_version": "1.5.0",
            "_model_name": "DescriptionStyleModel",
            "_view_count": null,
            "_view_module": "@jupyter-widgets/base",
            "_view_module_version": "1.2.0",
            "_view_name": "StyleView",
            "description_width": ""
          }
        }
      }
    }
  },
  "cells": [
    {
      "cell_type": "markdown",
      "source": [
        "#### Import Dataset "
      ],
      "metadata": {
        "id": "Qmbh64YjKUsG"
      }
    },
    {
      "cell_type": "code",
      "source": [
        "import numpy as np \n",
        "import torch \n",
        "from torchvision import datasets, transforms \n",
        "\n",
        "# transforms -- changes numpy to tensor \n",
        "trainset = datasets.MNIST(root = './data', train = True, download = True, transform = transforms.ToTensor())\n",
        "valset = datasets.MNIST(root = './data', train = True, download = True, transform = transforms.ToTensor())\n",
        "testset = datasets.MNIST(root='./data', train = False, download = True, transform = transforms.ToTensor()) "
      ],
      "metadata": {
        "id": "7xDMmidhKdNM",
        "colab": {
          "base_uri": "https://localhost:8080/",
          "height": 435,
          "referenced_widgets": [
            "9dfe42262c5146f4aec3703b29bff11c",
            "ce7debd701574a55b961ebbc6792212a",
            "1ca7d60fdfad485c8c7ef20e3eb79b67",
            "53a6639a1c8c4b97845f95e7ce182baa",
            "3f4eed92393f4b9aa63025a2976b7607",
            "bcc1b549c021418b894f368a9e48dea7",
            "f4725ea98df74441aaf3fb1cc1d6d8c3",
            "fd78a04f3dc44bef94733ffd4de18181",
            "27a6659742a943128dfb61c7be525605",
            "f43668972aea482fa3958e063d26f2a7",
            "44938e6f5d8d4d4b80437088b222f9fc",
            "d03ec3cc8af643ec85f90e9002d9f9f8",
            "710e9258d2d14afe9eecd0b4c3a1586a",
            "e6b6ce0416a443169b8d0d35f01768ad",
            "4a7414b766ad4aec9d1e9e51e4002baf",
            "787b1c837b054da3a1830c911289b011",
            "565ced6572b44ef9853d8a0a701fe58c",
            "c988b49aaecb461a9c9e5288c97928fa",
            "d38fb00dd556425abbbd0dccf454d10a",
            "afa28e6fc12a404fa96e0f3f4eb0831b",
            "17c8f2ef65614997897f299a3e13463f",
            "e27c1e2c3d2b41469368d91c6a05e6d9",
            "d92544f5b98f4200b8e2c067a4cc1eb8",
            "1a572dad548448c989036ee43a169ced",
            "b56c3e36658d4926b41a9a0d6e8073cc",
            "a6a4b5c18fcb42d0aa280b42780fd3db",
            "1f75425c9e1e4834a45b4abdd53becff",
            "1f65f4975cf944668c979489d65bed4d",
            "3a165f1c02944b4981b71769bc73a3ab",
            "b2ac0dfea9584331a5570392fcde5e0d",
            "ce5dd2089810471f89b130687a84dbf3",
            "46c29548b8f048759c58666420159018",
            "6b874b7378dc47098785a51a4985b1c3",
            "4a717a496e3a4f1e9d83f372e248517a",
            "e5e4993f0fb34b0da1d053d6d7be6ba3",
            "f1c8a553103249bebe83e3883e127924",
            "7dc913e1c78e42d7b31467094aee6c5c",
            "6c0a411f8f1f4571823ddb7029bdf873",
            "a39409e254ec4ffabe66be69d4619807",
            "36bf6f7bcafa4ee0849b409011a89fd2",
            "277353afaf934128b29e781908496003",
            "c220cb6fb6ca412098e64fe6469c4533",
            "23d2a68c35454f0387a538a9c7ea94a4",
            "9a023c7f71f849de9acad7f1f50254a2"
          ]
        },
        "outputId": "0ac30093-54b1-4dce-bef7-a43e8560463d"
      },
      "execution_count": null,
      "outputs": [
        {
          "output_type": "stream",
          "name": "stdout",
          "text": [
            "Downloading http://yann.lecun.com/exdb/mnist/train-images-idx3-ubyte.gz\n",
            "Downloading http://yann.lecun.com/exdb/mnist/train-images-idx3-ubyte.gz to ./data/MNIST/raw/train-images-idx3-ubyte.gz\n"
          ]
        },
        {
          "output_type": "display_data",
          "data": {
            "text/plain": [
              "  0%|          | 0/9912422 [00:00<?, ?it/s]"
            ],
            "application/vnd.jupyter.widget-view+json": {
              "version_major": 2,
              "version_minor": 0,
              "model_id": "9dfe42262c5146f4aec3703b29bff11c"
            }
          },
          "metadata": {}
        },
        {
          "output_type": "stream",
          "name": "stdout",
          "text": [
            "Extracting ./data/MNIST/raw/train-images-idx3-ubyte.gz to ./data/MNIST/raw\n",
            "\n",
            "Downloading http://yann.lecun.com/exdb/mnist/train-labels-idx1-ubyte.gz\n",
            "Downloading http://yann.lecun.com/exdb/mnist/train-labels-idx1-ubyte.gz to ./data/MNIST/raw/train-labels-idx1-ubyte.gz\n"
          ]
        },
        {
          "output_type": "display_data",
          "data": {
            "text/plain": [
              "  0%|          | 0/28881 [00:00<?, ?it/s]"
            ],
            "application/vnd.jupyter.widget-view+json": {
              "version_major": 2,
              "version_minor": 0,
              "model_id": "d03ec3cc8af643ec85f90e9002d9f9f8"
            }
          },
          "metadata": {}
        },
        {
          "output_type": "stream",
          "name": "stdout",
          "text": [
            "Extracting ./data/MNIST/raw/train-labels-idx1-ubyte.gz to ./data/MNIST/raw\n",
            "\n",
            "Downloading http://yann.lecun.com/exdb/mnist/t10k-images-idx3-ubyte.gz\n",
            "Downloading http://yann.lecun.com/exdb/mnist/t10k-images-idx3-ubyte.gz to ./data/MNIST/raw/t10k-images-idx3-ubyte.gz\n"
          ]
        },
        {
          "output_type": "display_data",
          "data": {
            "text/plain": [
              "  0%|          | 0/1648877 [00:00<?, ?it/s]"
            ],
            "application/vnd.jupyter.widget-view+json": {
              "version_major": 2,
              "version_minor": 0,
              "model_id": "d92544f5b98f4200b8e2c067a4cc1eb8"
            }
          },
          "metadata": {}
        },
        {
          "output_type": "stream",
          "name": "stdout",
          "text": [
            "Extracting ./data/MNIST/raw/t10k-images-idx3-ubyte.gz to ./data/MNIST/raw\n",
            "\n",
            "Downloading http://yann.lecun.com/exdb/mnist/t10k-labels-idx1-ubyte.gz\n",
            "Downloading http://yann.lecun.com/exdb/mnist/t10k-labels-idx1-ubyte.gz to ./data/MNIST/raw/t10k-labels-idx1-ubyte.gz\n"
          ]
        },
        {
          "output_type": "display_data",
          "data": {
            "text/plain": [
              "  0%|          | 0/4542 [00:00<?, ?it/s]"
            ],
            "application/vnd.jupyter.widget-view+json": {
              "version_major": 2,
              "version_minor": 0,
              "model_id": "4a717a496e3a4f1e9d83f372e248517a"
            }
          },
          "metadata": {}
        },
        {
          "output_type": "stream",
          "name": "stdout",
          "text": [
            "Extracting ./data/MNIST/raw/t10k-labels-idx1-ubyte.gz to ./data/MNIST/raw\n",
            "\n"
          ]
        }
      ]
    },
    {
      "cell_type": "markdown",
      "source": [
        "#### Split & Prepare Dataset"
      ],
      "metadata": {
        "id": "VNfJvnkjK3Uu"
      }
    },
    {
      "cell_type": "code",
      "source": [
        "val_ratio = 0.1 \n",
        "train_data, val_data = torch.utils.data.random_split(trainset, (int(len(trainset)*(1-val_ratio)), int(len(trainset)*val_ratio)))"
      ],
      "metadata": {
        "id": "Dw_gp9-BvIi9"
      },
      "execution_count": null,
      "outputs": []
    },
    {
      "cell_type": "markdown",
      "source": [
        "#### Building the MLP Model "
      ],
      "metadata": {
        "id": "CW-_-mX8lQm6"
      }
    },
    {
      "cell_type": "code",
      "source": [
        "class TwoLayerMLP(torch.nn.Module): \n",
        "  def __init__(self): \n",
        "    super(TwoLayerMLP, self).__init__() \n",
        "    self.input_layer = torch.nn.Linear(784, 256)    # .cuda()\n",
        "    self.first_layer = torch.nn.Linear(256, 256)   # .cuda()\n",
        "    self.second_layer = torch.nn.Linear(256, 10)   # .cuda() \n",
        "\n",
        "  def forward(self, x):\n",
        "    input_one = torch.nn.functional.relu(self.input_layer(x))\n",
        "    hidden_one = torch.nn.functional.relu(self.first_layer(input_one))\n",
        "    y_pred = self.second_layer(hidden_one) \n",
        "    # y_pred = torch.nn.functional.softmax(self.second_layer(hidden_one), dim=1) \n",
        "    # -- crossEntropyLoss function already contains softmax \n",
        "    return y_pred \n"
      ],
      "metadata": {
        "id": "cPL6lzUddLnm"
      },
      "execution_count": null,
      "outputs": []
    },
    {
      "cell_type": "code",
      "source": [
        "def train_function(num_epochs, train_data): \n",
        "   \n",
        "  model = TwoLayerMLP() \n",
        "  optimizer = torch.optim.SGD(model.parameters(), lr = 1e-2) \n",
        "  loss_function = torch.nn.CrossEntropyLoss() \n",
        "\n",
        "  batch_losses = [] \n",
        "  epoch_losses = []\n",
        "  for epoch in range(num_epochs): \n",
        "    model = model.train() \n",
        "    train_loader = torch.utils.data.DataLoader(train_data, shuffle = True, batch_size = 64) \n",
        "    # shuffles train data before every epoch \n",
        "    \n",
        "    for count, (input_data, labels) in enumerate(train_loader):  \n",
        "\n",
        "      # reshape the data \n",
        "      input_data = input_data.view(input_data.size(0), -1)\n",
        "      labels = labels  # .cuda \n",
        "\n",
        "      # feed data into model and calculate loss function \n",
        "      y_pred = model(input_data)  # do not put argmax here! \n",
        "                                  # -- argmax is not differentiable and would not train the model! \n",
        "      loss = loss_function(y_pred, labels)\n",
        "\n",
        "      # backpropagate the calculated loss and update weights \n",
        "      loss.backward() \n",
        "      batch_losses.append(loss)  # keeps track of loss for each batch \n",
        "      optimizer.step() \n",
        "      optimizer.zero_grad() \n",
        "    print('Epoch: {} | Loss: {}\\n'.format(epoch, loss))\n",
        "    epoch_losses.append(loss)\n",
        "  return epoch_losses, batch_losses, model, loss_function \n",
        "    \n"
      ],
      "metadata": {
        "id": "UNO-XcCwSEy7"
      },
      "execution_count": null,
      "outputs": []
    },
    {
      "cell_type": "markdown",
      "source": [
        "#### Training the MLP Model "
      ],
      "metadata": {
        "id": "ucDWeDOzldKR"
      }
    },
    {
      "cell_type": "code",
      "source": [
        "epoch_losses, batch_losses, trained_model, loss_function = train_function(5, train_data)"
      ],
      "metadata": {
        "colab": {
          "base_uri": "https://localhost:8080/"
        },
        "id": "VrZERe9NdhJm",
        "outputId": "ccd76cc0-5794-4ed5-fdab-a9ac22647fbd"
      },
      "execution_count": null,
      "outputs": [
        {
          "output_type": "stream",
          "name": "stdout",
          "text": [
            "Epoch: 0 | Loss: 0.8850622177124023\n",
            "\n"
          ]
        }
      ]
    },
    {
      "cell_type": "markdown",
      "source": [
        "#### Feeding Validation data into Trained Model "
      ],
      "metadata": {
        "id": "w4WDGgX8pcTV"
      }
    },
    {
      "cell_type": "code",
      "source": [
        "def test_function(test_data, trained_model, loss_function): \n",
        "  predicted = [] \n",
        "  actual = [] \n",
        "  for count, (input_data, labels) in enumerate(test_data): \n",
        "    # input_data = input_data.float() / 255 \n",
        "    # -- dont need this line as input_data is already transformed to tensor in data loader \n",
        "    input_data = input_data.view(input_data.size(0), -1)\n",
        "    y_pred = trained_model(input_data) \n",
        "    y = y_pred.tolist() \n",
        "    actual.append(labels)\n",
        "    for i in y: \n",
        "      predicted.append(i.index(max(i)))\n",
        "  return predicted, actual "
      ],
      "metadata": {
        "id": "gd8whwLosm2O"
      },
      "execution_count": null,
      "outputs": []
    },
    {
      "cell_type": "code",
      "source": [
        "predicted_val, actual_val = test_function(val_data, trained_model, loss_function)\n",
        "print(predicted_val) \n",
        "print(actual_val)"
      ],
      "metadata": {
        "colab": {
          "base_uri": "https://localhost:8080/"
        },
        "id": "n17yl0Ab41DM",
        "outputId": "5eb49025-0b7e-4fa8-9649-5619a502184b"
      },
      "execution_count": null,
      "outputs": [
        {
          "output_type": "stream",
          "name": "stdout",
          "text": [
            "[6, 9, 1, 8, 8, 3, 2, 3, 2, 9, 2, 7, 8, 0, 3, 8, 3, 3, 7, 2, 0, 1, 0, 0, 3, 6, 8, 2, 7, 4, 0, 3, 1, 2, 0, 7, 5, 4, 9, 1, 8, 8, 1, 3, 8, 8, 4, 4, 7, 7, 6, 4, 5, 0, 2, 5, 3, 3, 7, 3, 9, 5, 1, 7, 9, 7, 1, 4, 6, 2, 4, 2, 4, 6, 9, 2, 1, 5, 0, 6, 3, 6, 3, 0, 9, 3, 9, 1, 2, 1, 8, 7, 5, 6, 4, 4, 3, 7, 0, 2, 5, 7, 6, 8, 0, 8, 2, 6, 1, 1, 3, 1, 4, 2, 1, 0, 6, 7, 7, 6, 0, 0, 3, 7, 3, 5, 0, 2, 7, 3, 1, 6, 0, 9, 2, 8, 0, 6, 1, 1, 3, 0, 3, 8, 0, 3, 6, 3, 9, 0, 6, 8, 3, 5, 8, 7, 2, 1, 0, 0, 4, 7, 3, 7, 0, 8, 4, 7, 5, 1, 9, 4, 1, 9, 4, 0, 2, 7, 1, 1, 8, 6, 3, 4, 7, 3, 3, 1, 2, 5, 7, 0, 3, 8, 3, 6, 6, 7, 9, 9, 8, 0, 0, 2, 3, 1, 9, 3, 1, 5, 7, 1, 7, 7, 2, 9, 6, 3, 0, 7, 3, 9, 6, 8, 1, 6, 9, 9, 4, 3, 9, 1, 6, 8, 1, 1, 6, 1, 7, 3, 0, 3, 6, 7, 3, 5, 0, 7, 0, 6, 6, 1, 9, 1, 2, 8, 4, 2, 8, 9, 2, 4, 0, 0, 4, 1, 1, 8, 3, 8, 4, 1, 8, 7, 9, 3, 1, 3, 6, 9, 1, 1, 1, 7, 1, 6, 2, 8, 2, 4, 3, 8, 1, 4, 9, 8, 0, 4, 7, 2, 9, 3, 5, 6, 6, 7, 3, 0, 0, 2, 9, 1, 7, 5, 1, 4, 2, 0, 7, 4, 9, 7, 6, 7, 1, 2, 1, 7, 6, 9, 2, 3, 4, 9, 1, 9, 7, 2, 9, 4, 5, 8, 4, 6, 9, 4, 4, 3, 7, 4, 8, 3, 2, 7, 7, 1, 8, 9, 7, 9, 7, 0, 2, 7, 3, 1, 8, 8, 2, 4, 3, 4, 7, 7, 7, 8, 9, 2, 6, 2, 1, 6, 8, 4, 6, 0, 1, 2, 7, 8, 0, 5, 9, 3, 6, 1, 0, 7, 6, 3, 6, 7, 1, 1, 2, 0, 7, 2, 3, 0, 3, 2, 0, 2, 1, 9, 1, 2, 0, 7, 0, 3, 7, 5, 1, 7, 1, 9, 9, 0, 6, 9, 9, 7, 6, 3, 8, 3, 9, 6, 8, 6, 7, 8, 6, 2, 1, 4, 3, 7, 8, 3, 2, 8, 1, 2, 8, 7, 3, 1, 2, 5, 3, 9, 0, 8, 8, 0, 6, 2, 4, 5, 6, 1, 5, 0, 0, 6, 4, 1, 8, 8, 4, 6, 3, 1, 7, 4, 3, 3, 1, 8, 2, 3, 9, 0, 2, 7, 9, 3, 3, 4, 4, 1, 5, 0, 0, 7, 0, 1, 0, 7, 0, 8, 0, 7, 0, 3, 9, 2, 8, 3, 6, 0, 4, 0, 1, 3, 2, 1, 1, 8, 9, 6, 6, 3, 8, 3, 0, 6, 5, 7, 4, 9, 7, 8, 9, 0, 8, 9, 8, 7, 6, 9, 3, 7, 7, 4, 0, 4, 0, 7, 6, 8, 0, 4, 8, 5, 0, 1, 3, 3, 4, 0, 7, 1, 3, 8, 2, 2, 3, 7, 2, 6, 4, 9, 7, 3, 3, 6, 6, 6, 9, 0, 6, 1, 1, 2, 5, 0, 5, 5, 4, 8, 4, 0, 3, 5, 6, 3, 5, 5, 6, 3, 3, 3, 8, 4, 9, 1, 5, 0, 1, 6, 2, 0, 3, 7, 4, 6, 8, 9, 3, 1, 0, 1, 3, 0, 7, 8, 0, 7, 1, 8, 8, 6, 1, 9, 8, 1, 3, 1, 9, 1, 8, 8, 0, 3, 3, 1, 4, 6, 7, 3, 0, 0, 6, 7, 7, 1, 9, 9, 6, 3, 7, 0, 3, 2, 4, 4, 3, 1, 0, 8, 2, 0, 8, 6, 1, 3, 1, 3, 2, 0, 1, 0, 8, 0, 4, 9, 1, 8, 4, 5, 5, 0, 3, 8, 8, 0, 3, 7, 9, 8, 1, 3, 5, 4, 3, 0, 9, 5, 4, 5, 8, 0, 3, 0, 1, 7, 7, 7, 3, 1, 3, 3, 7, 1, 0, 3, 0, 5, 3, 1, 2, 3, 6, 7, 3, 8, 4, 9, 8, 3, 5, 6, 1, 7, 7, 9, 4, 1, 6, 4, 9, 7, 8, 9, 9, 2, 6, 8, 9, 4, 7, 0, 1, 1, 6, 1, 5, 4, 3, 4, 6, 7, 7, 3, 6, 6, 4, 7, 1, 1, 6, 2, 4, 8, 2, 0, 0, 1, 3, 8, 0, 0, 3, 8, 1, 8, 7, 4, 0, 7, 1, 9, 8, 3, 0, 9, 8, 1, 9, 3, 7, 1, 1, 1, 6, 3, 7, 0, 4, 9, 4, 0, 3, 8, 8, 9, 1, 7, 6, 6, 8, 7, 0, 9, 7, 0, 3, 7, 2, 0, 4, 0, 7, 8, 0, 6, 4, 2, 9, 2, 9, 7, 8, 9, 6, 3, 7, 5, 8, 4, 0, 3, 0, 0, 2, 2, 7, 7, 9, 7, 7, 8, 7, 7, 8, 3, 4, 3, 6, 6, 0, 9, 3, 5, 5, 6, 6, 8, 0, 3, 7, 6, 0, 8, 7, 0, 4, 9, 7, 4, 1, 8, 2, 1, 8, 4, 8, 4, 5, 1, 7, 9, 3, 0, 5, 4, 4, 7, 7, 0, 9, 9, 3, 8, 6, 9, 4, 8, 5, 0, 8, 8, 0, 1, 8, 1, 7, 0, 4, 9, 4, 6, 4, 4, 7, 9, 2, 0, 8, 0, 2, 6, 3, 1, 9, 1, 0, 3, 3, 3, 1, 2, 0, 1, 3, 1, 2, 7, 5, 9, 6, 5, 0, 3, 3, 6, 5, 6, 4, 4, 8, 8, 5, 3, 8, 4, 4, 4, 1, 6, 7, 1, 1, 9, 4, 0, 0, 7, 6, 3, 2, 8, 7, 8, 2, 1, 1, 6, 4, 9, 9, 2, 6, 7, 9, 8, 9, 9, 3, 1, 4, 0, 4, 1, 8, 0, 1, 1, 2, 3, 9, 1, 1, 8, 5, 5, 1, 0, 6, 3, 3, 0, 4, 2, 6, 1, 9, 3, 6, 3, 5, 5, 1, 4, 9, 1, 1, 0, 3, 1, 1, 0, 8, 0, 8, 4, 2, 7, 4, 3, 2, 0, 6, 6, 9, 8, 3, 7, 5, 4, 4, 8, 5, 0, 9, 3, 2, 9, 7, 6, 9, 7, 4, 0, 5, 2, 3, 1, 8, 8, 0, 1, 9, 0, 3, 5, 2, 8, 1, 4, 2, 3, 6, 0, 3, 4, 0, 7, 4, 1, 9, 1, 1, 4, 4, 1, 4, 0, 2, 9, 3, 7, 6, 3, 7, 6, 4, 9, 2, 7, 5, 8, 2, 8, 2, 7, 1, 2, 3, 8, 0, 7, 2, 2, 1, 3, 2, 1, 8, 7, 4, 4, 3, 1, 8, 0, 9, 3, 1, 2, 0, 7, 4, 9, 1, 9, 0, 1, 8, 5, 4, 0, 3, 3, 0, 8, 6, 9, 5, 4, 4, 6, 1, 6, 1, 7, 0, 7, 1, 4, 6, 3, 4, 3, 1, 6, 0, 6, 3, 6, 7, 7, 8, 4, 2, 3, 9, 5, 2, 3, 7, 9, 5, 3, 3, 2, 7, 6, 1, 1, 3, 7, 9, 7, 3, 9, 2, 9, 7, 7, 6, 3, 7, 4, 6, 2, 8, 0, 6, 3, 4, 2, 0, 6, 4, 4, 8, 7, 4, 6, 2, 5, 3, 0, 7, 7, 7, 9, 5, 1, 8, 7, 4, 8, 4, 9, 0, 2, 6, 7, 6, 6, 8, 5, 6, 7, 5, 7, 7, 0, 6, 3, 2, 8, 6, 6, 1, 5, 8, 5, 6, 7, 1, 1, 3, 7, 4, 8, 0, 0, 8, 9, 2, 3, 2, 3, 8, 4, 9, 4, 7, 5, 7, 0, 8, 1, 0, 7, 2, 9, 4, 4, 4, 7, 6, 1, 1, 8, 9, 6, 3, 4, 4, 3, 3, 0, 2, 4, 1, 8, 1, 7, 1, 3, 3, 8, 7, 8, 2, 1, 4, 2, 3, 2, 1, 3, 2, 4, 2, 1, 2, 5, 2, 3, 1, 1, 3, 2, 1, 8, 4, 2, 3, 8, 5, 7, 4, 0, 7, 4, 6, 2, 8, 3, 1, 7, 0, 1, 5, 9, 5, 7, 7, 8, 1, 4, 3, 3, 3, 3, 6, 7, 6, 7, 8, 5, 6, 3, 6, 1, 5, 6, 8, 0, 0, 9, 1, 1, 2, 0, 1, 5, 5, 9, 8, 0, 3, 8, 4, 3, 3, 2, 0, 4, 7, 0, 7, 1, 7, 7, 1, 2, 7, 8, 2, 6, 3, 1, 0, 9, 3, 0, 7, 3, 3, 1, 3, 0, 6, 3, 5, 8, 7, 3, 1, 1, 6, 7, 3, 0, 4, 3, 5, 0, 2, 2, 1, 8, 0, 2, 9, 8, 5, 6, 1, 2, 4, 9, 7, 9, 1, 3, 0, 8, 0, 0, 3, 0, 3, 0, 9, 2, 9, 7, 7, 4, 1, 7, 2, 2, 2, 9, 7, 4, 9, 0, 3, 8, 0, 5, 1, 2, 8, 8, 2, 8, 7, 7, 3, 6, 3, 4, 5, 0, 8, 0, 6, 3, 8, 2, 4, 6, 0, 3, 7, 6, 8, 4, 7, 4, 9, 8, 1, 9, 1, 7, 4, 6, 9, 7, 9, 5, 3, 3, 5, 0, 1, 2, 4, 4, 1, 1, 6, 7, 1, 4, 8, 1, 9, 4, 1, 4, 2, 4, 7, 0, 3, 3, 7, 6, 3, 8, 0, 2, 4, 6, 9, 1, 7, 8, 8, 5, 2, 1, 3, 2, 6, 0, 7, 4, 2, 0, 8, 7, 0, 0, 9, 3, 0, 0, 1, 5, 3, 9, 6, 4, 9, 9, 0, 0, 4, 0, 3, 7, 2, 4, 1, 8, 4, 5, 9, 1, 1, 0, 5, 8, 3, 7, 6, 9, 0, 0, 7, 0, 4, 6, 2, 1, 8, 9, 3, 4, 6, 4, 4, 7, 6, 0, 1, 6, 3, 0, 4, 1, 1, 7, 8, 0, 3, 1, 7, 0, 4, 7, 3, 4, 1, 9, 3, 4, 2, 6, 3, 8, 6, 9, 9, 0, 2, 1, 1, 6, 4, 9, 9, 5, 6, 0, 6, 0, 9, 2, 2, 6, 6, 1, 8, 3, 0, 6, 1, 1, 2, 3, 5, 7, 4, 6, 1, 7, 3, 2, 3, 3, 1, 8, 0, 6, 5, 7, 6, 4, 0, 3, 2, 3, 6, 1, 6, 8, 2, 4, 6, 1, 1, 1, 4, 4, 5, 6, 8, 7, 8, 2, 8, 9, 6, 9, 2, 6, 1, 3, 4, 9, 3, 7, 3, 1, 1, 6, 0, 6, 1, 8, 3, 1, 6, 0, 7, 5, 7, 6, 4, 9, 4, 7, 4, 8, 1, 2, 3, 6, 1, 8, 9, 8, 1, 3, 8, 6, 3, 1, 6, 6, 2, 9, 7, 1, 1, 4, 6, 0, 3, 1, 4, 8, 9, 9, 4, 5, 9, 5, 5, 2, 6, 4, 8, 9, 4, 8, 4, 6, 6, 6, 7, 2, 1, 1, 7, 6, 7, 3, 4, 1, 0, 1, 6, 3, 2, 6, 8, 1, 9, 7, 0, 3, 6, 7, 4, 3, 4, 1, 0, 9, 6, 4, 1, 1, 1, 1, 0, 1, 3, 4, 7, 1, 5, 9, 7, 8, 3, 0, 9, 8, 0, 1, 4, 9, 9, 1, 5, 3, 9, 6, 6, 5, 0, 2, 8, 6, 3, 3, 1, 8, 6, 4, 1, 8, 3, 8, 1, 4, 1, 9, 0, 5, 2, 6, 2, 2, 2, 1, 6, 1, 2, 3, 5, 4, 3, 2, 6, 6, 7, 6, 9, 3, 3, 0, 1, 7, 3, 7, 1, 5, 0, 8, 6, 1, 2, 8, 1, 3, 7, 8, 1, 0, 1, 8, 6, 1, 6, 7, 2, 4, 6, 6, 9, 2, 2, 3, 7, 3, 6, 9, 0, 4, 5, 7, 8, 5, 7, 8, 8, 1, 6, 1, 8, 8, 8, 6, 3, 1, 5, 1, 4, 8, 1, 2, 1, 4, 5, 8, 2, 6, 2, 1, 7, 5, 1, 2, 6, 6, 9, 3, 7, 2, 9, 7, 6, 7, 3, 8, 1, 9, 6, 7, 2, 3, 0, 9, 9, 1, 1, 0, 9, 3, 9, 7, 2, 3, 9, 8, 6, 2, 9, 8, 9, 2, 7, 8, 6, 6, 1, 0, 1, 9, 3, 4, 0, 6, 5, 6, 2, 7, 1, 5, 0, 3, 6, 9, 1, 6, 9, 3, 6, 5, 6, 2, 4, 6, 2, 9, 1, 0, 1, 4, 6, 0, 8, 3, 8, 7, 1, 7, 3, 0, 1, 6, 9, 8, 7, 0, 3, 7, 7, 0, 4, 3, 9, 3, 3, 6, 4, 6, 4, 2, 0, 0, 2, 8, 8, 7, 4, 1, 9, 3, 3, 3, 9, 6, 6, 4, 7, 0, 6, 8, 1, 1, 2, 3, 9, 6, 9, 6, 4, 3, 4, 3, 1, 2, 7, 3, 1, 8, 5, 2, 3, 3, 6, 1, 8, 3, 9, 1, 8, 0, 9, 1, 6, 2, 1, 9, 4, 7, 3, 6, 8, 9, 3, 0, 7, 2, 7, 3, 5, 5, 4, 7, 0, 9, 2, 8, 9, 0, 4, 0, 7, 4, 2, 0, 7, 0, 7, 9, 9, 6, 3, 7, 3, 3, 9, 7, 7, 6, 8, 7, 3, 1, 4, 7, 8, 0, 2, 8, 0, 1, 9, 9, 6, 7, 0, 6, 1, 9, 3, 9, 1, 8, 8, 3, 1, 1, 9, 4, 8, 8, 0, 1, 1, 2, 1, 4, 3, 3, 9, 1, 9, 3, 4, 5, 2, 4, 7, 3, 9, 3, 2, 9, 4, 2, 3, 1, 3, 0, 8, 3, 7, 0, 6, 5, 8, 3, 0, 3, 9, 6, 3, 0, 6, 6, 7, 1, 4, 1, 8, 2, 3, 4, 0, 6, 8, 5, 4, 1, 1, 2, 6, 9, 9, 3, 2, 6, 9, 0, 0, 7, 6, 9, 2, 4, 9, 8, 9, 0, 1, 7, 4, 3, 0, 7, 2, 1, 9, 4, 3, 3, 8, 6, 8, 1, 2, 9, 7, 6, 8, 1, 3, 7, 9, 7, 6, 1, 0, 5, 7, 1, 6, 3, 1, 1, 7, 2, 1, 9, 8, 8, 0, 2, 6, 9, 0, 0, 3, 7, 2, 6, 5, 6, 4, 1, 1, 3, 2, 8, 5, 2, 1, 5, 9, 8, 3, 3, 7, 9, 8, 3, 1, 4, 4, 9, 2, 8, 1, 6, 7, 9, 3, 6, 3, 5, 1, 0, 3, 6, 3, 3, 0, 8, 3, 5, 3, 7, 4, 1, 7, 5, 6, 4, 3, 2, 3, 9, 1, 9, 1, 0, 4, 2, 6, 7, 9, 7, 3, 1, 7, 3, 4, 0, 1, 6, 0, 0, 1, 4, 0, 7, 9, 9, 6, 3, 3, 1, 1, 6, 6, 3, 9, 6, 1, 8, 9, 6, 1, 0, 9, 1, 1, 1, 9, 6, 7, 7, 0, 7, 1, 0, 7, 4, 8, 0, 9, 1, 5, 9, 4, 1, 3, 1, 8, 0, 1, 4, 6, 9, 4, 0, 9, 3, 6, 4, 6, 3, 1, 1, 7, 9, 1, 6, 3, 6, 0, 8, 0, 1, 2, 2, 8, 3, 9, 6, 6, 9, 6, 4, 6, 6, 2, 7, 3, 0, 6, 6, 7, 2, 1, 9, 9, 2, 2, 0, 6, 6, 0, 3, 0, 4, 1, 4, 0, 0, 0, 2, 6, 9, 3, 4, 3, 9, 3, 7, 1, 3, 8, 5, 6, 5, 1, 9, 1, 9, 1, 8, 0, 0, 0, 3, 6, 2, 3, 9, 1, 2, 5, 4, 4, 4, 6, 4, 9, 7, 3, 0, 1, 5, 4, 6, 1, 9, 1, 2, 1, 9, 5, 3, 4, 7, 8, 3, 9, 9, 1, 0, 8, 1, 8, 9, 3, 2, 7, 1, 0, 3, 5, 5, 4, 7, 3, 9, 2, 9, 7, 3, 6, 5, 1, 1, 0, 2, 1, 2, 1, 3, 7, 6, 6, 8, 3, 3, 3, 3, 1, 3, 6, 3, 6, 4, 7, 1, 3, 7, 4, 3, 0, 1, 1, 4, 0, 1, 7, 1, 0, 8, 9, 5, 3, 0, 3, 2, 8, 3, 2, 8, 1, 7, 7, 2, 1, 7, 1, 3, 4, 1, 8, 4, 9, 1, 4, 8, 4, 3, 3, 7, 3, 3, 2, 7, 7, 3, 1, 4, 7, 8, 3, 2, 2, 3, 2, 4, 7, 8, 6, 3, 4, 1, 0, 6, 6, 8, 4, 7, 3, 3, 1, 1, 2, 0, 7, 9, 8, 1, 8, 0, 4, 2, 0, 8, 1, 6, 6, 7, 4, 6, 9, 8, 1, 4, 2, 0, 8, 4, 9, 2, 1, 3, 4, 8, 2, 5, 1, 2, 6, 3, 6, 1, 2, 9, 0, 6, 8, 6, 2, 9, 9, 0, 1, 8, 4, 1, 3, 5, 2, 3, 3, 2, 5, 3, 1, 2, 0, 9, 3, 1, 5, 2, 7, 9, 2, 4, 0, 9, 0, 2, 6, 8, 1, 3, 1, 8, 0, 7, 1, 9, 2, 7, 2, 3, 5, 1, 2, 1, 8, 4, 8, 1, 2, 3, 2, 8, 6, 8, 1, 9, 1, 7, 3, 6, 1, 0, 1, 7, 0, 4, 4, 7, 1, 3, 6, 4, 7, 3, 3, 8, 1, 7, 2, 0, 9, 4, 3, 0, 9, 5, 3, 4, 0, 6, 9, 4, 1, 0, 8, 4, 7, 0, 0, 3, 9, 1, 1, 0, 8, 4, 1, 1, 5, 8, 6, 3, 1, 6, 1, 6, 6, 3, 7, 9, 1, 0, 4, 8, 8, 8, 4, 2, 0, 7, 4, 7, 5, 3, 6, 1, 8, 0, 6, 8, 6, 6, 9, 3, 1, 2, 4, 9, 7, 8, 1, 3, 6, 1, 2, 8, 1, 8, 8, 1, 0, 1, 3, 1, 4, 7, 2, 3, 2, 2, 2, 4, 2, 3, 6, 3, 7, 4, 4, 7, 1, 1, 8, 8, 9, 6, 7, 4, 3, 8, 7, 6, 9, 1, 5, 3, 9, 1, 4, 0, 9, 5, 8, 8, 8, 0, 5, 5, 3, 3, 0, 7, 8, 7, 0, 0, 9, 6, 1, 2, 4, 3, 1, 0, 5, 1, 4, 4, 5, 9, 9, 3, 3, 1, 3, 7, 0, 0, 9, 8, 0, 7, 0, 3, 0, 0, 5, 9, 3, 6, 3, 2, 3, 9, 3, 3, 5, 0, 5, 3, 9, 0, 2, 8, 4, 4, 2, 6, 1, 2, 4, 0, 4, 3, 7, 9, 2, 4, 2, 6, 2, 3, 0, 2, 6, 2, 0, 4, 6, 1, 1, 6, 6, 7, 5, 9, 5, 0, 4, 0, 3, 6, 4, 9, 7, 8, 3, 4, 2, 1, 1, 7, 8, 1, 8, 6, 6, 7, 3, 1, 7, 9, 6, 4, 8, 1, 1, 2, 3, 6, 3, 1, 4, 6, 1, 1, 8, 7, 6, 4, 7, 7, 9, 9, 5, 0, 1, 3, 1, 2, 0, 0, 2, 1, 7, 2, 1, 7, 6, 4, 6, 8, 1, 4, 6, 3, 2, 0, 7, 0, 3, 1, 3, 4, 9, 4, 4, 4, 3, 9, 1, 3, 2, 4, 5, 7, 4, 3, 4, 3, 0, 2, 0, 1, 7, 5, 7, 6, 0, 1, 9, 9, 3, 0, 0, 5, 1, 9, 9, 8, 5, 3, 4, 2, 6, 2, 4, 2, 8, 7, 3, 7, 3, 3, 0, 6, 3, 7, 5, 8, 1, 7, 3, 2, 3, 2, 9, 6, 3, 1, 6, 6, 7, 8, 3, 2, 2, 9, 5, 2, 5, 1, 1, 1, 5, 8, 1, 3, 3, 8, 7, 9, 8, 8, 4, 3, 1, 6, 7, 6, 7, 0, 6, 5, 9, 0, 3, 0, 6, 2, 1, 3, 2, 7, 2, 4, 5, 6, 8, 4, 1, 5, 7, 8, 0, 0, 1, 3, 0, 5, 9, 4, 6, 1, 9, 6, 3, 1, 1, 7, 9, 7, 2, 7, 9, 7, 1, 7, 8, 0, 3, 4, 7, 6, 7, 8, 0, 2, 2, 3, 7, 1, 6, 4, 6, 3, 3, 7, 3, 8, 1, 9, 0, 7, 0, 2, 8, 7, 3, 3, 1, 1, 2, 4, 7, 7, 6, 4, 0, 6, 6, 7, 0, 6, 7, 0, 6, 7, 4, 0, 1, 7, 1, 1, 9, 2, 8, 5, 6, 7, 7, 2, 0, 9, 0, 1, 8, 4, 0, 0, 3, 6, 0, 9, 4, 4, 3, 1, 6, 3, 6, 1, 8, 6, 2, 3, 3, 6, 7, 0, 1, 7, 0, 3, 7, 8, 7, 4, 6, 3, 8, 6, 3, 1, 2, 7, 2, 9, 9, 3, 3, 0, 4, 7, 0, 1, 7, 3, 9, 9, 2, 8, 9, 0, 4, 6, 2, 4, 1, 0, 1, 1, 3, 3, 6, 2, 7, 6, 6, 3, 1, 1, 4, 0, 2, 9, 0, 6, 0, 5, 2, 4, 4, 2, 9, 2, 1, 6, 3, 2, 4, 7, 3, 8, 8, 8, 7, 0, 1, 1, 6, 9, 9, 3, 0, 9, 1, 0, 6, 2, 7, 4, 9, 2, 4, 2, 3, 1, 2, 4, 0, 6, 3, 0, 7, 1, 8, 3, 7, 4, 6, 1, 8, 4, 7, 2, 5, 2, 8, 4, 2, 1, 1, 9, 5, 8, 3, 8, 5, 1, 2, 6, 3, 6, 7, 7, 9, 1, 4, 1, 2, 0, 6, 7, 8, 6, 6, 7, 6, 3, 5, 8, 7, 3, 3, 4, 3, 0, 9, 2, 5, 3, 1, 4, 3, 1, 2, 2, 5, 3, 1, 9, 7, 6, 9, 4, 8, 3, 1, 1, 7, 3, 3, 6, 1, 3, 7, 1, 1, 0, 1, 1, 8, 9, 8, 5, 9, 9, 7, 9, 3, 7, 8, 1, 3, 9, 7, 8, 4, 8, 7, 5, 9, 3, 0, 6, 6, 4, 5, 3, 8, 6, 0, 7, 1, 3, 6, 4, 0, 6, 0, 9, 9, 4, 3, 0, 2, 5, 9, 9, 8, 4, 6, 5, 7, 7, 9, 6, 6, 7, 1, 1, 7, 2, 0, 5, 4, 0, 7, 7, 0, 6, 2, 4, 8, 7, 5, 6, 0, 9, 9, 2, 1, 8, 3, 8, 2, 4, 4, 0, 9, 9, 3, 1, 9, 6, 2, 7, 7, 3, 6, 9, 4, 6, 2, 8, 4, 4, 6, 0, 6, 1, 5, 1, 6, 6, 2, 1, 4, 2, 9, 5, 6, 7, 6, 8, 0, 9, 7, 9, 7, 3, 2, 4, 4, 0, 4, 3, 6, 3, 0, 4, 2, 6, 3, 4, 1, 1, 7, 3, 1, 2, 2, 0, 8, 6, 3, 1, 7, 9, 2, 9, 3, 0, 2, 3, 5, 3, 9, 5, 2, 4, 1, 7, 3, 7, 5, 6, 1, 3, 2, 1, 1, 2, 4, 1, 8, 9, 6, 4, 7, 8, 7, 9, 6, 8, 3, 3, 1, 2, 3, 8, 2, 2, 8, 9, 6, 3, 2, 7, 5, 3, 4, 2, 9, 7, 4, 0, 4, 8, 6, 6, 7, 4, 0, 1, 6, 0, 6, 6, 3, 6, 2, 7, 9, 9, 0, 6, 3, 7, 5, 6, 6, 9, 9, 4, 9, 7, 3, 6, 6, 8, 2, 0, 9, 7, 1, 8, 2, 4, 4, 1, 5, 4, 3, 2, 3, 4, 0, 0, 9, 1, 7, 3, 5, 3, 9, 3, 9, 5, 2, 3, 5, 3, 7, 2, 7, 2, 8, 7, 4, 9, 8, 9, 0, 0, 3, 1, 1, 3, 9, 9, 5, 6, 9, 7, 5, 3, 6, 9, 0, 1, 8, 5, 2, 2, 8, 3, 3, 5, 4, 6, 8, 3, 4, 7, 4, 6, 3, 8, 7, 1, 1, 7, 9, 9, 5, 6, 3, 1, 0, 7, 1, 6, 3, 1, 8, 4, 4, 2, 2, 3, 1, 8, 3, 3, 5, 6, 2, 6, 9, 8, 7, 6, 1, 5, 8, 9, 9, 2, 0, 7, 6, 1, 5, 7, 4, 5, 6, 6, 2, 0, 1, 3, 9, 3, 0, 1, 6, 6, 1, 8, 1, 1, 5, 3, 5, 9, 1, 6, 7, 5, 3, 6, 0, 1, 1, 7, 4, 6, 5, 1, 8, 8, 2, 4, 4, 6, 8, 3, 0, 3, 3, 9, 4, 1, 2, 7, 0, 1, 1, 3, 0, 0, 9, 9, 1, 4, 0, 6, 5, 8, 3, 7, 5, 7, 6, 8, 1, 6, 2, 0, 8, 6, 8, 3, 7, 9, 2, 7, 0, 7, 1, 6, 2, 7, 1, 0, 3, 3, 9, 3, 9, 1, 5, 5, 4, 5, 2, 9, 4, 1, 1, 9, 0, 1, 6, 5, 6, 1, 6, 4, 0, 0, 8, 8, 8, 4, 1, 5, 8, 7, 7, 0, 3, 8, 5, 0, 3, 8, 7, 9, 9, 4, 7, 7, 8, 3, 9, 3, 4, 4, 8, 2, 2, 6, 1, 1, 1, 8, 9, 2, 3, 7, 3, 7, 4, 6, 6, 9, 5, 9, 2, 6, 4, 7, 9, 1, 9, 6, 4, 1, 3, 5, 3, 1, 9, 0, 6, 2, 1, 4, 6, 7, 4, 1, 2, 2, 9, 7, 3, 0, 5, 3, 1, 0, 5, 0, 4, 6, 3, 6, 8, 4, 6, 0, 1, 4, 2, 3, 7, 6, 3, 8, 0, 3, 3, 3, 6, 1, 2, 4, 0, 3, 1, 3, 9, 9, 2, 7, 5, 8, 6, 2, 6, 2, 7, 2, 8, 3, 1, 4, 3, 6, 3, 4, 6, 4, 9, 2, 6, 1, 9, 2, 1, 6, 6, 1, 3, 3, 8, 9, 4, 5, 6, 7, 1, 2, 8, 4, 1, 1, 4, 9, 0, 3, 8, 0, 0, 7, 7, 7, 0, 5, 6, 1, 2, 2, 1, 4, 2, 6, 8, 1, 4, 0, 1, 8, 3, 7, 6, 3, 6, 5, 7, 3, 7, 9, 9, 7, 9, 1, 3, 0, 5, 0, 1, 1, 2, 1, 2, 7, 5, 2, 7, 1, 1, 1, 4, 8, 0, 4, 3, 5, 1, 1, 6, 0, 8, 0, 2, 1, 8, 8, 3, 6, 8, 2, 8, 9, 6, 4, 7, 4, 6, 6, 2, 3, 6, 1, 4, 6, 0, 0, 1, 6, 0, 9, 3, 1, 1, 1, 3, 8, 9, 0, 1, 2, 6, 3, 9, 9, 6, 6, 2, 0, 7, 1, 0, 1, 2, 9, 4, 1, 0, 1, 3, 0, 5, 4, 3, 9, 3, 0, 5, 7, 5, 2, 1, 1, 2, 4, 1, 0, 7, 9, 9, 8, 3, 7, 1, 7, 7, 9, 0, 8, 1, 3, 1, 0, 6, 9, 4, 8, 2, 6, 1, 7, 6, 4, 6, 1, 0, 5, 5, 6, 7, 5, 8, 7, 0, 7, 4, 7, 1, 0, 7, 9, 6, 1, 2, 6, 4, 4, 4, 5, 0, 4, 2, 5, 7, 4, 0, 4, 8, 3, 7, 6, 3, 6, 1, 7, 9, 3, 9, 1, 1, 0, 1, 0, 8, 6, 0, 9, 7, 6, 4, 0, 2, 9, 9, 7, 6, 6, 4, 0, 3, 1, 0, 9, 3, 2, 9, 1, 3, 4, 3, 5, 4, 3, 9, 1, 9, 1, 7, 2, 5, 0, 3, 3, 7, 2, 6, 5, 5, 4, 1, 2, 1, 2, 2, 0, 9, 2, 1, 3, 1, 0, 2, 5, 4, 1, 1, 1, 7, 0, 0, 1, 6, 4, 0, 0, 3, 4, 5, 2, 6, 9, 6, 5, 6, 2, 1, 1, 5, 3, 2, 2, 0, 2, 4, 6, 1, 3, 1, 1, 1, 6, 8, 6, 8, 5, 7, 7, 1, 3, 1, 9, 3, 5, 5, 1, 5, 1, 9, 0, 4, 1, 1, 8, 1, 8, 0, 2, 9, 7, 0, 1, 2, 3, 2, 9, 4, 3, 4, 2, 7, 0, 0, 5, 7, 4, 9, 2, 3, 1, 6, 7, 1, 3, 1, 1, 4, 9, 3, 8, 3, 0, 3, 5, 3, 9, 4, 5, 8, 2, 4, 3, 7, 4, 0, 7, 2, 5, 0, 0, 4, 7, 8, 4, 9, 8, 1, 1, 7, 1, 6, 9, 7, 0, 1, 6, 2, 6, 4, 8, 8, 3, 8, 9, 1, 8, 1, 1, 4, 8, 1, 8, 6, 7, 7, 0, 0, 3, 2, 7, 6, 3, 1, 7, 0, 4, 4, 1, 6, 9, 3, 2, 8, 5, 8, 0, 6, 7, 5, 2, 4, 9, 6, 1, 9, 2, 0, 0, 6, 2, 5, 4, 7, 1, 5, 3, 7, 4, 8, 5, 6, 6, 2, 8, 0, 3, 0, 6, 4, 1, 1, 9, 4, 6, 3, 7, 2, 7, 1, 3, 6, 3, 1, 3, 9, 1, 3, 7, 9, 8, 7, 7, 6, 1, 3, 9, 4, 0, 6, 1, 0, 5, 5, 6, 0, 7, 8, 2, 1, 8, 0, 3, 1, 7, 4, 0, 9, 7, 7, 4, 9, 6, 9, 3, 6, 3, 9, 9, 4, 2, 3, 9, 4, 0, 3, 3, 1, 6, 1, 0, 0, 3, 1, 7, 9, 5, 5, 1, 3, 2, 7, 1, 3, 3, 8, 1, 5, 1, 8, 6, 3, 1, 1, 1, 6, 4, 1, 3, 1, 3, 2, 3, 9, 7, 4, 7, 7, 3, 0, 7, 5, 4, 8, 8, 9, 8, 4, 4, 4, 4, 1, 0, 2, 3, 8, 2, 3, 2, 0, 8, 0, 9, 7, 3, 4, 1, 0, 7, 5, 9, 0, 2, 7, 8, 3, 8, 5, 0, 0, 3, 6, 3, 7, 2, 3, 7, 6, 1, 9, 3, 3, 4, 4, 4, 5, 2, 0, 6, 6, 1, 8, 6, 2, 4, 6, 6, 9, 2, 7, 4, 5, 3, 1, 7, 1, 0, 1, 8, 7, 5, 9, 5, 2, 7, 4, 2, 3, 8, 4, 1, 6, 0, 7, 3, 2, 3, 8, 0, 8, 0, 3, 5, 9, 9, 6, 1, 2, 7, 1, 2, 3, 0, 2, 2, 8, 4, 8, 3, 8, 1, 3, 4, 6, 9, 1, 9, 6, 3, 1, 1, 8, 7, 1, 0, 2, 1, 4, 3, 3, 9, 2, 7, 6, 8, 0, 9, 6, 0, 4, 4, 5, 8, 5, 5, 4, 1, 3, 7, 2, 6, 0, 1, 0, 1, 4, 6, 8, 8, 3, 1, 3, 3, 6, 3, 3, 8, 7, 3, 6, 0, 8, 0, 2, 0, 1, 2, 7, 1, 7, 3, 2, 9, 0, 3, 7, 1, 9, 4, 1, 8, 2, 3, 3, 9, 6, 0, 4, 7, 7, 9, 7, 1, 3, 4, 1, 1, 1, 8, 9, 2, 9, 8, 8, 2, 4, 7, 1, 9, 9, 4, 6, 9, 2, 0, 5, 0, 0, 6, 2, 9, 9, 5, 6, 4, 7, 3, 3, 0, 2, 8, 5, 7, 8, 9, 6, 3, 8, 8, 1, 3, 2, 0, 8, 1, 7, 7, 8, 8, 6, 1, 1, 8, 6, 1, 6, 0, 2, 3, 2, 6, 1, 2, 4, 1, 1, 8, 8, 3, 2, 4, 2, 3, 6, 4, 7, 1, 9, 3, 3, 4, 4, 9, 6, 2, 7, 2, 4, 0, 0, 7, 5, 1, 0, 2, 4, 0, 3, 7, 1, 8, 5, 1, 9, 3, 0, 0, 3, 0, 3, 7, 6, 0, 8, 6, 3, 7, 6, 1, 0, 0, 8, 6, 2, 4, 7, 0, 1, 4, 7, 0, 1, 0, 3, 1, 4, 7, 9, 5, 2, 9, 2, 8, 7, 2, 7, 7, 9, 0, 4, 7, 1, 2, 6, 6, 1, 2, 2, 2, 7, 8, 8, 4, 0, 1, 4, 4, 8, 1, 2, 0, 6, 6, 6, 3, 1, 2, 8, 4, 8, 2, 6, 7, 8, 4, 6, 3, 6, 4, 6, 6, 2, 9, 9, 9, 4, 2, 6, 1, 6, 7, 8, 3, 8, 9, 8, 9, 2, 3, 1, 6, 4, 7, 4, 7, 4, 7, 9, 8, 9, 1, 5, 7, 6, 7, 1, 9, 2, 5, 5, 4, 4, 5, 0, 5, 4, 1, 6, 5, 7, 7, 1, 3, 7, 4, 2, 3, 6, 1, 6, 2, 5, 3, 8, 5, 3, 7, 3, 3, 5, 3, 9, 8, 3, 9, 3, 1, 1, 2, 4, 0, 1, 9, 3, 7, 4, 3, 0, 3, 4, 9, 9, 1, 0, 3, 0, 0, 1, 7, 1, 0, 8, 9, 3, 6, 6, 4, 1, 7, 0, 5, 0, 8, 9, 7, 8, 9, 0, 4, 0, 1, 1, 3, 7, 8, 6, 5, 7, 1, 1, 1, 4, 2, 4, 0, 8, 4, 4, 5, 3, 1, 7, 8, 1, 0, 7, 0, 4, 6, 6, 6, 4, 8, 4, 9, 9, 3, 3, 3, 0, 9, 4, 1, 0, 9, 7, 8, 4, 9, 0, 6, 7, 2, 3, 4, 6, 9, 9, 3, 1, 0, 6, 3, 7, 7, 5, 3, 5, 4, 1, 1, 6, 2, 3, 3, 1, 1, 6, 1, 9, 7, 3, 3, 6, 0, 1, 3, 3, 4, 2, 3, 3, 5, 3, 0, 4, 4, 8, 0, 8, 7, 7, 3, 1, 7, 8, 4, 6, 0, 4, 3, 0, 3, 2, 3, 9, 8, 7, 8, 9, 5, 4, 2, 5, 2, 0, 1, 4, 0, 7, 1, 9, 8, 1, 1, 8, 6, 9, 1, 0, 7, 4, 9, 5, 8, 2, 0, 4, 4, 9, 5, 7, 3, 3, 5, 4, 8, 6, 2, 2, 3, 1, 3, 9, 2, 4, 0, 6, 0, 3, 0, 7, 9, 6, 9, 6, 3, 7, 6, 8, 8, 1, 8, 5, 3, 6, 1, 1, 2, 8, 9, 7, 6, 1, 3, 0, 6, 6, 2, 4, 1, 4, 9, 5, 1, 3, 2, 1, 4, 8, 3, 4, 9, 8, 2, 2, 7, 8, 2, 8, 0, 8, 4, 4, 3, 9, 4, 0, 8, 6, 3, 1, 1, 6, 9, 6, 9, 6, 1, 2, 9, 3, 9, 3, 9, 6, 2, 7, 1, 6, 9, 2, 3, 9, 7, 1, 0, 0, 6, 3, 6, 3, 3, 4, 0, 7, 1, 0, 0, 9, 4, 0, 3, 3, 1, 2, 6, 4, 3, 3, 4, 0, 1, 1, 5, 1, 0, 9, 7, 4, 8, 7, 6, 7, 0, 8, 3, 0, 2, 8, 8, 2, 8, 0, 4, 1, 8, 0, 5, 6, 6, 0, 3, 3, 4, 4, 0, 4, 7, 6, 3, 1, 3, 2, 8, 4, 3, 7, 2, 2, 5, 9, 7, 4, 0, 5, 4, 1, 2, 9, 4, 1, 1, 5, 4, 3, 4, 6, 1, 7, 8, 2, 7, 1, 3, 3, 3, 7, 0, 7, 9, 8, 6, 1, 0, 8, 6, 0, 0, 7, 0, 0, 0, 7, 9, 1, 4, 0, 2, 9, 4, 5, 2, 0, 2, 5, 9, 4, 5, 8, 1, 1, 7, 1, 6, 4, 7, 3, 1, 3, 1, 7, 1, 9, 1, 7, 4, 7, 6, 5, 5, 4, 3, 2, 6, 6, 1, 1, 9, 4, 6, 6, 1, 3, 0, 1, 0, 8, 6, 7, 2, 3, 5, 7, 5, 3, 1, 2, 4, 6, 1, 8, 3, 8, 0, 3, 7, 9, 7, 0, 8, 9, 1, 6, 7, 1, 9, 4, 7, 2, 2, 6, 3, 2, 8, 1, 6, 9, 8, 3, 6, 2, 4, 2, 4, 9, 7, 7, 4, 4, 6, 3, 1, 5, 3, 4, 9, 3, 3, 6, 1, 4, 3, 7, 3, 9, 2, 9, 1, 0, 2, 6, 8, 1, 9, 5, 7, 7, 3, 7, 0, 9, 1, 3, 5, 3, 6, 9, 9, 9, 2, 0, 7, 1, 9, 1, 8, 6, 1, 9, 5, 9, 8, 2, 1, 0, 6, 9, 1, 6, 3, 3, 2, 3, 2, 9, 3, 1, 9, 4, 7, 5, 7, 5, 4, 6, 0, 3, 7, 7, 5, 6, 0, 7, 4, 0, 7, 8, 9, 1, 6, 6, 9, 1, 6, 5, 1, 0, 4, 1, 0, 3, 9, 4, 5, 0, 3, 3, 2, 1, 8, 4, 7, 1, 1]\n",
            "[6, 5, 1, 8, 8, 3, 2, 5, 2, 9, 2, 7, 8, 0, 3, 8, 3, 8, 9, 2, 0, 1, 0, 0, 9, 6, 6, 2, 7, 4, 0, 3, 1, 2, 0, 7, 5, 4, 9, 1, 8, 8, 7, 5, 8, 8, 4, 5, 7, 7, 6, 4, 5, 0, 2, 5, 3, 3, 7, 3, 7, 5, 1, 7, 9, 7, 1, 4, 6, 2, 4, 2, 4, 6, 9, 2, 4, 5, 0, 6, 3, 6, 3, 0, 4, 5, 9, 1, 2, 1, 8, 7, 5, 6, 9, 4, 3, 7, 0, 2, 5, 7, 6, 8, 0, 8, 2, 6, 1, 1, 9, 1, 4, 2, 1, 0, 8, 7, 7, 6, 0, 0, 3, 7, 2, 8, 0, 2, 7, 3, 1, 6, 0, 4, 2, 1, 0, 5, 1, 2, 3, 0, 3, 8, 0, 3, 6, 5, 9, 0, 6, 8, 3, 5, 8, 3, 2, 1, 0, 0, 4, 7, 3, 3, 0, 8, 9, 7, 5, 1, 9, 4, 1, 9, 4, 0, 5, 7, 1, 1, 8, 6, 3, 4, 7, 3, 8, 1, 2, 3, 7, 0, 5, 8, 3, 6, 6, 7, 9, 4, 8, 0, 0, 2, 3, 8, 9, 3, 1, 5, 9, 1, 8, 7, 2, 4, 8, 3, 0, 7, 3, 9, 6, 8, 1, 6, 9, 9, 4, 3, 9, 1, 6, 6, 1, 1, 2, 1, 9, 8, 0, 3, 8, 7, 5, 5, 0, 7, 0, 0, 6, 1, 4, 1, 2, 8, 9, 2, 8, 9, 2, 4, 0, 0, 4, 1, 1, 9, 3, 8, 9, 1, 5, 7, 7, 8, 1, 5, 5, 9, 1, 1, 1, 7, 1, 6, 2, 5, 3, 4, 3, 8, 1, 4, 9, 5, 0, 4, 9, 2, 9, 3, 5, 6, 6, 7, 5, 0, 0, 2, 9, 8, 7, 5, 1, 4, 2, 9, 7, 4, 9, 9, 6, 7, 1, 2, 6, 5, 6, 4, 6, 2, 4, 9, 1, 4, 9, 2, 9, 0, 5, 8, 4, 6, 4, 4, 9, 3, 7, 4, 5, 2, 2, 7, 7, 7, 7, 9, 7, 9, 9, 0, 2, 9, 5, 1, 8, 8, 2, 4, 3, 4, 7, 7, 7, 8, 9, 2, 6, 2, 1, 6, 8, 4, 6, 0, 1, 0, 7, 8, 0, 5, 9, 3, 6, 1, 0, 7, 6, 2, 6, 7, 1, 1, 2, 5, 7, 7, 3, 0, 3, 2, 0, 2, 1, 5, 1, 2, 0, 7, 0, 3, 7, 5, 1, 9, 1, 9, 9, 0, 6, 9, 9, 7, 6, 3, 8, 3, 9, 6, 8, 6, 7, 8, 6, 2, 1, 4, 3, 7, 8, 3, 2, 8, 1, 2, 8, 7, 5, 1, 2, 5, 3, 9, 0, 8, 8, 0, 6, 2, 9, 5, 6, 1, 5, 0, 0, 8, 4, 1, 8, 8, 4, 6, 3, 1, 7, 4, 2, 3, 1, 8, 9, 3, 9, 0, 2, 7, 9, 3, 8, 4, 4, 7, 5, 0, 0, 7, 0, 1, 0, 7, 0, 8, 0, 7, 0, 8, 9, 2, 8, 3, 2, 0, 4, 0, 1, 3, 2, 1, 5, 8, 9, 6, 6, 3, 8, 3, 0, 6, 5, 7, 4, 9, 7, 8, 9, 0, 8, 9, 9, 7, 6, 9, 3, 7, 7, 4, 0, 4, 0, 7, 6, 8, 0, 4, 8, 5, 0, 1, 5, 3, 4, 0, 7, 1, 3, 8, 2, 2, 3, 7, 2, 6, 4, 9, 7, 3, 3, 0, 6, 6, 9, 3, 6, 1, 1, 2, 5, 0, 8, 5, 4, 3, 4, 0, 3, 5, 6, 3, 5, 5, 6, 3, 8, 3, 3, 4, 9, 8, 5, 0, 1, 2, 2, 0, 8, 2, 4, 8, 8, 9, 3, 1, 0, 1, 3, 0, 7, 8, 0, 7, 5, 8, 8, 6, 2, 9, 8, 1, 1, 1, 9, 1, 8, 8, 2, 3, 3, 1, 9, 6, 9, 5, 0, 0, 6, 7, 7, 1, 9, 9, 6, 3, 7, 0, 3, 2, 4, 6, 3, 1, 0, 8, 2, 0, 8, 6, 1, 5, 1, 5, 2, 6, 5, 5, 8, 5, 9, 9, 1, 8, 4, 5, 5, 0, 3, 5, 8, 0, 3, 9, 9, 8, 5, 3, 5, 2, 3, 0, 9, 5, 4, 5, 8, 0, 3, 0, 4, 7, 9, 9, 3, 5, 3, 3, 7, 1, 0, 3, 0, 0, 3, 1, 2, 2, 6, 7, 3, 8, 4, 4, 8, 3, 3, 6, 1, 7, 7, 9, 4, 1, 6, 4, 9, 7, 8, 7, 9, 2, 6, 8, 9, 4, 7, 0, 1, 1, 3, 6, 5, 8, 5, 9, 2, 7, 7, 8, 6, 6, 4, 7, 1, 8, 6, 2, 4, 8, 2, 0, 0, 1, 5, 8, 0, 0, 2, 9, 1, 2, 7, 4, 0, 7, 1, 9, 8, 3, 0, 9, 2, 1, 9, 5, 7, 1, 5, 1, 6, 3, 7, 5, 4, 4, 4, 0, 3, 4, 9, 8, 1, 7, 6, 4, 8, 7, 6, 7, 7, 0, 3, 7, 2, 0, 4, 8, 7, 8, 0, 6, 4, 2, 9, 2, 9, 7, 8, 8, 6, 3, 7, 5, 8, 4, 0, 8, 5, 0, 2, 2, 7, 7, 9, 7, 7, 8, 7, 7, 8, 3, 4, 2, 6, 6, 0, 9, 3, 5, 5, 5, 6, 8, 0, 3, 7, 6, 0, 8, 7, 0, 9, 9, 7, 4, 7, 8, 2, 1, 8, 4, 7, 4, 3, 1, 9, 7, 3, 9, 5, 4, 4, 7, 9, 0, 9, 5, 3, 8, 6, 9, 4, 8, 5, 0, 8, 8, 3, 1, 8, 1, 7, 0, 4, 9, 4, 4, 4, 4, 7, 9, 2, 5, 8, 0, 6, 6, 3, 1, 9, 1, 0, 2, 3, 5, 1, 6, 0, 1, 3, 1, 2, 7, 5, 9, 6, 5, 0, 3, 5, 6, 5, 6, 4, 4, 8, 8, 8, 8, 8, 4, 4, 4, 1, 6, 7, 1, 1, 9, 9, 0, 3, 7, 6, 3, 2, 8, 7, 8, 0, 1, 1, 6, 4, 4, 9, 2, 6, 7, 9, 8, 5, 9, 3, 1, 7, 2, 4, 1, 8, 5, 2, 1, 2, 3, 4, 1, 8, 3, 5, 5, 8, 0, 6, 3, 3, 0, 4, 5, 6, 2, 8, 3, 6, 5, 5, 5, 1, 4, 9, 1, 5, 0, 3, 1, 1, 0, 8, 0, 8, 4, 2, 7, 9, 3, 2, 5, 6, 6, 9, 8, 5, 7, 5, 4, 4, 8, 3, 0, 9, 5, 2, 9, 7, 6, 9, 7, 9, 0, 5, 2, 3, 1, 8, 8, 0, 1, 9, 0, 5, 5, 7, 8, 1, 4, 2, 3, 6, 0, 3, 4, 5, 7, 4, 1, 8, 1, 1, 4, 4, 1, 4, 0, 2, 9, 3, 7, 6, 3, 9, 6, 4, 5, 2, 7, 5, 8, 7, 8, 2, 7, 1, 2, 5, 8, 8, 7, 2, 6, 1, 3, 2, 1, 8, 7, 4, 4, 3, 1, 8, 0, 4, 5, 1, 2, 0, 7, 4, 9, 1, 9, 2, 1, 8, 5, 4, 2, 3, 1, 5, 8, 6, 9, 5, 6, 4, 5, 1, 2, 1, 7, 0, 7, 1, 2, 6, 5, 9, 8, 1, 6, 0, 5, 3, 6, 7, 7, 2, 5, 2, 8, 9, 5, 8, 5, 7, 9, 5, 3, 5, 2, 7, 6, 1, 1, 5, 7, 9, 7, 3, 9, 2, 9, 7, 7, 6, 3, 9, 4, 6, 2, 8, 0, 6, 3, 4, 2, 0, 6, 2, 4, 9, 7, 6, 5, 2, 8, 3, 0, 7, 7, 7, 5, 5, 1, 8, 7, 9, 7, 9, 4, 0, 2, 6, 7, 0, 6, 8, 5, 6, 7, 5, 7, 7, 0, 6, 3, 2, 8, 6, 6, 1, 5, 8, 5, 6, 7, 5, 7, 3, 3, 4, 8, 0, 0, 8, 9, 2, 3, 2, 3, 8, 9, 4, 4, 7, 8, 7, 0, 8, 1, 2, 7, 9, 7, 4, 4, 4, 7, 6, 1, 1, 8, 7, 6, 3, 4, 4, 8, 3, 0, 2, 4, 1, 8, 1, 7, 1, 3, 3, 8, 7, 8, 2, 1, 4, 2, 5, 2, 1, 3, 3, 4, 2, 8, 2, 5, 2, 3, 1, 1, 5, 2, 1, 8, 2, 2, 5, 7, 5, 7, 9, 0, 7, 4, 6, 6, 8, 3, 1, 7, 0, 1, 5, 9, 5, 7, 7, 8, 1, 4, 3, 3, 3, 3, 6, 7, 6, 7, 8, 3, 6, 2, 5, 8, 5, 5, 8, 6, 0, 9, 1, 1, 6, 0, 1, 5, 5, 9, 8, 0, 8, 8, 4, 3, 3, 2, 0, 4, 7, 0, 7, 1, 7, 7, 1, 2, 7, 8, 2, 6, 3, 1, 0, 4, 3, 0, 4, 3, 3, 1, 3, 0, 6, 3, 5, 8, 7, 3, 1, 1, 6, 7, 3, 2, 4, 5, 5, 0, 2, 2, 8, 8, 0, 2, 7, 8, 0, 6, 1, 2, 4, 9, 7, 4, 1, 3, 0, 8, 0, 0, 3, 0, 5, 0, 9, 2, 4, 7, 7, 4, 2, 7, 2, 2, 2, 9, 7, 4, 9, 0, 3, 8, 0, 5, 4, 2, 8, 8, 2, 8, 9, 7, 3, 6, 3, 4, 5, 0, 8, 0, 6, 3, 8, 2, 9, 6, 0, 5, 9, 6, 8, 9, 7, 4, 9, 8, 5, 9, 1, 7, 9, 6, 4, 7, 9, 5, 3, 5, 5, 0, 1, 2, 4, 4, 8, 1, 6, 7, 1, 4, 8, 1, 9, 4, 1, 4, 2, 9, 7, 0, 3, 3, 7, 6, 3, 8, 0, 2, 4, 6, 9, 1, 7, 8, 8, 5, 8, 2, 3, 2, 6, 0, 7, 4, 2, 0, 5, 7, 5, 0, 9, 5, 0, 0, 1, 5, 3, 9, 6, 4, 9, 9, 0, 5, 4, 0, 2, 7, 2, 4, 1, 8, 4, 5, 9, 3, 2, 0, 5, 8, 3, 7, 6, 9, 0, 0, 7, 0, 4, 6, 2, 2, 8, 5, 3, 4, 6, 9, 4, 9, 4, 5, 1, 6, 8, 0, 4, 1, 1, 7, 8, 0, 3, 1, 7, 7, 4, 7, 3, 4, 1, 9, 2, 4, 2, 6, 3, 8, 6, 9, 4, 6, 2, 1, 1, 6, 4, 5, 4, 3, 6, 0, 6, 6, 9, 6, 2, 6, 5, 1, 5, 3, 0, 6, 1, 8, 2, 2, 5, 7, 4, 6, 1, 7, 3, 2, 2, 3, 1, 2, 0, 6, 8, 7, 6, 4, 0, 3, 2, 3, 6, 1, 6, 8, 3, 4, 6, 1, 1, 1, 5, 4, 5, 6, 8, 7, 7, 2, 8, 9, 5, 9, 2, 6, 4, 3, 4, 9, 3, 7, 3, 1, 1, 2, 7, 6, 1, 0, 5, 1, 6, 0, 7, 1, 7, 0, 4, 4, 2, 2, 4, 4, 5, 5, 3, 6, 1, 8, 9, 8, 1, 5, 3, 5, 5, 6, 6, 6, 2, 9, 2, 1, 1, 4, 6, 0, 3, 1, 9, 4, 9, 9, 4, 5, 5, 5, 3, 2, 8, 4, 5, 9, 4, 8, 2, 6, 6, 6, 7, 2, 1, 1, 7, 6, 7, 3, 4, 1, 0, 1, 6, 3, 2, 9, 8, 1, 4, 7, 0, 3, 2, 7, 9, 3, 7, 1, 0, 9, 6, 2, 1, 1, 1, 9, 5, 1, 5, 4, 9, 1, 5, 9, 7, 3, 3, 0, 9, 8, 0, 1, 4, 8, 4, 1, 5, 8, 9, 6, 6, 5, 0, 2, 8, 2, 3, 3, 1, 8, 6, 4, 1, 8, 3, 1, 1, 4, 1, 9, 0, 5, 2, 6, 2, 2, 2, 9, 6, 1, 9, 3, 3, 4, 9, 2, 0, 6, 7, 6, 9, 5, 5, 7, 1, 7, 5, 7, 1, 5, 0, 3, 6, 1, 2, 8, 1, 3, 7, 8, 1, 0, 1, 8, 6, 1, 8, 0, 2, 4, 6, 2, 9, 8, 2, 3, 7, 3, 6, 9, 0, 4, 5, 7, 8, 3, 9, 8, 8, 1, 6, 1, 8, 8, 8, 6, 3, 1, 5, 1, 4, 8, 1, 2, 1, 9, 5, 8, 2, 6, 2, 1, 7, 8, 3, 2, 6, 6, 5, 5, 7, 1, 9, 9, 6, 7, 3, 8, 1, 9, 6, 7, 3, 1, 0, 8, 7, 1, 5, 0, 9, 3, 5, 7, 2, 3, 9, 8, 6, 2, 9, 8, 9, 2, 7, 8, 6, 6, 1, 0, 9, 8, 3, 4, 0, 6, 5, 6, 2, 7, 1, 5, 2, 8, 6, 9, 1, 6, 9, 5, 6, 3, 4, 7, 4, 6, 2, 9, 5, 0, 1, 4, 6, 0, 8, 3, 8, 7, 1, 7, 2, 6, 2, 6, 8, 2, 7, 0, 3, 7, 7, 0, 4, 9, 9, 3, 3, 6, 5, 6, 4, 2, 0, 0, 2, 8, 8, 7, 9, 1, 9, 8, 3, 1, 8, 6, 6, 4, 7, 0, 2, 8, 1, 1, 2, 3, 9, 6, 9, 6, 4, 5, 4, 3, 1, 2, 7, 3, 1, 8, 5, 2, 2, 5, 6, 1, 8, 3, 9, 1, 8, 0, 9, 1, 6, 2, 1, 9, 4, 7, 3, 6, 8, 9, 3, 0, 7, 2, 7, 5, 8, 5, 4, 7, 0, 9, 2, 8, 9, 0, 4, 0, 7, 4, 2, 2, 7, 6, 7, 9, 9, 6, 3, 7, 8, 3, 5, 7, 9, 6, 8, 7, 3, 1, 9, 2, 8, 0, 2, 8, 0, 1, 5, 8, 6, 7, 0, 6, 4, 9, 3, 4, 1, 8, 8, 2, 1, 1, 7, 4, 8, 2, 0, 1, 1, 2, 1, 4, 3, 3, 9, 1, 9, 2, 4, 5, 2, 9, 7, 8, 8, 3, 2, 9, 4, 2, 3, 1, 3, 0, 8, 3, 7, 0, 6, 5, 8, 3, 0, 3, 9, 6, 3, 0, 6, 6, 7, 1, 9, 1, 8, 8, 5, 4, 0, 6, 8, 5, 4, 1, 1, 2, 6, 9, 9, 8, 2, 6, 4, 4, 0, 7, 6, 9, 2, 4, 9, 1, 9, 5, 1, 7, 4, 3, 0, 3, 2, 1, 9, 5, 2, 9, 8, 6, 8, 1, 2, 9, 9, 6, 8, 4, 5, 7, 9, 7, 6, 1, 0, 3, 7, 1, 6, 3, 1, 1, 7, 2, 1, 9, 8, 8, 0, 2, 6, 4, 0, 0, 3, 9, 2, 6, 5, 6, 4, 1, 1, 3, 2, 8, 5, 2, 1, 3, 9, 8, 3, 5, 7, 9, 8, 3, 1, 9, 4, 9, 2, 8, 1, 6, 7, 4, 3, 6, 2, 5, 1, 0, 3, 6, 3, 3, 0, 8, 3, 5, 3, 7, 9, 1, 7, 5, 6, 4, 3, 2, 5, 9, 1, 9, 1, 0, 4, 2, 6, 7, 9, 7, 8, 1, 7, 3, 4, 0, 1, 4, 0, 0, 1, 9, 0, 7, 4, 5, 6, 3, 5, 1, 6, 6, 6, 5, 7, 6, 1, 1, 9, 6, 1, 0, 9, 1, 1, 8, 9, 6, 7, 7, 0, 7, 1, 0, 7, 6, 8, 0, 8, 7, 0, 9, 8, 1, 3, 1, 9, 0, 1, 4, 6, 9, 4, 0, 9, 8, 4, 9, 6, 5, 1, 1, 7, 4, 1, 6, 3, 6, 0, 8, 0, 5, 2, 4, 8, 3, 9, 6, 6, 9, 6, 4, 6, 6, 2, 7, 5, 0, 6, 6, 7, 2, 1, 9, 9, 2, 2, 0, 6, 0, 0, 3, 5, 4, 1, 4, 0, 0, 0, 2, 6, 9, 3, 8, 3, 9, 3, 7, 1, 3, 3, 5, 5, 5, 1, 4, 1, 9, 1, 8, 0, 0, 0, 3, 6, 2, 3, 9, 1, 2, 5, 4, 4, 7, 0, 7, 5, 7, 3, 0, 3, 5, 4, 6, 1, 9, 1, 2, 1, 9, 5, 3, 4, 7, 7, 3, 9, 9, 1, 0, 8, 1, 8, 4, 3, 4, 7, 1, 0, 3, 5, 5, 4, 7, 3, 8, 2, 9, 7, 3, 6, 5, 1, 3, 0, 2, 2, 2, 5, 3, 7, 6, 6, 5, 3, 8, 7, 3, 8, 3, 6, 3, 6, 4, 7, 1, 3, 7, 4, 3, 3, 1, 1, 4, 0, 1, 4, 1, 0, 8, 9, 6, 2, 0, 3, 2, 5, 3, 2, 8, 1, 7, 7, 2, 1, 2, 1, 3, 4, 1, 8, 4, 9, 1, 4, 8, 4, 3, 3, 7, 3, 3, 2, 7, 7, 3, 1, 2, 7, 8, 8, 2, 2, 3, 2, 9, 7, 8, 6, 3, 9, 1, 0, 6, 6, 8, 4, 7, 3, 3, 1, 1, 2, 2, 9, 9, 8, 1, 8, 5, 4, 3, 0, 8, 6, 5, 6, 7, 9, 6, 9, 8, 4, 4, 2, 0, 8, 4, 9, 6, 1, 3, 4, 8, 3, 5, 1, 2, 6, 3, 6, 1, 2, 9, 0, 6, 8, 6, 2, 9, 4, 0, 1, 8, 4, 2, 8, 5, 2, 3, 3, 2, 5, 3, 1, 2, 0, 9, 3, 1, 5, 2, 7, 9, 2, 4, 0, 3, 3, 2, 6, 8, 2, 3, 1, 8, 0, 7, 5, 9, 2, 7, 2, 3, 5, 1, 2, 1, 8, 4, 8, 1, 2, 3, 2, 8, 5, 8, 1, 9, 1, 7, 8, 6, 1, 2, 1, 7, 0, 9, 9, 9, 1, 3, 6, 4, 7, 3, 3, 8, 1, 7, 2, 0, 9, 4, 5, 0, 9, 5, 3, 4, 0, 6, 9, 4, 1, 0, 8, 4, 7, 0, 0, 3, 9, 1, 1, 0, 9, 9, 1, 1, 5, 3, 6, 3, 1, 6, 1, 6, 6, 5, 9, 9, 1, 0, 4, 8, 8, 8, 4, 2, 0, 7, 4, 7, 5, 3, 6, 1, 8, 0, 6, 8, 6, 6, 9, 3, 1, 2, 4, 9, 7, 4, 1, 3, 5, 1, 2, 8, 1, 8, 8, 8, 0, 1, 5, 1, 4, 7, 2, 3, 2, 2, 2, 4, 2, 8, 6, 3, 7, 2, 9, 7, 1, 1, 8, 8, 4, 6, 7, 4, 3, 8, 7, 6, 9, 1, 5, 3, 9, 1, 4, 0, 9, 5, 8, 8, 8, 0, 5, 8, 3, 5, 0, 7, 8, 5, 0, 0, 4, 6, 1, 2, 4, 3, 1, 0, 5, 1, 9, 9, 5, 9, 5, 3, 3, 1, 3, 7, 0, 0, 4, 8, 0, 7, 0, 3, 0, 0, 5, 9, 3, 6, 8, 2, 3, 9, 3, 5, 5, 0, 5, 3, 4, 0, 2, 8, 4, 4, 2, 6, 1, 2, 4, 0, 4, 3, 7, 9, 2, 9, 2, 5, 2, 3, 0, 6, 6, 2, 7, 9, 2, 1, 1, 6, 6, 7, 5, 9, 5, 0, 4, 0, 3, 6, 4, 9, 7, 8, 3, 4, 2, 8, 1, 7, 8, 1, 0, 6, 6, 7, 8, 1, 7, 5, 6, 9, 7, 1, 1, 4, 5, 6, 3, 1, 4, 6, 1, 1, 8, 9, 6, 4, 7, 8, 3, 4, 5, 0, 1, 8, 1, 2, 2, 0, 2, 1, 7, 2, 1, 7, 8, 9, 6, 8, 1, 9, 6, 3, 6, 0, 7, 0, 3, 1, 3, 9, 9, 9, 4, 4, 8, 9, 1, 3, 2, 4, 5, 7, 4, 8, 4, 3, 0, 2, 6, 1, 7, 5, 7, 6, 3, 1, 9, 9, 3, 0, 0, 5, 1, 9, 9, 8, 5, 8, 9, 2, 6, 2, 4, 2, 8, 7, 0, 7, 3, 3, 0, 6, 3, 7, 5, 2, 1, 7, 3, 2, 3, 2, 9, 5, 3, 1, 6, 6, 7, 5, 3, 2, 2, 9, 5, 2, 5, 7, 1, 1, 5, 8, 1, 5, 3, 8, 7, 9, 8, 8, 4, 5, 1, 6, 9, 6, 7, 0, 5, 5, 9, 0, 3, 0, 5, 2, 7, 8, 2, 7, 2, 4, 5, 6, 8, 4, 1, 5, 7, 1, 0, 0, 1, 3, 0, 5, 9, 4, 0, 1, 9, 6, 8, 1, 1, 7, 9, 7, 2, 7, 9, 7, 2, 7, 8, 0, 3, 4, 7, 6, 7, 3, 0, 2, 8, 5, 7, 1, 6, 4, 6, 3, 3, 7, 3, 8, 6, 9, 0, 7, 0, 2, 8, 7, 3, 3, 1, 1, 2, 4, 7, 7, 6, 4, 0, 6, 6, 7, 0, 6, 7, 0, 6, 7, 4, 0, 1, 7, 1, 4, 9, 2, 8, 5, 0, 7, 7, 5, 0, 9, 0, 1, 8, 4, 0, 0, 3, 6, 6, 9, 4, 2, 5, 1, 6, 3, 4, 1, 8, 6, 6, 3, 3, 6, 7, 0, 8, 7, 0, 3, 7, 8, 7, 4, 6, 3, 8, 6, 5, 1, 2, 7, 2, 4, 9, 3, 3, 0, 4, 9, 0, 1, 7, 3, 9, 9, 2, 8, 9, 0, 4, 6, 2, 5, 1, 0, 1, 1, 3, 2, 6, 2, 7, 6, 6, 5, 1, 1, 4, 5, 2, 9, 0, 6, 0, 5, 2, 4, 4, 2, 9, 2, 1, 6, 3, 2, 4, 7, 2, 8, 3, 8, 7, 8, 1, 1, 6, 5, 9, 8, 0, 9, 1, 2, 6, 2, 7, 4, 9, 6, 4, 2, 3, 1, 2, 4, 0, 6, 3, 0, 9, 1, 8, 3, 7, 4, 6, 1, 8, 4, 7, 2, 5, 2, 8, 4, 2, 1, 1, 9, 3, 8, 3, 1, 8, 1, 2, 6, 3, 6, 7, 7, 3, 1, 4, 1, 2, 0, 6, 7, 5, 6, 6, 7, 6, 8, 5, 9, 7, 3, 3, 5, 3, 0, 9, 2, 5, 3, 1, 4, 3, 1, 2, 2, 5, 3, 1, 9, 5, 6, 4, 4, 8, 3, 1, 1, 7, 3, 8, 6, 1, 5, 7, 1, 1, 0, 7, 1, 1, 9, 8, 5, 9, 9, 7, 7, 3, 7, 8, 7, 3, 9, 7, 8, 9, 8, 7, 5, 5, 3, 3, 6, 0, 4, 5, 3, 8, 6, 0, 7, 1, 5, 6, 4, 6, 6, 0, 9, 4, 4, 3, 0, 2, 5, 4, 3, 4, 9, 6, 5, 7, 7, 5, 6, 6, 7, 6, 1, 7, 2, 0, 5, 9, 0, 7, 3, 0, 6, 2, 4, 0, 7, 5, 2, 0, 9, 9, 2, 1, 8, 9, 8, 2, 4, 4, 0, 9, 4, 2, 1, 4, 6, 2, 9, 7, 8, 6, 9, 4, 8, 2, 8, 5, 4, 6, 0, 6, 1, 5, 1, 6, 6, 2, 1, 8, 8, 5, 5, 6, 7, 6, 8, 0, 9, 7, 9, 7, 5, 2, 9, 9, 0, 4, 3, 6, 5, 0, 4, 2, 2, 5, 4, 1, 1, 7, 3, 1, 2, 2, 0, 8, 6, 5, 1, 7, 4, 2, 9, 3, 0, 2, 8, 5, 8, 5, 5, 2, 4, 1, 7, 5, 7, 5, 6, 1, 3, 2, 1, 1, 2, 4, 8, 8, 9, 6, 4, 9, 9, 7, 9, 6, 8, 3, 3, 1, 2, 3, 6, 2, 2, 8, 9, 6, 3, 2, 7, 5, 3, 4, 2, 4, 7, 4, 0, 4, 8, 6, 6, 7, 4, 0, 1, 6, 0, 6, 6, 3, 6, 2, 7, 9, 9, 0, 1, 3, 7, 8, 6, 6, 9, 9, 6, 9, 9, 3, 6, 6, 8, 2, 0, 9, 7, 1, 8, 2, 2, 4, 1, 5, 9, 3, 2, 3, 4, 0, 0, 9, 2, 7, 3, 5, 3, 9, 2, 4, 1, 2, 5, 5, 5, 7, 2, 7, 2, 8, 7, 4, 9, 8, 9, 0, 0, 3, 1, 1, 3, 9, 9, 5, 6, 9, 7, 5, 9, 6, 8, 0, 1, 5, 5, 2, 2, 8, 3, 3, 8, 4, 6, 8, 3, 4, 7, 4, 6, 5, 8, 7, 1, 4, 7, 9, 9, 5, 6, 3, 1, 0, 7, 1, 4, 3, 1, 8, 4, 4, 2, 2, 3, 1, 8, 8, 3, 3, 6, 7, 6, 9, 8, 7, 6, 1, 5, 8, 9, 9, 2, 0, 7, 6, 1, 5, 7, 4, 5, 6, 2, 2, 0, 1, 3, 4, 8, 0, 1, 6, 6, 1, 8, 1, 1, 5, 9, 5, 7, 1, 6, 7, 2, 3, 6, 0, 1, 5, 7, 4, 6, 5, 1, 8, 8, 2, 4, 4, 6, 8, 3, 0, 5, 8, 9, 4, 1, 2, 7, 0, 1, 1, 3, 0, 0, 9, 9, 1, 4, 0, 6, 5, 8, 3, 7, 5, 7, 6, 8, 1, 6, 2, 0, 8, 6, 1, 3, 7, 9, 2, 7, 0, 9, 1, 6, 2, 7, 7, 0, 5, 3, 9, 8, 9, 1, 5, 5, 4, 5, 2, 9, 4, 2, 6, 9, 0, 8, 6, 5, 6, 1, 6, 9, 0, 0, 8, 8, 8, 4, 8, 5, 3, 7, 7, 0, 3, 8, 5, 0, 3, 8, 7, 9, 9, 4, 7, 7, 8, 5, 9, 3, 6, 4, 8, 2, 2, 5, 1, 1, 2, 7, 4, 2, 3, 7, 3, 7, 5, 6, 6, 9, 8, 9, 2, 4, 4, 7, 9, 1, 9, 6, 4, 1, 3, 8, 3, 1, 4, 0, 6, 8, 1, 4, 6, 7, 2, 1, 2, 2, 9, 7, 3, 0, 5, 5, 5, 7, 5, 0, 4, 6, 3, 6, 8, 4, 6, 0, 1, 4, 2, 3, 7, 6, 3, 8, 0, 9, 3, 3, 5, 1, 2, 4, 0, 2, 1, 3, 9, 9, 2, 7, 5, 8, 6, 2, 6, 2, 7, 2, 8, 3, 1, 9, 3, 6, 3, 4, 6, 4, 9, 2, 6, 8, 9, 2, 1, 6, 6, 1, 3, 8, 8, 9, 9, 5, 5, 7, 8, 2, 8, 4, 1, 1, 4, 7, 0, 3, 4, 0, 0, 7, 7, 7, 0, 5, 6, 1, 2, 2, 1, 4, 2, 6, 8, 1, 4, 0, 1, 8, 3, 7, 6, 5, 6, 5, 7, 3, 7, 5, 9, 7, 9, 1, 3, 2, 5, 0, 1, 1, 2, 1, 2, 7, 5, 2, 7, 1, 1, 1, 4, 8, 0, 4, 3, 3, 8, 1, 6, 0, 8, 0, 2, 1, 8, 8, 3, 6, 8, 3, 8, 9, 6, 9, 3, 9, 6, 6, 2, 3, 6, 1, 4, 6, 0, 0, 5, 6, 9, 9, 3, 1, 1, 1, 3, 8, 4, 0, 3, 2, 6, 9, 9, 9, 6, 4, 2, 0, 2, 7, 9, 1, 2, 9, 4, 5, 0, 1, 8, 0, 5, 0, 5, 9, 3, 0, 5, 7, 5, 2, 3, 7, 2, 4, 2, 0, 7, 4, 9, 8, 3, 7, 1, 7, 3, 4, 0, 8, 1, 3, 1, 0, 6, 9, 5, 4, 2, 6, 1, 7, 6, 4, 6, 1, 0, 5, 5, 6, 7, 5, 8, 7, 0, 7, 4, 7, 1, 0, 7, 7, 6, 1, 2, 8, 4, 4, 4, 5, 0, 4, 2, 5, 7, 9, 7, 4, 8, 5, 7, 2, 3, 2, 1, 7, 9, 2, 9, 1, 1, 0, 6, 0, 8, 6, 0, 9, 7, 6, 4, 0, 2, 9, 9, 9, 6, 6, 4, 0, 3, 1, 0, 9, 3, 2, 9, 1, 3, 4, 3, 5, 6, 5, 7, 1, 9, 1, 0, 2, 5, 0, 3, 3, 7, 2, 6, 5, 5, 4, 1, 2, 1, 2, 2, 5, 9, 3, 8, 5, 1, 0, 2, 5, 4, 1, 1, 1, 7, 0, 0, 2, 6, 4, 0, 0, 5, 4, 5, 2, 5, 9, 6, 5, 6, 2, 7, 1, 5, 3, 2, 2, 0, 2, 4, 6, 3, 3, 1, 1, 1, 6, 8, 6, 8, 5, 9, 7, 6, 9, 1, 9, 3, 5, 5, 1, 5, 1, 9, 0, 4, 4, 1, 8, 6, 8, 0, 2, 9, 2, 0, 1, 2, 3, 2, 9, 4, 5, 5, 6, 3, 0, 7, 5, 7, 4, 8, 2, 8, 1, 5, 7, 1, 3, 1, 8, 4, 9, 3, 8, 3, 5, 3, 5, 5, 8, 4, 5, 8, 2, 9, 5, 7, 4, 0, 7, 5, 5, 7, 6, 4, 7, 8, 4, 9, 8, 1, 2, 7, 1, 6, 9, 7, 0, 3, 6, 2, 6, 4, 8, 8, 3, 7, 9, 2, 8, 1, 6, 4, 8, 1, 5, 6, 7, 7, 0, 0, 3, 2, 7, 6, 3, 1, 7, 0, 0, 9, 1, 5, 4, 5, 2, 8, 9, 8, 0, 6, 7, 5, 2, 4, 7, 6, 1, 9, 8, 0, 0, 6, 2, 5, 2, 7, 1, 5, 8, 7, 7, 8, 5, 6, 6, 2, 7, 0, 3, 0, 8, 4, 1, 1, 9, 4, 6, 3, 7, 2, 7, 1, 5, 6, 3, 1, 3, 7, 1, 9, 7, 9, 3, 7, 9, 6, 1, 3, 4, 4, 0, 6, 1, 0, 5, 5, 6, 0, 9, 8, 5, 1, 8, 0, 3, 1, 7, 4, 0, 4, 7, 8, 9, 9, 6, 7, 3, 6, 3, 9, 9, 4, 2, 3, 4, 4, 0, 3, 2, 1, 6, 1, 0, 0, 3, 1, 7, 9, 5, 5, 1, 8, 2, 7, 1, 3, 3, 8, 1, 5, 8, 7, 6, 3, 1, 1, 1, 6, 4, 1, 3, 1, 3, 2, 3, 4, 7, 4, 9, 7, 3, 0, 7, 5, 5, 8, 7, 9, 8, 9, 7, 4, 4, 8, 7, 2, 7, 1, 2, 5, 2, 0, 5, 0, 9, 7, 3, 4, 1, 0, 7, 5, 9, 0, 2, 7, 8, 3, 8, 5, 5, 0, 3, 6, 3, 7, 2, 3, 7, 6, 1, 4, 5, 3, 4, 9, 8, 5, 2, 0, 6, 6, 7, 8, 6, 2, 4, 6, 6, 7, 2, 7, 4, 5, 9, 1, 7, 1, 0, 1, 8, 7, 5, 4, 5, 2, 7, 4, 2, 3, 8, 4, 1, 6, 0, 7, 1, 6, 8, 8, 0, 8, 0, 3, 5, 9, 9, 6, 1, 0, 7, 2, 2, 5, 0, 2, 2, 5, 6, 8, 3, 8, 1, 8, 4, 6, 9, 5, 7, 6, 3, 1, 1, 8, 7, 9, 0, 2, 1, 4, 5, 9, 9, 2, 7, 6, 8, 0, 9, 6, 3, 4, 9, 5, 8, 5, 5, 4, 2, 3, 7, 2, 6, 0, 8, 0, 1, 0, 6, 8, 0, 3, 1, 3, 3, 6, 3, 3, 5, 7, 5, 2, 0, 8, 6, 2, 0, 1, 2, 7, 1, 7, 3, 2, 4, 0, 3, 7, 3, 9, 9, 1, 8, 2, 3, 3, 5, 6, 0, 4, 7, 7, 5, 7, 1, 3, 4, 1, 1, 1, 1, 5, 2, 9, 8, 8, 8, 4, 9, 3, 5, 9, 4, 6, 4, 2, 0, 5, 0, 0, 5, 6, 9, 5, 5, 6, 4, 7, 5, 5, 0, 2, 8, 5, 7, 5, 5, 6, 3, 3, 8, 1, 5, 2, 0, 8, 1, 7, 7, 8, 8, 6, 1, 1, 8, 6, 1, 6, 0, 2, 8, 2, 6, 2, 2, 4, 7, 1, 8, 3, 3, 2, 4, 2, 3, 6, 9, 7, 1, 9, 3, 3, 4, 4, 9, 5, 2, 7, 2, 4, 0, 0, 7, 5, 1, 0, 6, 4, 6, 8, 7, 1, 8, 5, 1, 1, 3, 0, 0, 3, 0, 3, 7, 6, 0, 8, 6, 3, 7, 6, 1, 9, 0, 8, 6, 2, 9, 9, 3, 1, 4, 7, 0, 5, 0, 3, 1, 4, 7, 4, 5, 2, 9, 2, 8, 7, 2, 7, 7, 9, 0, 4, 7, 1, 8, 6, 6, 1, 2, 8, 2, 7, 4, 9, 2, 0, 1, 8, 4, 8, 7, 2, 0, 6, 6, 6, 3, 1, 2, 8, 4, 8, 2, 6, 9, 8, 4, 6, 3, 6, 2, 6, 6, 2, 9, 9, 9, 4, 2, 6, 2, 5, 9, 8, 3, 8, 9, 8, 9, 2, 5, 1, 6, 4, 7, 4, 7, 4, 7, 9, 9, 9, 8, 5, 7, 6, 7, 2, 4, 2, 3, 5, 9, 4, 5, 0, 6, 4, 3, 6, 5, 7, 7, 1, 3, 7, 4, 2, 5, 6, 1, 6, 2, 5, 3, 8, 5, 3, 9, 6, 5, 5, 8, 9, 8, 3, 9, 5, 1, 1, 2, 4, 0, 8, 9, 5, 7, 4, 3, 0, 3, 5, 9, 4, 1, 0, 3, 0, 0, 1, 7, 1, 0, 8, 9, 3, 6, 6, 9, 1, 7, 0, 5, 0, 8, 4, 7, 7, 4, 0, 4, 0, 1, 1, 3, 9, 8, 6, 5, 7, 7, 1, 1, 9, 2, 4, 4, 8, 4, 4, 5, 3, 1, 7, 5, 1, 0, 7, 6, 4, 6, 6, 6, 9, 3, 2, 4, 8, 3, 3, 3, 0, 9, 4, 1, 0, 9, 7, 8, 5, 9, 0, 6, 7, 2, 3, 4, 6, 9, 8, 3, 1, 0, 6, 3, 9, 7, 3, 3, 5, 5, 2, 1, 2, 2, 3, 3, 1, 1, 5, 1, 9, 7, 3, 3, 6, 0, 1, 2, 8, 4, 2, 3, 3, 5, 3, 0, 4, 4, 8, 3, 8, 9, 7, 3, 1, 7, 1, 2, 6, 7, 4, 3, 0, 3, 2, 5, 4, 8, 7, 8, 9, 5, 4, 2, 5, 2, 0, 1, 4, 0, 7, 8, 9, 8, 1, 7, 8, 2, 9, 1, 0, 7, 4, 9, 5, 8, 8, 6, 4, 4, 9, 5, 7, 3, 3, 5, 4, 8, 6, 8, 7, 5, 1, 3, 9, 2, 4, 0, 6, 0, 3, 0, 7, 9, 6, 9, 6, 3, 7, 6, 8, 8, 1, 7, 5, 3, 6, 1, 1, 2, 8, 9, 7, 6, 1, 3, 0, 6, 6, 5, 4, 1, 4, 9, 0, 1, 3, 2, 1, 4, 7, 3, 9, 9, 8, 2, 2, 7, 8, 2, 9, 0, 8, 4, 4, 3, 9, 4, 0, 8, 6, 3, 1, 1, 6, 8, 6, 9, 6, 2, 2, 9, 2, 9, 5, 9, 6, 2, 7, 8, 6, 9, 2, 3, 4, 7, 1, 0, 0, 6, 8, 6, 3, 3, 4, 0, 7, 8, 0, 0, 9, 4, 0, 3, 3, 1, 2, 5, 4, 3, 3, 4, 0, 1, 1, 5, 1, 0, 9, 0, 4, 8, 7, 6, 7, 0, 8, 3, 6, 2, 8, 8, 6, 8, 0, 4, 1, 8, 0, 5, 6, 2, 0, 3, 5, 8, 4, 0, 4, 7, 6, 3, 1, 3, 2, 8, 4, 3, 7, 2, 2, 5, 9, 4, 9, 0, 5, 9, 1, 2, 4, 4, 1, 1, 5, 4, 8, 7, 6, 1, 7, 8, 2, 7, 1, 3, 5, 3, 7, 0, 7, 9, 8, 6, 1, 0, 8, 6, 5, 0, 7, 0, 5, 0, 7, 9, 1, 4, 0, 2, 9, 4, 5, 2, 2, 2, 3, 9, 4, 5, 8, 1, 1, 7, 1, 6, 4, 7, 5, 1, 3, 1, 7, 1, 7, 2, 7, 4, 7, 6, 5, 5, 9, 3, 2, 6, 6, 8, 1, 9, 9, 6, 6, 1, 3, 0, 1, 0, 8, 6, 7, 2, 3, 5, 7, 5, 8, 1, 2, 4, 5, 1, 8, 3, 8, 6, 5, 7, 9, 7, 0, 8, 5, 1, 6, 7, 1, 9, 5, 9, 2, 2, 6, 3, 2, 8, 1, 6, 9, 8, 3, 5, 2, 4, 6, 4, 7, 7, 7, 4, 9, 6, 3, 8, 5, 9, 4, 9, 3, 3, 6, 6, 5, 5, 7, 3, 4, 2, 9, 1, 0, 2, 6, 2, 1, 9, 5, 7, 7, 3, 7, 0, 9, 1, 5, 5, 3, 6, 9, 9, 9, 7, 0, 7, 8, 9, 1, 8, 2, 7, 5, 5, 9, 8, 2, 2, 0, 3, 9, 1, 6, 3, 5, 2, 5, 2, 9, 3, 8, 4, 4, 7, 5, 7, 5, 4, 6, 0, 3, 8, 7, 5, 6, 0, 9, 4, 5, 7, 8, 9, 1, 6, 6, 4, 1, 6, 5, 1, 0, 4, 1, 0, 3, 9, 4, 5, 0, 3, 5, 2, 1, 3, 4, 3, 1, 9]\n"
          ]
        }
      ]
    },
    {
      "cell_type": "markdown",
      "source": [
        "#### Calculate Accuracy "
      ],
      "metadata": {
        "id": "bHPKM7otpwXI"
      }
    },
    {
      "cell_type": "code",
      "source": [
        "def accuracy(predicted_labels, true_labels): \n",
        "  correct = 0 \n",
        "  for idx in range(len(predicted_labels)): \n",
        "    if predicted_labels[idx] == true_labels[idx]: \n",
        "      correct += 1 \n",
        "  accuracyVal = correct / len(true_labels) * 100 \n",
        "  return accuracyVal \n",
        "\n",
        "accuracyVal = accuracy(predicted_val, actual_val)\n",
        "print(accuracyVal)"
      ],
      "metadata": {
        "id": "58d4hZzeJVAK",
        "colab": {
          "base_uri": "https://localhost:8080/"
        },
        "outputId": "37855468-55fe-4116-8344-7b7e3aed3a89"
      },
      "execution_count": null,
      "outputs": [
        {
          "output_type": "stream",
          "name": "stdout",
          "text": [
            "80.4\n"
          ]
        }
      ]
    },
    {
      "cell_type": "markdown",
      "source": [
        "#### Driver Code to find number of Epochs \n",
        "(for good generalisation)"
      ],
      "metadata": {
        "id": "DXK1_rM-9TJu"
      }
    },
    {
      "cell_type": "code",
      "source": [
        "def driver_epoch(train_data, val_data): \n",
        "  for num_epochs in [5, 10, 20, 30, 40, 50]: \n",
        "    epoch_losses, batch_losses, trained_model, loss_function = train_function(num_epochs, train_data) \n",
        "    predicted_val, actual_val = test_function(val_data, trained_model, loss_function) \n",
        "    accuracyValue = accuracy(predicted_val, actual_val) \n",
        "    print('number of epochs: {} | accuracy: {} '.format(num_epochs, accuracyValue))\n",
        "\n",
        "val_ratio = 0.1 \n",
        "train_data, val_data = torch.utils.data.random_split(trainset, (int(len(trainset)*(1-val_ratio)), int(len(trainset)*val_ratio)))\n",
        "driver_epoch(train_data, val_data)\n"
      ],
      "metadata": {
        "id": "GRdpOJjoY3QV",
        "colab": {
          "base_uri": "https://localhost:8080/"
        },
        "outputId": "68eb3201-d830-4a86-8b6a-68babe2c607b"
      },
      "execution_count": null,
      "outputs": [
        {
          "output_type": "stream",
          "name": "stdout",
          "text": [
            "number of epochs: 5 | accuracy: 91.10000000000001 \n",
            "number of epochs: 10 | accuracy: 93.21666666666667 \n",
            "number of epochs: 20 | accuracy: 95.91666666666666 \n",
            "number of epochs: 30 | accuracy: 96.65 \n",
            "number of epochs: 40 | accuracy: 97.28333333333333 \n",
            "number of epochs: 50 | accuracy: 97.56666666666666 \n"
          ]
        }
      ]
    },
    {
      "cell_type": "code",
      "source": [
        "epoch_losses, batch_losses, trained_model, loss_function = train_function(50, train_data)"
      ],
      "metadata": {
        "colab": {
          "base_uri": "https://localhost:8080/",
          "height": 170
        },
        "id": "RL0lFL-l96z7",
        "outputId": "34e3eb68-73d6-414a-8756-b73a43b56e5b"
      },
      "execution_count": null,
      "outputs": [
        {
          "output_type": "error",
          "ename": "NameError",
          "evalue": "ignored",
          "traceback": [
            "\u001b[0;31m---------------------------------------------------------------------------\u001b[0m",
            "\u001b[0;31mNameError\u001b[0m                                 Traceback (most recent call last)",
            "\u001b[0;32m<ipython-input-2-02bfc36d142c>\u001b[0m in \u001b[0;36m<module>\u001b[0;34m\u001b[0m\n\u001b[0;32m----> 1\u001b[0;31m \u001b[0mepoch_losses\u001b[0m\u001b[0;34m,\u001b[0m \u001b[0mbatch_losses\u001b[0m\u001b[0;34m,\u001b[0m \u001b[0mtrained_model\u001b[0m\u001b[0;34m,\u001b[0m \u001b[0mloss_function\u001b[0m \u001b[0;34m=\u001b[0m \u001b[0mtrain_function\u001b[0m\u001b[0;34m(\u001b[0m\u001b[0;36m50\u001b[0m\u001b[0;34m,\u001b[0m \u001b[0mtrain_data\u001b[0m\u001b[0;34m)\u001b[0m\u001b[0;34m\u001b[0m\u001b[0;34m\u001b[0m\u001b[0m\n\u001b[0m",
            "\u001b[0;31mNameError\u001b[0m: name 'train_data' is not defined"
          ]
        }
      ]
    },
    {
      "cell_type": "code",
      "source": [
        "import matplotlib.pyplot as plt \n",
        "batch_losses_val_y = [] \n",
        "epoch_losses_val_y = [] \n",
        "epochs = [5, 10, 20, 30, 40, 50]\n",
        "epoch_losses_val_x = []\n",
        "for ele in batch_losses: \n",
        "  batch_losses_val_y.append(ele.item()) \n",
        "batch_losses_val_x = [i for i in range(1, len(batch_losses) +1)]\n",
        "for idx in epochs: \n",
        "  val = (idx)*844 -1\n",
        "  epoch_losses_val_x.append(val)\n",
        "  epoch_losses_val_y.append(batch_losses_val_y[val])\n",
        "plt.plot(batch_losses_val_x, batch_losses_val_y, color = 'c', label = 'batch_loss')\n",
        "plt.plot(epoch_losses_val_x, epoch_losses_val_y, color = 'b', marker = 'o', label = 'epoch_loss') \n",
        "\n",
        "plt.legend() \n",
        "plt.ylabel(\"loss\")\n",
        "plt.xlabel(\"batches\")\n",
        "plt.title(\"Graph of calculated loss values against their corresponding batches\") \n",
        "plt.savefig('epochs') "
      ],
      "metadata": {
        "colab": {
          "base_uri": "https://localhost:8080/",
          "height": 295
        },
        "id": "Ci-Tufjk1Rqz",
        "outputId": "6df3ce6f-ddef-4cc1-82f8-1bf19ed7a8a9"
      },
      "execution_count": null,
      "outputs": [
        {
          "output_type": "display_data",
          "data": {
            "text/plain": [
              "<Figure size 432x288 with 1 Axes>"
            ],
            "image/png": "[encoded data removed]"
          },
          "metadata": {
            "needs_background": "light"
          }
        }
      ]
    },
    {
      "cell_type": "markdown",
      "source": [
        "#### Choosing Hyperparameters -- Learning Rate & Weight Decay "
      ],
      "metadata": {
        "id": "r2HAsIgnT-Rg"
      }
    },
    {
      "cell_type": "code",
      "source": [
        "def train_function_hyperparameters(num_epochs, train_data, learning_rate, weight_decay): \n",
        "   \n",
        "  model = TwoLayerMLP() \n",
        "  optimizer = torch.optim.SGD(model.parameters(), lr = learning_rate, weight_decay = weight_decay) \n",
        "  loss_function = torch.nn.CrossEntropyLoss() \n",
        "\n",
        "  batch_losses = [] \n",
        "  for epoch in range(num_epochs): \n",
        "    model = model.train() \n",
        "    train_loader = torch.utils.data.DataLoader(train_data, shuffle = True, batch_size = 64) \n",
        "    # shuffles train data before every epoch \n",
        "    \n",
        "    for count, (input_data, labels) in enumerate(train_loader):  \n",
        "\n",
        "      # reshape the data \n",
        "      input_data = input_data.view(input_data.size(0), -1)\n",
        "      labels = labels  # .cuda \n",
        "\n",
        "      # feed data into model and calculate loss function \n",
        "      y_pred = model(input_data)  # do not put argmax here! \n",
        "                                  # -- argmax is not differentiable and would not train the model! \n",
        "      loss = loss_function(y_pred, labels)\n",
        "\n",
        "      # backpropagate the calculated loss and update weights \n",
        "      loss.backward() \n",
        "      batch_losses.append(loss)  # keeps track of loss for each batch \n",
        "      optimizer.step() \n",
        "      optimizer.zero_grad() \n",
        "    print('Epoch: {} | Loss: {}\\n'.format(epoch, loss))\n",
        "  return batch_losses, model, loss_function "
      ],
      "metadata": {
        "id": "2_y5CPmKo0q1"
      },
      "execution_count": null,
      "outputs": []
    },
    {
      "cell_type": "code",
      "source": [
        "import torch.distributions as distrib \n",
        "def driver_overfit_smallbatch(train_data, val_data): \n",
        "\n",
        "  # get random value from log-uniform distribution \n",
        "  # obtained from https://github.com/pytorch/pytorch/issues/11412\n",
        "  class LogUniform(distrib.TransformedDistribution): \n",
        "    def __init__(self, lb, ub): \n",
        "      super(LogUniform, self).__init__(distrib.Uniform(lb.log(), ub.log()), distrib.ExpTransform())\n",
        "\n",
        "  # good learning rate to try: 1e-1, 1e-2, 1e-3, 1e-4, 1e-5 \n",
        "  LRdist = LogUniform(torch.tensor(1e-4), torch.tensor(1e-1))\n",
        "  lr = LRdist.sample()\n",
        "\n",
        "  # good weight decay to try: 1e-4, 1e-5 \n",
        "  weightDist = LogUniform(torch.tensor(1e-5), torch.tensor(1e-4))\n",
        "  weight_decay = weightDist.sample() \n",
        "\n",
        "  # train_function here accepts an additional input lr (learning rate)\n",
        "  batch_losses, trained_model, loss_function = train_function_hyperparameters(10, train_data, lr, weight_decay) \n",
        "  predicted_val, actual_val = test_function(val_data, trained_model, loss_function) \n",
        "  accuracy_val = accuracy(predicted_val, actual_val) \n",
        "\n",
        "  return accuracy_val, batch_losses, lr, weight_decay\n",
        "\n",
        "val_ratio = 0.1 \n",
        "train_data, val_data = torch.utils.data.random_split(trainset, (int(len(trainset)*(1-val_ratio)), int(len(trainset)*val_ratio)))\n",
        "accuracy_val, batch_losses, lr, weight_decay = driver_overfit_smallbatch(train_data, val_data)\n",
        "print('learning rate: {} | weight decay: {} | accuracy: {}'.format(lr, weight_decay, accuracy_val))"
      ],
      "metadata": {
        "colab": {
          "base_uri": "https://localhost:8080/"
        },
        "id": "KF3xqTHMaGmU",
        "outputId": "ee8c0160-c4e7-4a96-c078-699276e28f50"
      },
      "execution_count": null,
      "outputs": [
        {
          "output_type": "stream",
          "name": "stdout",
          "text": [
            "Epoch: 0 | Loss: 2.099652051925659\n",
            "\n",
            "Epoch: 1 | Loss: 1.175869107246399\n",
            "\n",
            "Epoch: 2 | Loss: 0.597813069820404\n",
            "\n",
            "Epoch: 3 | Loss: 0.4685401916503906\n",
            "\n",
            "Epoch: 4 | Loss: 0.5890690684318542\n",
            "\n",
            "Epoch: 5 | Loss: 0.6518855094909668\n",
            "\n",
            "Epoch: 6 | Loss: 0.3321289122104645\n",
            "\n",
            "Epoch: 7 | Loss: 0.34370896220207214\n",
            "\n",
            "Epoch: 8 | Loss: 0.43944990634918213\n",
            "\n",
            "Epoch: 9 | Loss: 0.29980847239494324\n",
            "\n",
            "learning rate: 0.0037557834293693304 | weight decay: 2.3001706722425297e-05 | accuracy: 90.51666666666667\n"
          ]
        }
      ]
    },
    {
      "cell_type": "code",
      "source": [
        "import matplotlib.pyplot as plt \n",
        "batch_losses_val_y = [] \n",
        "for ele in batch_losses: \n",
        "  batch_losses_val_y.append(ele.item()) \n",
        "plt.plot(batch_losses_val_y)\n",
        "plt.xlabel(\"batches\")\n",
        "plt.ylabel(\"loss\")"
      ],
      "metadata": {
        "colab": {
          "base_uri": "https://localhost:8080/",
          "height": 297
        },
        "id": "YSIUHBNRaL1M",
        "outputId": "a29e78b4-7f48-479f-fddc-cf33e804f693"
      },
      "execution_count": null,
      "outputs": [
        {
          "output_type": "execute_result",
          "data": {
            "text/plain": [
              "Text(0, 0.5, 'loss')"
            ]
          },
          "metadata": {},
          "execution_count": 105
        },
        {
          "output_type": "display_data",
          "data": {
            "text/plain": [
              "<Figure size 432x288 with 1 Axes>"
            ],
            "image/png": "[encoded data removed]"
          },
          "metadata": {
            "needs_background": "light"
          }
        }
      ]
    },
    {
      "cell_type": "markdown",
      "source": [
        "#### Final Test Accuracy "
      ],
      "metadata": {
        "id": "x6tdcKWzJw9K"
      }
    },
    {
      "cell_type": "code",
      "source": [
        "def final(num_epochs, lr, weight_decay, train_data, test_data): \n",
        "  batch_losses, trained_model, loss_function = train_function_hyperparameters(num_epochs, train_data, lr, weight_decay) \n",
        "  predicted_val, actual_val = test_function(test_data, trained_model, loss_function) \n",
        "  accuracy_val = accuracy(predicted_val, actual_val) \n",
        "\n",
        "  return accuracy_val, batch_losses \n",
        "\n",
        "# split train into train and validation \n",
        "val_ratio = 0.1 \n",
        "train_data, val_data = torch.utils.data.random_split(trainset, (int(len(trainset)*(1-val_ratio)), int(len(trainset)*val_ratio)))\n",
        "test_data = testset \n",
        "\n",
        "# train model \n",
        "num_epochs = 30 \n",
        "lr = 0.027820 \n",
        "weight_decay = 3.3622e-05\n",
        "accuracy_val, batch_losses = final(num_epochs, lr, weight_decay, train_data, test_data)\n",
        "print('accuracy: {}'.format(accuracy_val))"
      ],
      "metadata": {
        "colab": {
          "base_uri": "https://localhost:8080/"
        },
        "id": "e3jqEL9KHVCC",
        "outputId": "51fc6d1c-b054-4704-b0a5-fb31c843c79a"
      },
      "execution_count": null,
      "outputs": [
        {
          "output_type": "stream",
          "name": "stdout",
          "text": [
            "Epoch: 0 | Loss: 0.40981557965278625\n",
            "\n",
            "Epoch: 1 | Loss: 0.25484058260917664\n",
            "\n",
            "Epoch: 2 | Loss: 0.11916176229715347\n",
            "\n",
            "Epoch: 3 | Loss: 0.19158776104450226\n",
            "\n",
            "Epoch: 4 | Loss: 0.15766291320323944\n",
            "\n",
            "Epoch: 5 | Loss: 0.388403981924057\n",
            "\n",
            "Epoch: 6 | Loss: 0.2933134138584137\n",
            "\n",
            "Epoch: 7 | Loss: 0.11501971632242203\n",
            "\n",
            "Epoch: 8 | Loss: 0.08663450926542282\n",
            "\n",
            "Epoch: 9 | Loss: 0.32671406865119934\n",
            "\n",
            "Epoch: 10 | Loss: 0.12942694127559662\n",
            "\n",
            "Epoch: 11 | Loss: 0.013431544415652752\n",
            "\n",
            "Epoch: 12 | Loss: 0.07791896164417267\n",
            "\n",
            "Epoch: 13 | Loss: 0.08211163431406021\n",
            "\n",
            "Epoch: 14 | Loss: 0.18534673750400543\n",
            "\n",
            "Epoch: 15 | Loss: 0.08186078816652298\n",
            "\n",
            "Epoch: 16 | Loss: 0.15622536838054657\n",
            "\n",
            "Epoch: 17 | Loss: 0.03590629622340202\n",
            "\n",
            "Epoch: 18 | Loss: 0.04338592290878296\n",
            "\n",
            "Epoch: 19 | Loss: 0.03713003918528557\n",
            "\n",
            "Epoch: 20 | Loss: 0.16216008365154266\n",
            "\n",
            "Epoch: 21 | Loss: 0.020043766126036644\n",
            "\n",
            "Epoch: 22 | Loss: 0.0029382621869444847\n",
            "\n",
            "Epoch: 23 | Loss: 0.11569424718618393\n",
            "\n",
            "Epoch: 24 | Loss: 0.12287165969610214\n",
            "\n",
            "Epoch: 25 | Loss: 0.020822204649448395\n",
            "\n",
            "Epoch: 26 | Loss: 0.025463059544563293\n",
            "\n",
            "Epoch: 27 | Loss: 0.015633894130587578\n",
            "\n",
            "Epoch: 28 | Loss: 0.053643375635147095\n",
            "\n",
            "Epoch: 29 | Loss: 0.034442026168107986\n",
            "\n",
            "accuracy: 97.43333333333334\n"
          ]
        }
      ]
    },
    {
      "cell_type": "code",
      "source": [
        "import matplotlib.pyplot as plt \n",
        "batch_losses_val_y = [] \n",
        "for ele in batch_losses: \n",
        "  batch_losses_val_y.append(ele.item()) \n",
        "plt.plot(batch_losses_val_y)\n",
        "plt.xlabel(\"batches\")\n",
        "plt.ylabel(\"loss\")"
      ],
      "metadata": {
        "colab": {
          "base_uri": "https://localhost:8080/",
          "height": 297
        },
        "id": "Xdcgfk7tJ5BR",
        "outputId": "52449596-6afa-4dd1-f0eb-146425e269d3"
      },
      "execution_count": null,
      "outputs": [
        {
          "output_type": "execute_result",
          "data": {
            "text/plain": [
              "Text(0, 0.5, 'loss')"
            ]
          },
          "metadata": {},
          "execution_count": 107
        },
        {
          "output_type": "display_data",
          "data": {
            "text/plain": [
              "<Figure size 432x288 with 1 Axes>"
            ],
            "image/png": "[encoded data removed]"
          },
          "metadata": {
            "needs_background": "light"
          }
        }
      ]
    },
    {
      "cell_type": "code",
      "source": [],
      "metadata": {
        "id": "TuKlIDBVM2GP"
      },
      "execution_count": null,
      "outputs": []
    }
  ]
}